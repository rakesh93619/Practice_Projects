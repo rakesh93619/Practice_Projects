{
 "cells": [
  {
   "cell_type": "markdown",
   "id": "590ff208",
   "metadata": {},
   "source": [
    "# Problem Statement:\n",
    "\n",
    " The Titanic Problem is based on the sinking of the ‘Unsinkable’ ship Titanic in early 1912. It gives you information about multiple people like their ages, sexes, sibling counts, embarkment points, and whether or not they survived the disaster. Based on these features, you have to predict if an arbitrary passenger on Titanic would survive the sinking or not."
   ]
  },
  {
   "cell_type": "code",
   "execution_count": 1,
   "id": "31002893",
   "metadata": {},
   "outputs": [],
   "source": [
    "import numpy as np\n",
    "import pandas as pd"
   ]
  },
  {
   "cell_type": "code",
   "execution_count": 2,
   "id": "13439299",
   "metadata": {
    "scrolled": true
   },
   "outputs": [
    {
     "data": {
      "text/html": [
       "<div>\n",
       "<style scoped>\n",
       "    .dataframe tbody tr th:only-of-type {\n",
       "        vertical-align: middle;\n",
       "    }\n",
       "\n",
       "    .dataframe tbody tr th {\n",
       "        vertical-align: top;\n",
       "    }\n",
       "\n",
       "    .dataframe thead th {\n",
       "        text-align: right;\n",
       "    }\n",
       "</style>\n",
       "<table border=\"1\" class=\"dataframe\">\n",
       "  <thead>\n",
       "    <tr style=\"text-align: right;\">\n",
       "      <th></th>\n",
       "      <th>PassengerId</th>\n",
       "      <th>Survived</th>\n",
       "      <th>Pclass</th>\n",
       "      <th>Name</th>\n",
       "      <th>Sex</th>\n",
       "      <th>Age</th>\n",
       "      <th>SibSp</th>\n",
       "      <th>Parch</th>\n",
       "      <th>Ticket</th>\n",
       "      <th>Fare</th>\n",
       "      <th>Cabin</th>\n",
       "      <th>Embarked</th>\n",
       "    </tr>\n",
       "  </thead>\n",
       "  <tbody>\n",
       "    <tr>\n",
       "      <th>0</th>\n",
       "      <td>1</td>\n",
       "      <td>0</td>\n",
       "      <td>3</td>\n",
       "      <td>Braund, Mr. Owen Harris</td>\n",
       "      <td>male</td>\n",
       "      <td>22.0</td>\n",
       "      <td>1</td>\n",
       "      <td>0</td>\n",
       "      <td>A/5 21171</td>\n",
       "      <td>7.2500</td>\n",
       "      <td>NaN</td>\n",
       "      <td>S</td>\n",
       "    </tr>\n",
       "    <tr>\n",
       "      <th>1</th>\n",
       "      <td>2</td>\n",
       "      <td>1</td>\n",
       "      <td>1</td>\n",
       "      <td>Cumings, Mrs. John Bradley (Florence Briggs Th...</td>\n",
       "      <td>female</td>\n",
       "      <td>38.0</td>\n",
       "      <td>1</td>\n",
       "      <td>0</td>\n",
       "      <td>PC 17599</td>\n",
       "      <td>71.2833</td>\n",
       "      <td>C85</td>\n",
       "      <td>C</td>\n",
       "    </tr>\n",
       "    <tr>\n",
       "      <th>2</th>\n",
       "      <td>3</td>\n",
       "      <td>1</td>\n",
       "      <td>3</td>\n",
       "      <td>Heikkinen, Miss. Laina</td>\n",
       "      <td>female</td>\n",
       "      <td>26.0</td>\n",
       "      <td>0</td>\n",
       "      <td>0</td>\n",
       "      <td>STON/O2. 3101282</td>\n",
       "      <td>7.9250</td>\n",
       "      <td>NaN</td>\n",
       "      <td>S</td>\n",
       "    </tr>\n",
       "    <tr>\n",
       "      <th>3</th>\n",
       "      <td>4</td>\n",
       "      <td>1</td>\n",
       "      <td>1</td>\n",
       "      <td>Futrelle, Mrs. Jacques Heath (Lily May Peel)</td>\n",
       "      <td>female</td>\n",
       "      <td>35.0</td>\n",
       "      <td>1</td>\n",
       "      <td>0</td>\n",
       "      <td>113803</td>\n",
       "      <td>53.1000</td>\n",
       "      <td>C123</td>\n",
       "      <td>S</td>\n",
       "    </tr>\n",
       "    <tr>\n",
       "      <th>4</th>\n",
       "      <td>5</td>\n",
       "      <td>0</td>\n",
       "      <td>3</td>\n",
       "      <td>Allen, Mr. William Henry</td>\n",
       "      <td>male</td>\n",
       "      <td>35.0</td>\n",
       "      <td>0</td>\n",
       "      <td>0</td>\n",
       "      <td>373450</td>\n",
       "      <td>8.0500</td>\n",
       "      <td>NaN</td>\n",
       "      <td>S</td>\n",
       "    </tr>\n",
       "  </tbody>\n",
       "</table>\n",
       "</div>"
      ],
      "text/plain": [
       "   PassengerId  Survived  Pclass  \\\n",
       "0            1         0       3   \n",
       "1            2         1       1   \n",
       "2            3         1       3   \n",
       "3            4         1       1   \n",
       "4            5         0       3   \n",
       "\n",
       "                                                Name     Sex   Age  SibSp  \\\n",
       "0                            Braund, Mr. Owen Harris    male  22.0      1   \n",
       "1  Cumings, Mrs. John Bradley (Florence Briggs Th...  female  38.0      1   \n",
       "2                             Heikkinen, Miss. Laina  female  26.0      0   \n",
       "3       Futrelle, Mrs. Jacques Heath (Lily May Peel)  female  35.0      1   \n",
       "4                           Allen, Mr. William Henry    male  35.0      0   \n",
       "\n",
       "   Parch            Ticket     Fare Cabin Embarked  \n",
       "0      0         A/5 21171   7.2500   NaN        S  \n",
       "1      0          PC 17599  71.2833   C85        C  \n",
       "2      0  STON/O2. 3101282   7.9250   NaN        S  \n",
       "3      0            113803  53.1000  C123        S  \n",
       "4      0            373450   8.0500   NaN        S  "
      ]
     },
     "execution_count": 2,
     "metadata": {},
     "output_type": "execute_result"
    }
   ],
   "source": [
    "titanic=pd.read_csv('titanic_train.csv')\n",
    "titanic.head()"
   ]
  },
  {
   "cell_type": "code",
   "execution_count": 3,
   "id": "55379536",
   "metadata": {},
   "outputs": [
    {
     "data": {
      "text/plain": [
       "['PassengerId',\n",
       " 'Survived',\n",
       " 'Pclass',\n",
       " 'Name',\n",
       " 'Sex',\n",
       " 'Age',\n",
       " 'SibSp',\n",
       " 'Parch',\n",
       " 'Ticket',\n",
       " 'Fare',\n",
       " 'Cabin',\n",
       " 'Embarked']"
      ]
     },
     "execution_count": 3,
     "metadata": {},
     "output_type": "execute_result"
    }
   ],
   "source": [
    "titanic.columns.tolist()"
   ]
  },
  {
   "cell_type": "markdown",
   "id": "8f393dc6",
   "metadata": {},
   "source": [
    "## About the variables:\n",
    "- `PassengerId` is the unique id of the row and it doesn't have any effect on target\n",
    "- `Survived` is the target variable we are trying to predict (0 or 1):\n",
    "\n",
    "1 = Survived\n",
    "\n",
    "0 = Not Survived\n",
    "- `Pclass` (Passenger Class) is the socio-economic status of the passenger and it is a categorical ordinal feature which has 3 unique values (1, 2 or 3):\n",
    "\n",
    "1 = Upper Class\n",
    "\n",
    "2 = Middle Class\n",
    "\n",
    "3 = Lower Class\n",
    "- `Name`, Sex and Age are self-explanatory\n",
    "- `SibSp` is the total number of the passengers' siblings and spouse\n",
    "- `Parch` is the total number of the passengers' parents and children\n",
    "- `Ticket` is the ticket number of the passenger\n",
    "- `Fare` is the passenger fare\n",
    "- `Cabin` is the cabin number of the passenger\n",
    "- `Embarked` is port of embarkation and it is a categorical feature which has 3 unique values (C, Q or S):\n",
    "\n",
    "C = Cherbourg\n",
    "\n",
    "Q = Queenstown\n",
    "\n",
    "S = Southampton\n",
    "\n",
    "\n",
    "## Little bit about features"
   ]
  },
  {
   "cell_type": "code",
   "execution_count": 4,
   "id": "b5730328",
   "metadata": {},
   "outputs": [
    {
     "name": "stdout",
     "output_type": "stream",
     "text": [
      "The shape of our dataset is :  (891, 12)\n",
      "\n",
      "\n",
      "<class 'pandas.core.frame.DataFrame'>\n",
      "RangeIndex: 891 entries, 0 to 890\n",
      "Data columns (total 12 columns):\n",
      " #   Column       Non-Null Count  Dtype  \n",
      "---  ------       --------------  -----  \n",
      " 0   PassengerId  891 non-null    int64  \n",
      " 1   Survived     891 non-null    int64  \n",
      " 2   Pclass       891 non-null    int64  \n",
      " 3   Name         891 non-null    object \n",
      " 4   Sex          891 non-null    object \n",
      " 5   Age          714 non-null    float64\n",
      " 6   SibSp        891 non-null    int64  \n",
      " 7   Parch        891 non-null    int64  \n",
      " 8   Ticket       891 non-null    object \n",
      " 9   Fare         891 non-null    float64\n",
      " 10  Cabin        204 non-null    object \n",
      " 11  Embarked     889 non-null    object \n",
      "dtypes: float64(2), int64(5), object(5)\n",
      "memory usage: 83.7+ KB\n",
      "None\n",
      "**************************************************\n",
      "PassengerId      0\n",
      "Survived         0\n",
      "Pclass           0\n",
      "Name             0\n",
      "Sex              0\n",
      "Age            177\n",
      "SibSp            0\n",
      "Parch            0\n",
      "Ticket           0\n",
      "Fare             0\n",
      "Cabin          687\n",
      "Embarked         2\n",
      "dtype: int64\n"
     ]
    }
   ],
   "source": [
    "print('The shape of our dataset is : ',titanic.shape)\n",
    "print('\\n')\n",
    "print(titanic.info())\n",
    "print('*'*50)\n",
    "print(titanic.isnull().sum())"
   ]
  },
  {
   "cell_type": "markdown",
   "id": "2bf2ae0f",
   "metadata": {},
   "source": [
    "With above output\n",
    "\n",
    "We can clearly say that there are 891 rows and 11 columns including Target.\n",
    "\n",
    "`Age` and `Fare` columns having continuous data also the type of these are float data type.\n",
    "\n",
    "`Name`, `Sex`, `Ticket`,`Cabin`and `Embarked` columns have object data type.\n",
    "\n",
    "`PassengerID`,`PCclass`,`SibSp` and `Parch` columns have integer data type.\n",
    "\n",
    "And the last one `Survived` is our target level. Here 0 for death and 1 for live i.e. we have to predict binary classification.\n",
    "\n",
    "Also we can see that some columns have huge number of missing values.\n",
    "- `Age` has 177 missing age rows.\n",
    "- `Cabin` has 687 missing Cabin rows.\n",
    "- `Embarked` has only 2 missing embarked rows.\n",
    "\n",
    "###### to better understand the numeric data, we want to use the .describe() method. This gives us an understanding of the central tendencies of the data."
   ]
  },
  {
   "cell_type": "code",
   "execution_count": 5,
   "id": "50e07da0",
   "metadata": {},
   "outputs": [
    {
     "data": {
      "text/html": [
       "<div>\n",
       "<style scoped>\n",
       "    .dataframe tbody tr th:only-of-type {\n",
       "        vertical-align: middle;\n",
       "    }\n",
       "\n",
       "    .dataframe tbody tr th {\n",
       "        vertical-align: top;\n",
       "    }\n",
       "\n",
       "    .dataframe thead th {\n",
       "        text-align: right;\n",
       "    }\n",
       "</style>\n",
       "<table border=\"1\" class=\"dataframe\">\n",
       "  <thead>\n",
       "    <tr style=\"text-align: right;\">\n",
       "      <th></th>\n",
       "      <th>PassengerId</th>\n",
       "      <th>Survived</th>\n",
       "      <th>Pclass</th>\n",
       "      <th>Age</th>\n",
       "      <th>SibSp</th>\n",
       "      <th>Parch</th>\n",
       "      <th>Fare</th>\n",
       "    </tr>\n",
       "  </thead>\n",
       "  <tbody>\n",
       "    <tr>\n",
       "      <th>count</th>\n",
       "      <td>891.000000</td>\n",
       "      <td>891.000000</td>\n",
       "      <td>891.000000</td>\n",
       "      <td>714.000000</td>\n",
       "      <td>891.000000</td>\n",
       "      <td>891.000000</td>\n",
       "      <td>891.000000</td>\n",
       "    </tr>\n",
       "    <tr>\n",
       "      <th>mean</th>\n",
       "      <td>446.000000</td>\n",
       "      <td>0.383838</td>\n",
       "      <td>2.308642</td>\n",
       "      <td>29.699118</td>\n",
       "      <td>0.523008</td>\n",
       "      <td>0.381594</td>\n",
       "      <td>32.204208</td>\n",
       "    </tr>\n",
       "    <tr>\n",
       "      <th>std</th>\n",
       "      <td>257.353842</td>\n",
       "      <td>0.486592</td>\n",
       "      <td>0.836071</td>\n",
       "      <td>14.526497</td>\n",
       "      <td>1.102743</td>\n",
       "      <td>0.806057</td>\n",
       "      <td>49.693429</td>\n",
       "    </tr>\n",
       "    <tr>\n",
       "      <th>min</th>\n",
       "      <td>1.000000</td>\n",
       "      <td>0.000000</td>\n",
       "      <td>1.000000</td>\n",
       "      <td>0.420000</td>\n",
       "      <td>0.000000</td>\n",
       "      <td>0.000000</td>\n",
       "      <td>0.000000</td>\n",
       "    </tr>\n",
       "    <tr>\n",
       "      <th>25%</th>\n",
       "      <td>223.500000</td>\n",
       "      <td>0.000000</td>\n",
       "      <td>2.000000</td>\n",
       "      <td>20.125000</td>\n",
       "      <td>0.000000</td>\n",
       "      <td>0.000000</td>\n",
       "      <td>7.910400</td>\n",
       "    </tr>\n",
       "    <tr>\n",
       "      <th>50%</th>\n",
       "      <td>446.000000</td>\n",
       "      <td>0.000000</td>\n",
       "      <td>3.000000</td>\n",
       "      <td>28.000000</td>\n",
       "      <td>0.000000</td>\n",
       "      <td>0.000000</td>\n",
       "      <td>14.454200</td>\n",
       "    </tr>\n",
       "    <tr>\n",
       "      <th>75%</th>\n",
       "      <td>668.500000</td>\n",
       "      <td>1.000000</td>\n",
       "      <td>3.000000</td>\n",
       "      <td>38.000000</td>\n",
       "      <td>1.000000</td>\n",
       "      <td>0.000000</td>\n",
       "      <td>31.000000</td>\n",
       "    </tr>\n",
       "    <tr>\n",
       "      <th>max</th>\n",
       "      <td>891.000000</td>\n",
       "      <td>1.000000</td>\n",
       "      <td>3.000000</td>\n",
       "      <td>80.000000</td>\n",
       "      <td>8.000000</td>\n",
       "      <td>6.000000</td>\n",
       "      <td>512.329200</td>\n",
       "    </tr>\n",
       "  </tbody>\n",
       "</table>\n",
       "</div>"
      ],
      "text/plain": [
       "       PassengerId    Survived      Pclass         Age       SibSp  \\\n",
       "count   891.000000  891.000000  891.000000  714.000000  891.000000   \n",
       "mean    446.000000    0.383838    2.308642   29.699118    0.523008   \n",
       "std     257.353842    0.486592    0.836071   14.526497    1.102743   \n",
       "min       1.000000    0.000000    1.000000    0.420000    0.000000   \n",
       "25%     223.500000    0.000000    2.000000   20.125000    0.000000   \n",
       "50%     446.000000    0.000000    3.000000   28.000000    0.000000   \n",
       "75%     668.500000    1.000000    3.000000   38.000000    1.000000   \n",
       "max     891.000000    1.000000    3.000000   80.000000    8.000000   \n",
       "\n",
       "            Parch        Fare  \n",
       "count  891.000000  891.000000  \n",
       "mean     0.381594   32.204208  \n",
       "std      0.806057   49.693429  \n",
       "min      0.000000    0.000000  \n",
       "25%      0.000000    7.910400  \n",
       "50%      0.000000   14.454200  \n",
       "75%      0.000000   31.000000  \n",
       "max      6.000000  512.329200  "
      ]
     },
     "execution_count": 5,
     "metadata": {},
     "output_type": "execute_result"
    }
   ],
   "source": [
    "titanic.describe()"
   ]
  },
  {
   "cell_type": "markdown",
   "id": "0841d664",
   "metadata": {},
   "source": [
    "### Data Dictionary\n",
    "- Survived: 0 = No, 1 = Yes\n",
    "- pclass: Ticket class 1 = 1st, 2 = 2nd, 3 = 3rd\n",
    "- sibsp: # of siblings / spouses aboard the Titanic\n",
    "- parch: # of parents / children aboard the Titanic\n",
    "- ticket: Ticket number\n",
    "- cabin: Cabin number\n",
    "- embarked: Port of Embarkation C = Cherbourg, Q = Queenstown, S = Southampton\n",
    "Total rows and columns\n",
    "\n",
    "We can see that there are 891 rows and 12 columns in our training dataset.\n",
    "\n",
    "\n",
    "### Statistics of Dataset.\n",
    "\n",
    "- PassengerID is a kind of identification of the passengers. This will not effect our Target variable so that's why  some where we will drop this.\n",
    "#### `Age`\n",
    "- Min:- 0.42\n",
    "- Max:- 80\n",
    "#### `Fare`\n",
    "- Min:- 0\n",
    "- Max:- 512\n",
    "\n",
    "`Age`and `Fare` columns have big difference from minimum to maximum. This could not be acceptable.\n",
    "\n",
    "## Let's Check the imbalancing of the data."
   ]
  },
  {
   "cell_type": "code",
   "execution_count": 6,
   "id": "ecc16991",
   "metadata": {},
   "outputs": [
    {
     "data": {
      "text/plain": [
       "0    0.616162\n",
       "1    0.383838\n",
       "Name: Survived, dtype: float64"
      ]
     },
     "execution_count": 6,
     "metadata": {},
     "output_type": "execute_result"
    }
   ],
   "source": [
    "titanic['Survived'].value_counts(normalize=True)"
   ]
  },
  {
   "cell_type": "code",
   "execution_count": 7,
   "id": "a0e49909",
   "metadata": {},
   "outputs": [
    {
     "data": {
      "text/plain": [
       "<AxesSubplot:xlabel='Survived', ylabel='count'>"
      ]
     },
     "execution_count": 7,
     "metadata": {},
     "output_type": "execute_result"
    },
    {
     "data": {
      "image/png": "[encoded data removed]",
      "text/plain": [
       "<Figure size 432x288 with 1 Axes>"
      ]
     },
     "metadata": {
      "needs_background": "light"
     },
     "output_type": "display_data"
    }
   ],
   "source": [
    "import matplotlib.pyplot as plt\n",
    "%matplotlib inline\n",
    "import seaborn as sns\n",
    "sns.countplot(x='Survived',data=titanic,)"
   ]
  },
  {
   "cell_type": "markdown",
   "id": "ee6fdf6b",
   "metadata": {},
   "source": [
    "From above output, we can see that almost 62% of the people in this dataset have died during this disaster. This is slightly less than the survived pepople but we can not say that our dataset is imbalance dataset.\n",
    "\n",
    "So we are good to go."
   ]
  },
  {
   "cell_type": "code",
   "execution_count": 8,
   "id": "4fcf9a61",
   "metadata": {},
   "outputs": [
    {
     "data": {
      "text/html": [
       "<div>\n",
       "<style scoped>\n",
       "    .dataframe tbody tr th:only-of-type {\n",
       "        vertical-align: middle;\n",
       "    }\n",
       "\n",
       "    .dataframe tbody tr th {\n",
       "        vertical-align: top;\n",
       "    }\n",
       "\n",
       "    .dataframe thead th {\n",
       "        text-align: right;\n",
       "    }\n",
       "</style>\n",
       "<table border=\"1\" class=\"dataframe\">\n",
       "  <thead>\n",
       "    <tr style=\"text-align: right;\">\n",
       "      <th></th>\n",
       "      <th>PassengerId</th>\n",
       "      <th>Survived</th>\n",
       "      <th>Pclass</th>\n",
       "      <th>Age</th>\n",
       "      <th>SibSp</th>\n",
       "      <th>Parch</th>\n",
       "      <th>Fare</th>\n",
       "    </tr>\n",
       "  </thead>\n",
       "  <tbody>\n",
       "    <tr>\n",
       "      <th>PassengerId</th>\n",
       "      <td>1.000000</td>\n",
       "      <td>-0.005007</td>\n",
       "      <td>-0.035144</td>\n",
       "      <td>0.036847</td>\n",
       "      <td>-0.057527</td>\n",
       "      <td>-0.001652</td>\n",
       "      <td>0.012658</td>\n",
       "    </tr>\n",
       "    <tr>\n",
       "      <th>Survived</th>\n",
       "      <td>-0.005007</td>\n",
       "      <td>1.000000</td>\n",
       "      <td>-0.338481</td>\n",
       "      <td>-0.077221</td>\n",
       "      <td>-0.035322</td>\n",
       "      <td>0.081629</td>\n",
       "      <td>0.257307</td>\n",
       "    </tr>\n",
       "    <tr>\n",
       "      <th>Pclass</th>\n",
       "      <td>-0.035144</td>\n",
       "      <td>-0.338481</td>\n",
       "      <td>1.000000</td>\n",
       "      <td>-0.369226</td>\n",
       "      <td>0.083081</td>\n",
       "      <td>0.018443</td>\n",
       "      <td>-0.549500</td>\n",
       "    </tr>\n",
       "    <tr>\n",
       "      <th>Age</th>\n",
       "      <td>0.036847</td>\n",
       "      <td>-0.077221</td>\n",
       "      <td>-0.369226</td>\n",
       "      <td>1.000000</td>\n",
       "      <td>-0.308247</td>\n",
       "      <td>-0.189119</td>\n",
       "      <td>0.096067</td>\n",
       "    </tr>\n",
       "    <tr>\n",
       "      <th>SibSp</th>\n",
       "      <td>-0.057527</td>\n",
       "      <td>-0.035322</td>\n",
       "      <td>0.083081</td>\n",
       "      <td>-0.308247</td>\n",
       "      <td>1.000000</td>\n",
       "      <td>0.414838</td>\n",
       "      <td>0.159651</td>\n",
       "    </tr>\n",
       "    <tr>\n",
       "      <th>Parch</th>\n",
       "      <td>-0.001652</td>\n",
       "      <td>0.081629</td>\n",
       "      <td>0.018443</td>\n",
       "      <td>-0.189119</td>\n",
       "      <td>0.414838</td>\n",
       "      <td>1.000000</td>\n",
       "      <td>0.216225</td>\n",
       "    </tr>\n",
       "    <tr>\n",
       "      <th>Fare</th>\n",
       "      <td>0.012658</td>\n",
       "      <td>0.257307</td>\n",
       "      <td>-0.549500</td>\n",
       "      <td>0.096067</td>\n",
       "      <td>0.159651</td>\n",
       "      <td>0.216225</td>\n",
       "      <td>1.000000</td>\n",
       "    </tr>\n",
       "  </tbody>\n",
       "</table>\n",
       "</div>"
      ],
      "text/plain": [
       "             PassengerId  Survived    Pclass       Age     SibSp     Parch  \\\n",
       "PassengerId     1.000000 -0.005007 -0.035144  0.036847 -0.057527 -0.001652   \n",
       "Survived       -0.005007  1.000000 -0.338481 -0.077221 -0.035322  0.081629   \n",
       "Pclass         -0.035144 -0.338481  1.000000 -0.369226  0.083081  0.018443   \n",
       "Age             0.036847 -0.077221 -0.369226  1.000000 -0.308247 -0.189119   \n",
       "SibSp          -0.057527 -0.035322  0.083081 -0.308247  1.000000  0.414838   \n",
       "Parch          -0.001652  0.081629  0.018443 -0.189119  0.414838  1.000000   \n",
       "Fare            0.012658  0.257307 -0.549500  0.096067  0.159651  0.216225   \n",
       "\n",
       "                 Fare  \n",
       "PassengerId  0.012658  \n",
       "Survived     0.257307  \n",
       "Pclass      -0.549500  \n",
       "Age          0.096067  \n",
       "SibSp        0.159651  \n",
       "Parch        0.216225  \n",
       "Fare         1.000000  "
      ]
     },
     "execution_count": 8,
     "metadata": {},
     "output_type": "execute_result"
    }
   ],
   "source": [
    "titanic.corr()\n"
   ]
  },
  {
   "cell_type": "markdown",
   "id": "20afe8f5",
   "metadata": {},
   "source": [
    "We can see that pclass has good replationship with Age and Fare. It could be helpful for feature engeneering.\n",
    "\n",
    "Let's First look into the Categorical columns.\n",
    " \n",
    " # Categorical Features:\n",
    "\n",
    "## pclass\n"
   ]
  },
  {
   "cell_type": "code",
   "execution_count": 9,
   "id": "445dd9de",
   "metadata": {},
   "outputs": [
    {
     "data": {
      "text/plain": [
       "Pclass\n",
       "1    0.629630\n",
       "2    0.472826\n",
       "3    0.242363\n",
       "Name: Survived, dtype: float64"
      ]
     },
     "execution_count": 9,
     "metadata": {},
     "output_type": "execute_result"
    }
   ],
   "source": [
    "titanic['Survived'].groupby(titanic['Pclass']).mean()"
   ]
  },
  {
   "cell_type": "markdown",
   "id": "e1a82db5",
   "metadata": {},
   "source": [
    "`Pclass` Class played a critical role in survival, as the survival rate decreased drastically for the lowest class. This variable is both useful and clean, and I will be treating it as a categorical variable."
   ]
  },
  {
   "cell_type": "code",
   "execution_count": 10,
   "id": "9b72a43f",
   "metadata": {},
   "outputs": [
    {
     "data": {
      "text/plain": [
       "<AxesSubplot:xlabel='Pclass', ylabel='count'>"
      ]
     },
     "execution_count": 10,
     "metadata": {},
     "output_type": "execute_result"
    },
    {
     "data": {
      "image/png": "[encoded data removed]",
      "text/plain": [
       "<Figure size 432x288 with 1 Axes>"
      ]
     },
     "metadata": {
      "needs_background": "light"
     },
     "output_type": "display_data"
    }
   ],
   "source": [
    "sns.countplot(x='Pclass',data=titanic,hue='Survived')"
   ]
  },
  {
   "cell_type": "markdown",
   "id": "4d59d3b0",
   "metadata": {},
   "source": [
    " We can see in the plotting that those passengers have class 3, the chances of survival of them is very low.\n",
    " \n",
    " ## Sex"
   ]
  },
  {
   "cell_type": "code",
   "execution_count": 11,
   "id": "b252856d",
   "metadata": {},
   "outputs": [
    {
     "name": "stdout",
     "output_type": "stream",
     "text": [
      "Survived - \n",
      " female    0.681287\n",
      "male      0.318713\n",
      "Name: Sex, dtype: float64\n",
      "\n",
      "\n",
      "Death - \n",
      " male      0.852459\n",
      "female    0.147541\n",
      "Name: Sex, dtype: float64\n"
     ]
    },
    {
     "data": {
      "image/png": "[encoded data removed]",
      "text/plain": [
       "<Figure size 432x288 with 1 Axes>"
      ]
     },
     "metadata": {
      "needs_background": "light"
     },
     "output_type": "display_data"
    }
   ],
   "source": [
    "live=titanic[titanic['Survived']==1]['Sex'].value_counts(normalize=True)\n",
    "dead=titanic[titanic['Survived']==0]['Sex'].value_counts(normalize=True)\n",
    "pd.DataFrame([live,dead],index=['Survived','Death']).plot.bar()\n",
    "\n",
    "print('Survived - \\n', live)\n",
    "print('\\n')\n",
    "print('Death - \\n',dead)\n",
    "\n",
    "\n",
    "import warnings as war\n",
    "war.filterwarnings('ignore')"
   ]
  },
  {
   "cell_type": "markdown",
   "id": "93df41c0",
   "metadata": {},
   "source": [
    "From the above graph,\n",
    "\n",
    "It will help us to find the chance of survival of any passenger based on his sex. If a new person found, and  is a female passenger then there is a good chance that she will be alive. And also we can see that The number of Death male passenger is very high.\n",
    "\n",
    "The Chart confirms Women more likely survivied than Men.\n",
    "\n",
    "# SibSp"
   ]
  },
  {
   "cell_type": "code",
   "execution_count": 12,
   "id": "62ec224e",
   "metadata": {},
   "outputs": [
    {
     "name": "stdout",
     "output_type": "stream",
     "text": [
      "Survived - \n",
      " 0    0.614035\n",
      "1    0.327485\n",
      "2    0.038012\n",
      "3    0.011696\n",
      "4    0.008772\n",
      "Name: SibSp, dtype: float64\n",
      "\n",
      "\n",
      "Death - \n",
      " 0    0.724954\n",
      "1    0.176685\n",
      "2    0.027322\n",
      "4    0.027322\n",
      "3    0.021858\n",
      "8    0.012750\n",
      "5    0.009107\n",
      "Name: SibSp, dtype: float64\n"
     ]
    },
    {
     "data": {
      "text/plain": [
       "<Figure size 1080x648 with 0 Axes>"
      ]
     },
     "metadata": {},
     "output_type": "display_data"
    },
    {
     "data": {
      "image/png": "[encoded data removed]",
      "text/plain": [
       "<Figure size 720x360 with 1 Axes>"
      ]
     },
     "metadata": {
      "needs_background": "light"
     },
     "output_type": "display_data"
    }
   ],
   "source": [
    "live=titanic[titanic['Survived']==1]['SibSp'].value_counts(normalize=True)\n",
    "dead=titanic[titanic['Survived']==0]['SibSp'].value_counts(normalize=True)\n",
    "plt.figure(figsize=(15,9))\n",
    "pd.DataFrame([live,dead],index=['Survived','Death']).plot.bar(stacked=True, figsize=(10,5))\n",
    "\n",
    "print('Survived - \\n', live)\n",
    "print('\\n')\n",
    "print('Death - \\n',dead)"
   ]
  },
  {
   "cell_type": "markdown",
   "id": "56e588b1",
   "metadata": {},
   "source": [
    "## Observation:\n",
    "- The Chart confirms a person aboarded with more than 2 parents or children more likely survived.\n",
    "- The Chart confirms a person aboarded alone more likely dead."
   ]
  },
  {
   "cell_type": "code",
   "execution_count": 13,
   "id": "59a07a74",
   "metadata": {},
   "outputs": [
    {
     "name": "stdout",
     "output_type": "stream",
     "text": [
      "Survived - \n",
      " S    0.638235\n",
      "C    0.273529\n",
      "Q    0.088235\n",
      "Name: Embarked, dtype: float64\n",
      "\n",
      "\n",
      "Death - \n",
      " S    0.777778\n",
      "C    0.136612\n",
      "Q    0.085610\n",
      "Name: Embarked, dtype: float64\n"
     ]
    },
    {
     "data": {
      "text/plain": [
       "<Figure size 1080x648 with 0 Axes>"
      ]
     },
     "metadata": {},
     "output_type": "display_data"
    },
    {
     "data": {
      "image/png": "[encoded data removed]",
      "text/plain": [
       "<Figure size 720x360 with 1 Axes>"
      ]
     },
     "metadata": {
      "needs_background": "light"
     },
     "output_type": "display_data"
    }
   ],
   "source": [
    "live=titanic[titanic['Survived']==1]['Embarked'].value_counts(normalize=True)\n",
    "dead=titanic[titanic['Survived']==0]['Embarked'].value_counts(normalize=True)\n",
    "plt.figure(figsize=(15,9))\n",
    "pd.DataFrame([live,dead],index=['Survived','Death']).plot.bar(stacked=True, figsize=(10,5))\n",
    "\n",
    "print('Survived - \\n', live)\n",
    "print('\\n')\n",
    "print('Death - \\n',dead)"
   ]
  },
  {
   "cell_type": "markdown",
   "id": "baf874e3",
   "metadata": {},
   "source": [
    "- The Chart confirms a person aboarded from C slightly more likely survived.\n",
    "- The Chart confirms a person aboarded from Q more likely dead.\n",
    "- The Chart confirms a person aboarded from S more likely dead.\n",
    "\n",
    "## Pclass and Sex vs Survived"
   ]
  },
  {
   "cell_type": "code",
   "execution_count": 14,
   "id": "9b7569d1",
   "metadata": {},
   "outputs": [
    {
     "data": {
      "text/plain": [
       "Text(0.5, 1.0, 'Pclass and Age VS Survived')"
      ]
     },
     "execution_count": 14,
     "metadata": {},
     "output_type": "execute_result"
    },
    {
     "data": {
      "image/png": "[encoded data removed]",
      "text/plain": [
       "<Figure size 1080x576 with 1 Axes>"
      ]
     },
     "metadata": {
      "needs_background": "light"
     },
     "output_type": "display_data"
    }
   ],
   "source": [
    "f,ax=plt.subplots(figsize=(15,8))\n",
    "sns.swarmplot(x='Pclass',y='Age', hue='Survived',data=titanic,ax=ax)\n",
    "ax.set_title('Pclass and Age VS Survived',fontsize=10)"
   ]
  },
  {
   "cell_type": "markdown",
   "id": "a5038c74",
   "metadata": {},
   "source": [
    "## Observations:\n",
    "\n",
    "- 1)The number of children increases with Pclass and the survival rate for passenegers below Age 10(i.e children) looks to be good irrespective of the Pclass.\n",
    "\n",
    "- 2)Survival chances for Passenegers aged 20-50 from Pclass1 is high. It means that if a person aged between 20 to 50 years and having passenger class 1 then there is a good chance of his survival."
   ]
  },
  {
   "cell_type": "code",
   "execution_count": 15,
   "id": "89d92f32",
   "metadata": {},
   "outputs": [
    {
     "data": {
      "text/plain": [
       "Text(0.5, 1.0, 'Sex and Age VS Survived')"
      ]
     },
     "execution_count": 15,
     "metadata": {},
     "output_type": "execute_result"
    },
    {
     "data": {
      "image/png": "[encoded data removed]",
      "text/plain": [
       "<Figure size 1080x576 with 1 Axes>"
      ]
     },
     "metadata": {
      "needs_background": "light"
     },
     "output_type": "display_data"
    }
   ],
   "source": [
    "f,ax=plt.subplots(figsize=(15,8))\n",
    "sns.swarmplot(x='Sex',y='Age', hue='Survived',data=titanic,ax=ax)\n",
    "ax.set_title('Sex and Age VS Survived',fontsize=10)"
   ]
  },
  {
   "cell_type": "markdown",
   "id": "879941d1",
   "metadata": {},
   "source": [
    "## Observation:\n",
    "- 1) We can see that women have high probabily of survival when they are between 15 to 40 years old.\n",
    "- 2) For men the probability of survival when they are 0 to 10 years i.e. children is high as well as for female.\n",
    "- 3) For men the probability of survival is very low when they are adult."
   ]
  },
  {
   "cell_type": "markdown",
   "id": "7b029823",
   "metadata": {},
   "source": [
    "# Feature Engineering\n",
    "\n",
    "Feature engineering refers to the process of using domain knowledge to select and transform the most relevant variables from raw data when creating a predictive model using machine learning or statistical modeling i.e. Feature engineering is the process of using domain knowledge of the data to create features (feature vectors) that make machine learning algorithms work.\n",
    "\n",
    "It is a fact that our machine learning understand only numerical data. So that's why we have to convert our object data into  numerical  data type.\n",
    "\n",
    "In this dataset Passengers name present as a feature and we already observe that female people have more  chances of survival than male passengers. So that's we will extract passengers gender and age from name feature.\n",
    "\n",
    "Let's do that.\n",
    "\n"
   ]
  },
  {
   "cell_type": "code",
   "execution_count": 16,
   "id": "37fb3a24",
   "metadata": {},
   "outputs": [
    {
     "data": {
      "text/plain": [
       "0                                Braund, Mr. Owen Harris\n",
       "1      Cumings, Mrs. John Bradley (Florence Briggs Th...\n",
       "2                                 Heikkinen, Miss. Laina\n",
       "3           Futrelle, Mrs. Jacques Heath (Lily May Peel)\n",
       "4                               Allen, Mr. William Henry\n",
       "                             ...                        \n",
       "886                                Montvila, Rev. Juozas\n",
       "887                         Graham, Miss. Margaret Edith\n",
       "888             Johnston, Miss. Catherine Helen \"Carrie\"\n",
       "889                                Behr, Mr. Karl Howell\n",
       "890                                  Dooley, Mr. Patrick\n",
       "Name: Name, Length: 891, dtype: object"
      ]
     },
     "execution_count": 16,
     "metadata": {},
     "output_type": "execute_result"
    }
   ],
   "source": [
    "titanic['Name']"
   ]
  },
  {
   "cell_type": "code",
   "execution_count": 17,
   "id": "d5f91f24",
   "metadata": {},
   "outputs": [
    {
     "name": "stdout",
     "output_type": "stream",
     "text": [
      "The length of title is :  891\n",
      "\n",
      "\n"
     ]
    },
    {
     "data": {
      "text/html": [
       "<div>\n",
       "<style scoped>\n",
       "    .dataframe tbody tr th:only-of-type {\n",
       "        vertical-align: middle;\n",
       "    }\n",
       "\n",
       "    .dataframe tbody tr th {\n",
       "        vertical-align: top;\n",
       "    }\n",
       "\n",
       "    .dataframe thead th {\n",
       "        text-align: right;\n",
       "    }\n",
       "</style>\n",
       "<table border=\"1\" class=\"dataframe\">\n",
       "  <thead>\n",
       "    <tr style=\"text-align: right;\">\n",
       "      <th></th>\n",
       "      <th>PassengerId</th>\n",
       "      <th>Survived</th>\n",
       "      <th>Pclass</th>\n",
       "      <th>Name</th>\n",
       "      <th>Sex</th>\n",
       "      <th>Age</th>\n",
       "      <th>SibSp</th>\n",
       "      <th>Parch</th>\n",
       "      <th>Ticket</th>\n",
       "      <th>Fare</th>\n",
       "      <th>Cabin</th>\n",
       "      <th>Embarked</th>\n",
       "      <th>Title</th>\n",
       "    </tr>\n",
       "  </thead>\n",
       "  <tbody>\n",
       "    <tr>\n",
       "      <th>0</th>\n",
       "      <td>1</td>\n",
       "      <td>0</td>\n",
       "      <td>3</td>\n",
       "      <td>Braund, Mr. Owen Harris</td>\n",
       "      <td>male</td>\n",
       "      <td>22.0</td>\n",
       "      <td>1</td>\n",
       "      <td>0</td>\n",
       "      <td>A/5 21171</td>\n",
       "      <td>7.2500</td>\n",
       "      <td>NaN</td>\n",
       "      <td>S</td>\n",
       "      <td>Mr</td>\n",
       "    </tr>\n",
       "    <tr>\n",
       "      <th>1</th>\n",
       "      <td>2</td>\n",
       "      <td>1</td>\n",
       "      <td>1</td>\n",
       "      <td>Cumings, Mrs. John Bradley (Florence Briggs Th...</td>\n",
       "      <td>female</td>\n",
       "      <td>38.0</td>\n",
       "      <td>1</td>\n",
       "      <td>0</td>\n",
       "      <td>PC 17599</td>\n",
       "      <td>71.2833</td>\n",
       "      <td>C85</td>\n",
       "      <td>C</td>\n",
       "      <td>Mrs</td>\n",
       "    </tr>\n",
       "    <tr>\n",
       "      <th>2</th>\n",
       "      <td>3</td>\n",
       "      <td>1</td>\n",
       "      <td>3</td>\n",
       "      <td>Heikkinen, Miss. Laina</td>\n",
       "      <td>female</td>\n",
       "      <td>26.0</td>\n",
       "      <td>0</td>\n",
       "      <td>0</td>\n",
       "      <td>STON/O2. 3101282</td>\n",
       "      <td>7.9250</td>\n",
       "      <td>NaN</td>\n",
       "      <td>S</td>\n",
       "      <td>Miss</td>\n",
       "    </tr>\n",
       "    <tr>\n",
       "      <th>3</th>\n",
       "      <td>4</td>\n",
       "      <td>1</td>\n",
       "      <td>1</td>\n",
       "      <td>Futrelle, Mrs. Jacques Heath (Lily May Peel)</td>\n",
       "      <td>female</td>\n",
       "      <td>35.0</td>\n",
       "      <td>1</td>\n",
       "      <td>0</td>\n",
       "      <td>113803</td>\n",
       "      <td>53.1000</td>\n",
       "      <td>C123</td>\n",
       "      <td>S</td>\n",
       "      <td>Mrs</td>\n",
       "    </tr>\n",
       "    <tr>\n",
       "      <th>4</th>\n",
       "      <td>5</td>\n",
       "      <td>0</td>\n",
       "      <td>3</td>\n",
       "      <td>Allen, Mr. William Henry</td>\n",
       "      <td>male</td>\n",
       "      <td>35.0</td>\n",
       "      <td>0</td>\n",
       "      <td>0</td>\n",
       "      <td>373450</td>\n",
       "      <td>8.0500</td>\n",
       "      <td>NaN</td>\n",
       "      <td>S</td>\n",
       "      <td>Mr</td>\n",
       "    </tr>\n",
       "  </tbody>\n",
       "</table>\n",
       "</div>"
      ],
      "text/plain": [
       "   PassengerId  Survived  Pclass  \\\n",
       "0            1         0       3   \n",
       "1            2         1       1   \n",
       "2            3         1       3   \n",
       "3            4         1       1   \n",
       "4            5         0       3   \n",
       "\n",
       "                                                Name     Sex   Age  SibSp  \\\n",
       "0                            Braund, Mr. Owen Harris    male  22.0      1   \n",
       "1  Cumings, Mrs. John Bradley (Florence Briggs Th...  female  38.0      1   \n",
       "2                             Heikkinen, Miss. Laina  female  26.0      0   \n",
       "3       Futrelle, Mrs. Jacques Heath (Lily May Peel)  female  35.0      1   \n",
       "4                           Allen, Mr. William Henry    male  35.0      0   \n",
       "\n",
       "   Parch            Ticket     Fare Cabin Embarked Title  \n",
       "0      0         A/5 21171   7.2500   NaN        S    Mr  \n",
       "1      0          PC 17599  71.2833   C85        C   Mrs  \n",
       "2      0  STON/O2. 3101282   7.9250   NaN        S  Miss  \n",
       "3      0            113803  53.1000  C123        S   Mrs  \n",
       "4      0            373450   8.0500   NaN        S    Mr  "
      ]
     },
     "execution_count": 17,
     "metadata": {},
     "output_type": "execute_result"
    }
   ],
   "source": [
    "#  here we are  extracting name titles form name columns  like Mrs, Mr. Miss etc from name column\n",
    "title=[]\n",
    "for i in list(titanic['Name']):\n",
    "    title.append(i.split(' ')[1].replace('.',''))\n",
    "print('The length of title is : ',len(title))\n",
    "print('\\n')\n",
    "## Appending title with our titanic dataset\n",
    "titanic['Title']=title\n",
    "titanic.head()"
   ]
  },
  {
   "cell_type": "code",
   "execution_count": 18,
   "id": "64a44475",
   "metadata": {},
   "outputs": [
    {
     "data": {
      "text/plain": [
       "Mr              502\n",
       "Miss            179\n",
       "Mrs             121\n",
       "Master           40\n",
       "Dr                7\n",
       "Rev               6\n",
       "y                 4\n",
       "Planke,           3\n",
       "Impe,             3\n",
       "Col               2\n",
       "Mlle              2\n",
       "Gordon,           2\n",
       "Major             2\n",
       "Messemaeker,      1\n",
       "Billiard,         1\n",
       "Mme               1\n",
       "Carlo,            1\n",
       "Velde,            1\n",
       "Mulder,           1\n",
       "Melkebeke,        1\n",
       "der               1\n",
       "Pelsmaeker,       1\n",
       "Don               1\n",
       "Ms                1\n",
       "the               1\n",
       "Capt              1\n",
       "Walle,            1\n",
       "Cruyssen,         1\n",
       "Steen,            1\n",
       "Shawah,           1\n",
       "Jonkheer          1\n",
       "Name: Title, dtype: int64"
      ]
     },
     "execution_count": 18,
     "metadata": {},
     "output_type": "execute_result"
    }
   ],
   "source": [
    "titanic['Title'].value_counts()"
   ]
  },
  {
   "cell_type": "markdown",
   "id": "c8fa15b8",
   "metadata": {},
   "source": [
    "We got the titles of the name column. Let's convert them into numerical datatype.\n",
    "\n",
    "We are assigning Mr=0,Miss=1,Mrs=2 and others=3"
   ]
  },
  {
   "cell_type": "code",
   "execution_count": 19,
   "id": "efc93908",
   "metadata": {},
   "outputs": [
    {
     "data": {
      "text/plain": [
       "0    502\n",
       "1    179\n",
       "2    121\n",
       "3     89\n",
       "Name: Title, dtype: int64"
      ]
     },
     "execution_count": 19,
     "metadata": {},
     "output_type": "execute_result"
    }
   ],
   "source": [
    "titanic['Title']=titanic['Title'].replace({'Mr':0,'Mrs':2,'Miss':1,'Master':3,'Dr':3,'Rev':3,'y':3,'Planke,':3,'Impe,':3,\n",
    "                                           'Major':3,'Gordon,':3,'Mlle':3,'Col':3,'Carlo,':3,'Walle,':3,'Ms':3,'Steen,':3,\n",
    "                                           'Jonkheer':3,'Messemaeker,':3,'Capt':3,'Cruyssen,':3,'the':3,'Shawah,':3,'Mme':3,\n",
    "                                           'Melkebeke,':3,'Velde,':3,'Pelsmaeker,':3,'der':3,'Mulder,':3,'Don':3,'Billiard,':3})\n",
    "titanic['Title'].value_counts()"
   ]
  },
  {
   "cell_type": "code",
   "execution_count": 20,
   "id": "d7c2d0da",
   "metadata": {},
   "outputs": [
    {
     "data": {
      "text/html": [
       "<div>\n",
       "<style scoped>\n",
       "    .dataframe tbody tr th:only-of-type {\n",
       "        vertical-align: middle;\n",
       "    }\n",
       "\n",
       "    .dataframe tbody tr th {\n",
       "        vertical-align: top;\n",
       "    }\n",
       "\n",
       "    .dataframe thead th {\n",
       "        text-align: right;\n",
       "    }\n",
       "</style>\n",
       "<table border=\"1\" class=\"dataframe\">\n",
       "  <thead>\n",
       "    <tr style=\"text-align: right;\">\n",
       "      <th></th>\n",
       "      <th>PassengerId</th>\n",
       "      <th>Survived</th>\n",
       "      <th>Pclass</th>\n",
       "      <th>Name</th>\n",
       "      <th>Sex</th>\n",
       "      <th>Age</th>\n",
       "      <th>SibSp</th>\n",
       "      <th>Parch</th>\n",
       "      <th>Ticket</th>\n",
       "      <th>Fare</th>\n",
       "      <th>Cabin</th>\n",
       "      <th>Embarked</th>\n",
       "      <th>Title</th>\n",
       "    </tr>\n",
       "  </thead>\n",
       "  <tbody>\n",
       "    <tr>\n",
       "      <th>0</th>\n",
       "      <td>1</td>\n",
       "      <td>0</td>\n",
       "      <td>3</td>\n",
       "      <td>Braund, Mr. Owen Harris</td>\n",
       "      <td>male</td>\n",
       "      <td>22.0</td>\n",
       "      <td>1</td>\n",
       "      <td>0</td>\n",
       "      <td>A/5 21171</td>\n",
       "      <td>7.2500</td>\n",
       "      <td>NaN</td>\n",
       "      <td>S</td>\n",
       "      <td>0</td>\n",
       "    </tr>\n",
       "    <tr>\n",
       "      <th>1</th>\n",
       "      <td>2</td>\n",
       "      <td>1</td>\n",
       "      <td>1</td>\n",
       "      <td>Cumings, Mrs. John Bradley (Florence Briggs Th...</td>\n",
       "      <td>female</td>\n",
       "      <td>38.0</td>\n",
       "      <td>1</td>\n",
       "      <td>0</td>\n",
       "      <td>PC 17599</td>\n",
       "      <td>71.2833</td>\n",
       "      <td>C85</td>\n",
       "      <td>C</td>\n",
       "      <td>2</td>\n",
       "    </tr>\n",
       "    <tr>\n",
       "      <th>2</th>\n",
       "      <td>3</td>\n",
       "      <td>1</td>\n",
       "      <td>3</td>\n",
       "      <td>Heikkinen, Miss. Laina</td>\n",
       "      <td>female</td>\n",
       "      <td>26.0</td>\n",
       "      <td>0</td>\n",
       "      <td>0</td>\n",
       "      <td>STON/O2. 3101282</td>\n",
       "      <td>7.9250</td>\n",
       "      <td>NaN</td>\n",
       "      <td>S</td>\n",
       "      <td>1</td>\n",
       "    </tr>\n",
       "    <tr>\n",
       "      <th>3</th>\n",
       "      <td>4</td>\n",
       "      <td>1</td>\n",
       "      <td>1</td>\n",
       "      <td>Futrelle, Mrs. Jacques Heath (Lily May Peel)</td>\n",
       "      <td>female</td>\n",
       "      <td>35.0</td>\n",
       "      <td>1</td>\n",
       "      <td>0</td>\n",
       "      <td>113803</td>\n",
       "      <td>53.1000</td>\n",
       "      <td>C123</td>\n",
       "      <td>S</td>\n",
       "      <td>2</td>\n",
       "    </tr>\n",
       "    <tr>\n",
       "      <th>4</th>\n",
       "      <td>5</td>\n",
       "      <td>0</td>\n",
       "      <td>3</td>\n",
       "      <td>Allen, Mr. William Henry</td>\n",
       "      <td>male</td>\n",
       "      <td>35.0</td>\n",
       "      <td>0</td>\n",
       "      <td>0</td>\n",
       "      <td>373450</td>\n",
       "      <td>8.0500</td>\n",
       "      <td>NaN</td>\n",
       "      <td>S</td>\n",
       "      <td>0</td>\n",
       "    </tr>\n",
       "  </tbody>\n",
       "</table>\n",
       "</div>"
      ],
      "text/plain": [
       "   PassengerId  Survived  Pclass  \\\n",
       "0            1         0       3   \n",
       "1            2         1       1   \n",
       "2            3         1       3   \n",
       "3            4         1       1   \n",
       "4            5         0       3   \n",
       "\n",
       "                                                Name     Sex   Age  SibSp  \\\n",
       "0                            Braund, Mr. Owen Harris    male  22.0      1   \n",
       "1  Cumings, Mrs. John Bradley (Florence Briggs Th...  female  38.0      1   \n",
       "2                             Heikkinen, Miss. Laina  female  26.0      0   \n",
       "3       Futrelle, Mrs. Jacques Heath (Lily May Peel)  female  35.0      1   \n",
       "4                           Allen, Mr. William Henry    male  35.0      0   \n",
       "\n",
       "   Parch            Ticket     Fare Cabin Embarked  Title  \n",
       "0      0         A/5 21171   7.2500   NaN        S      0  \n",
       "1      0          PC 17599  71.2833   C85        C      2  \n",
       "2      0  STON/O2. 3101282   7.9250   NaN        S      1  \n",
       "3      0            113803  53.1000  C123        S      2  \n",
       "4      0            373450   8.0500   NaN        S      0  "
      ]
     },
     "execution_count": 20,
     "metadata": {},
     "output_type": "execute_result"
    }
   ],
   "source": [
    "titanic.head()"
   ]
  },
  {
   "cell_type": "code",
   "execution_count": 21,
   "id": "bb080e4e",
   "metadata": {},
   "outputs": [
    {
     "name": "stdout",
     "output_type": "stream",
     "text": [
      "Survived - \n",
      " 1    0.368421\n",
      "2    0.283626\n",
      "0    0.230994\n",
      "3    0.116959\n",
      "Name: Title, dtype: float64\n",
      "\n",
      "\n",
      "Death - \n",
      " 0    0.770492\n",
      "1    0.096539\n",
      "3    0.089253\n",
      "2    0.043716\n",
      "Name: Title, dtype: float64\n"
     ]
    },
    {
     "data": {
      "text/plain": [
       "<Figure size 1080x648 with 0 Axes>"
      ]
     },
     "metadata": {},
     "output_type": "display_data"
    },
    {
     "data": {
      "image/png": "[encoded data removed]",
      "text/plain": [
       "<Figure size 720x360 with 1 Axes>"
      ]
     },
     "metadata": {
      "needs_background": "light"
     },
     "output_type": "display_data"
    }
   ],
   "source": [
    "live=titanic[titanic['Survived']==1]['Title'].value_counts(normalize=True)\n",
    "dead=titanic[titanic['Survived']==0]['Title'].value_counts(normalize=True)\n",
    "plt.figure(figsize=(15,9))\n",
    "pd.DataFrame([live,dead],index=['Survived','Death']).plot.bar(stacked=True, figsize=(10,5))\n",
    "\n",
    "print('Survived - \\n', live)\n",
    "print('\\n')\n",
    "print('Death - \\n',dead)"
   ]
  },
  {
   "cell_type": "markdown",
   "id": "ccb8f5a3",
   "metadata": {},
   "source": [
    "Now  we will delete the unwanted columns."
   ]
  },
  {
   "cell_type": "code",
   "execution_count": 22,
   "id": "cc396d0a",
   "metadata": {},
   "outputs": [
    {
     "data": {
      "text/html": [
       "<div>\n",
       "<style scoped>\n",
       "    .dataframe tbody tr th:only-of-type {\n",
       "        vertical-align: middle;\n",
       "    }\n",
       "\n",
       "    .dataframe tbody tr th {\n",
       "        vertical-align: top;\n",
       "    }\n",
       "\n",
       "    .dataframe thead th {\n",
       "        text-align: right;\n",
       "    }\n",
       "</style>\n",
       "<table border=\"1\" class=\"dataframe\">\n",
       "  <thead>\n",
       "    <tr style=\"text-align: right;\">\n",
       "      <th></th>\n",
       "      <th>Survived</th>\n",
       "      <th>Pclass</th>\n",
       "      <th>Sex</th>\n",
       "      <th>Age</th>\n",
       "      <th>SibSp</th>\n",
       "      <th>Parch</th>\n",
       "      <th>Ticket</th>\n",
       "      <th>Fare</th>\n",
       "      <th>Cabin</th>\n",
       "      <th>Embarked</th>\n",
       "      <th>Title</th>\n",
       "    </tr>\n",
       "  </thead>\n",
       "  <tbody>\n",
       "    <tr>\n",
       "      <th>713</th>\n",
       "      <td>0</td>\n",
       "      <td>3</td>\n",
       "      <td>male</td>\n",
       "      <td>29.0</td>\n",
       "      <td>0</td>\n",
       "      <td>0</td>\n",
       "      <td>7545</td>\n",
       "      <td>9.4833</td>\n",
       "      <td>NaN</td>\n",
       "      <td>S</td>\n",
       "      <td>0</td>\n",
       "    </tr>\n",
       "    <tr>\n",
       "      <th>549</th>\n",
       "      <td>1</td>\n",
       "      <td>2</td>\n",
       "      <td>male</td>\n",
       "      <td>8.0</td>\n",
       "      <td>1</td>\n",
       "      <td>1</td>\n",
       "      <td>C.A. 33112</td>\n",
       "      <td>36.7500</td>\n",
       "      <td>NaN</td>\n",
       "      <td>S</td>\n",
       "      <td>3</td>\n",
       "    </tr>\n",
       "    <tr>\n",
       "      <th>250</th>\n",
       "      <td>0</td>\n",
       "      <td>3</td>\n",
       "      <td>male</td>\n",
       "      <td>NaN</td>\n",
       "      <td>0</td>\n",
       "      <td>0</td>\n",
       "      <td>362316</td>\n",
       "      <td>7.2500</td>\n",
       "      <td>NaN</td>\n",
       "      <td>S</td>\n",
       "      <td>0</td>\n",
       "    </tr>\n",
       "    <tr>\n",
       "      <th>522</th>\n",
       "      <td>0</td>\n",
       "      <td>3</td>\n",
       "      <td>male</td>\n",
       "      <td>NaN</td>\n",
       "      <td>0</td>\n",
       "      <td>0</td>\n",
       "      <td>2624</td>\n",
       "      <td>7.2250</td>\n",
       "      <td>NaN</td>\n",
       "      <td>C</td>\n",
       "      <td>0</td>\n",
       "    </tr>\n",
       "    <tr>\n",
       "      <th>217</th>\n",
       "      <td>0</td>\n",
       "      <td>2</td>\n",
       "      <td>male</td>\n",
       "      <td>42.0</td>\n",
       "      <td>1</td>\n",
       "      <td>0</td>\n",
       "      <td>243847</td>\n",
       "      <td>27.0000</td>\n",
       "      <td>NaN</td>\n",
       "      <td>S</td>\n",
       "      <td>0</td>\n",
       "    </tr>\n",
       "  </tbody>\n",
       "</table>\n",
       "</div>"
      ],
      "text/plain": [
       "     Survived  Pclass   Sex   Age  SibSp  Parch      Ticket     Fare Cabin  \\\n",
       "713         0       3  male  29.0      0      0        7545   9.4833   NaN   \n",
       "549         1       2  male   8.0      1      1  C.A. 33112  36.7500   NaN   \n",
       "250         0       3  male   NaN      0      0      362316   7.2500   NaN   \n",
       "522         0       3  male   NaN      0      0        2624   7.2250   NaN   \n",
       "217         0       2  male  42.0      1      0      243847  27.0000   NaN   \n",
       "\n",
       "    Embarked  Title  \n",
       "713        S      0  \n",
       "549        S      3  \n",
       "250        S      0  \n",
       "522        C      0  \n",
       "217        S      0  "
      ]
     },
     "execution_count": 22,
     "metadata": {},
     "output_type": "execute_result"
    }
   ],
   "source": [
    "titanic=titanic.drop(columns=['Name','PassengerId'],axis=1)\n",
    "titanic.sample(5)"
   ]
  },
  {
   "cell_type": "code",
   "execution_count": 23,
   "id": "e151b13f",
   "metadata": {},
   "outputs": [
    {
     "data": {
      "text/plain": [
       "0    577\n",
       "1    314\n",
       "Name: Sex, dtype: int64"
      ]
     },
     "execution_count": 23,
     "metadata": {},
     "output_type": "execute_result"
    }
   ],
   "source": [
    "titanic['Sex']=titanic['Sex'].replace({'female':1,'male':0})\n",
    "titanic['Sex'].value_counts()"
   ]
  },
  {
   "cell_type": "markdown",
   "id": "96a47e30",
   "metadata": {},
   "source": [
    "# Handling the Missing values\n",
    "\n",
    "## Age\n",
    "There are 177 Nulls present in Age feature, In 'Sex and Age vs Survival' relation graph we observed that the as age is increasing the chance of survival decreasing respectively. So we can say that  Age is important factor to predict our target.\n",
    "\n",
    "So keeping above in mind, we are not going to fill na with simply mean or median of that particular column.\n",
    "    We also observe form titanic.corr() that the `Age` column is tightly correlated with `Pclass` column. So I thought that we simply impute the  `Age` column with the help of KnnImputer.\n",
    "    \n",
    "Little bit about knnImputer:\n",
    "- Knn imputer will try to find the relation with othr columns and impue the data accoding the relation with other columns.\n",
    "- In this case Age Nan is depending on the similarity with Pclass column."
   ]
  },
  {
   "cell_type": "code",
   "execution_count": 24,
   "id": "a2ea8e9f",
   "metadata": {},
   "outputs": [
    {
     "data": {
      "text/plain": [
       "177"
      ]
     },
     "execution_count": 24,
     "metadata": {},
     "output_type": "execute_result"
    }
   ],
   "source": [
    "titanic['Age'].isnull().sum()"
   ]
  },
  {
   "cell_type": "code",
   "execution_count": 25,
   "id": "5b4db413",
   "metadata": {},
   "outputs": [
    {
     "data": {
      "text/html": [
       "<div>\n",
       "<style scoped>\n",
       "    .dataframe tbody tr th:only-of-type {\n",
       "        vertical-align: middle;\n",
       "    }\n",
       "\n",
       "    .dataframe tbody tr th {\n",
       "        vertical-align: top;\n",
       "    }\n",
       "\n",
       "    .dataframe thead th {\n",
       "        text-align: right;\n",
       "    }\n",
       "</style>\n",
       "<table border=\"1\" class=\"dataframe\">\n",
       "  <thead>\n",
       "    <tr style=\"text-align: right;\">\n",
       "      <th></th>\n",
       "      <th>0</th>\n",
       "      <th>1</th>\n",
       "    </tr>\n",
       "  </thead>\n",
       "  <tbody>\n",
       "    <tr>\n",
       "      <th>0</th>\n",
       "      <td>3.0</td>\n",
       "      <td>22.000000</td>\n",
       "    </tr>\n",
       "    <tr>\n",
       "      <th>1</th>\n",
       "      <td>1.0</td>\n",
       "      <td>38.000000</td>\n",
       "    </tr>\n",
       "    <tr>\n",
       "      <th>2</th>\n",
       "      <td>3.0</td>\n",
       "      <td>26.000000</td>\n",
       "    </tr>\n",
       "    <tr>\n",
       "      <th>3</th>\n",
       "      <td>1.0</td>\n",
       "      <td>35.000000</td>\n",
       "    </tr>\n",
       "    <tr>\n",
       "      <th>4</th>\n",
       "      <td>3.0</td>\n",
       "      <td>35.000000</td>\n",
       "    </tr>\n",
       "    <tr>\n",
       "      <th>...</th>\n",
       "      <td>...</td>\n",
       "      <td>...</td>\n",
       "    </tr>\n",
       "    <tr>\n",
       "      <th>886</th>\n",
       "      <td>2.0</td>\n",
       "      <td>27.000000</td>\n",
       "    </tr>\n",
       "    <tr>\n",
       "      <th>887</th>\n",
       "      <td>1.0</td>\n",
       "      <td>19.000000</td>\n",
       "    </tr>\n",
       "    <tr>\n",
       "      <th>888</th>\n",
       "      <td>3.0</td>\n",
       "      <td>27.666667</td>\n",
       "    </tr>\n",
       "    <tr>\n",
       "      <th>889</th>\n",
       "      <td>1.0</td>\n",
       "      <td>26.000000</td>\n",
       "    </tr>\n",
       "    <tr>\n",
       "      <th>890</th>\n",
       "      <td>3.0</td>\n",
       "      <td>32.000000</td>\n",
       "    </tr>\n",
       "  </tbody>\n",
       "</table>\n",
       "<p>891 rows × 2 columns</p>\n",
       "</div>"
      ],
      "text/plain": [
       "       0          1\n",
       "0    3.0  22.000000\n",
       "1    1.0  38.000000\n",
       "2    3.0  26.000000\n",
       "3    1.0  35.000000\n",
       "4    3.0  35.000000\n",
       "..   ...        ...\n",
       "886  2.0  27.000000\n",
       "887  1.0  19.000000\n",
       "888  3.0  27.666667\n",
       "889  1.0  26.000000\n",
       "890  3.0  32.000000\n",
       "\n",
       "[891 rows x 2 columns]"
      ]
     },
     "execution_count": 25,
     "metadata": {},
     "output_type": "execute_result"
    }
   ],
   "source": [
    "from sklearn.impute import KNNImputer\n",
    "imputer=KNNImputer(n_neighbors=3)\n",
    "knn_imp=pd.DataFrame(imputer.fit_transform(titanic[['Pclass','Age']]))\n",
    "knn_imp"
   ]
  },
  {
   "cell_type": "code",
   "execution_count": 26,
   "id": "2c4ae77b",
   "metadata": {},
   "outputs": [],
   "source": [
    "knn_imp.rename(columns={0:'Pclass',1:'Age'},inplace=True)"
   ]
  },
  {
   "cell_type": "code",
   "execution_count": 27,
   "id": "c4f4da04",
   "metadata": {},
   "outputs": [],
   "source": [
    "titanic=titanic.drop(columns=['Pclass','Age'],axis=1)"
   ]
  },
  {
   "cell_type": "code",
   "execution_count": 28,
   "id": "f9d27100",
   "metadata": {},
   "outputs": [],
   "source": [
    "titanic=pd.concat([titanic,knn_imp],axis=1)\n"
   ]
  },
  {
   "cell_type": "code",
   "execution_count": 29,
   "id": "b2855228",
   "metadata": {},
   "outputs": [
    {
     "data": {
      "text/html": [
       "<div>\n",
       "<style scoped>\n",
       "    .dataframe tbody tr th:only-of-type {\n",
       "        vertical-align: middle;\n",
       "    }\n",
       "\n",
       "    .dataframe tbody tr th {\n",
       "        vertical-align: top;\n",
       "    }\n",
       "\n",
       "    .dataframe thead th {\n",
       "        text-align: right;\n",
       "    }\n",
       "</style>\n",
       "<table border=\"1\" class=\"dataframe\">\n",
       "  <thead>\n",
       "    <tr style=\"text-align: right;\">\n",
       "      <th></th>\n",
       "      <th>Survived</th>\n",
       "      <th>Sex</th>\n",
       "      <th>SibSp</th>\n",
       "      <th>Parch</th>\n",
       "      <th>Ticket</th>\n",
       "      <th>Fare</th>\n",
       "      <th>Cabin</th>\n",
       "      <th>Embarked</th>\n",
       "      <th>Title</th>\n",
       "      <th>Pclass</th>\n",
       "      <th>Age</th>\n",
       "    </tr>\n",
       "  </thead>\n",
       "  <tbody>\n",
       "    <tr>\n",
       "      <th>0</th>\n",
       "      <td>0</td>\n",
       "      <td>0</td>\n",
       "      <td>1</td>\n",
       "      <td>0</td>\n",
       "      <td>A/5 21171</td>\n",
       "      <td>7.2500</td>\n",
       "      <td>NaN</td>\n",
       "      <td>S</td>\n",
       "      <td>0</td>\n",
       "      <td>3.0</td>\n",
       "      <td>22.0</td>\n",
       "    </tr>\n",
       "    <tr>\n",
       "      <th>1</th>\n",
       "      <td>1</td>\n",
       "      <td>1</td>\n",
       "      <td>1</td>\n",
       "      <td>0</td>\n",
       "      <td>PC 17599</td>\n",
       "      <td>71.2833</td>\n",
       "      <td>C85</td>\n",
       "      <td>C</td>\n",
       "      <td>2</td>\n",
       "      <td>1.0</td>\n",
       "      <td>38.0</td>\n",
       "    </tr>\n",
       "    <tr>\n",
       "      <th>2</th>\n",
       "      <td>1</td>\n",
       "      <td>1</td>\n",
       "      <td>0</td>\n",
       "      <td>0</td>\n",
       "      <td>STON/O2. 3101282</td>\n",
       "      <td>7.9250</td>\n",
       "      <td>NaN</td>\n",
       "      <td>S</td>\n",
       "      <td>1</td>\n",
       "      <td>3.0</td>\n",
       "      <td>26.0</td>\n",
       "    </tr>\n",
       "    <tr>\n",
       "      <th>3</th>\n",
       "      <td>1</td>\n",
       "      <td>1</td>\n",
       "      <td>1</td>\n",
       "      <td>0</td>\n",
       "      <td>113803</td>\n",
       "      <td>53.1000</td>\n",
       "      <td>C123</td>\n",
       "      <td>S</td>\n",
       "      <td>2</td>\n",
       "      <td>1.0</td>\n",
       "      <td>35.0</td>\n",
       "    </tr>\n",
       "    <tr>\n",
       "      <th>4</th>\n",
       "      <td>0</td>\n",
       "      <td>0</td>\n",
       "      <td>0</td>\n",
       "      <td>0</td>\n",
       "      <td>373450</td>\n",
       "      <td>8.0500</td>\n",
       "      <td>NaN</td>\n",
       "      <td>S</td>\n",
       "      <td>0</td>\n",
       "      <td>3.0</td>\n",
       "      <td>35.0</td>\n",
       "    </tr>\n",
       "  </tbody>\n",
       "</table>\n",
       "</div>"
      ],
      "text/plain": [
       "   Survived  Sex  SibSp  Parch            Ticket     Fare Cabin Embarked  \\\n",
       "0         0    0      1      0         A/5 21171   7.2500   NaN        S   \n",
       "1         1    1      1      0          PC 17599  71.2833   C85        C   \n",
       "2         1    1      0      0  STON/O2. 3101282   7.9250   NaN        S   \n",
       "3         1    1      1      0            113803  53.1000  C123        S   \n",
       "4         0    0      0      0            373450   8.0500   NaN        S   \n",
       "\n",
       "   Title  Pclass   Age  \n",
       "0      0     3.0  22.0  \n",
       "1      2     1.0  38.0  \n",
       "2      1     3.0  26.0  \n",
       "3      2     1.0  35.0  \n",
       "4      0     3.0  35.0  "
      ]
     },
     "execution_count": 29,
     "metadata": {},
     "output_type": "execute_result"
    }
   ],
   "source": [
    "titanic.head()"
   ]
  },
  {
   "cell_type": "code",
   "execution_count": 30,
   "id": "cfa2f9e3",
   "metadata": {},
   "outputs": [
    {
     "data": {
      "text/plain": [
       "Survived      0\n",
       "Sex           0\n",
       "SibSp         0\n",
       "Parch         0\n",
       "Ticket        0\n",
       "Fare          0\n",
       "Cabin       687\n",
       "Embarked      2\n",
       "Title         0\n",
       "Pclass        0\n",
       "Age           0\n",
       "dtype: int64"
      ]
     },
     "execution_count": 30,
     "metadata": {},
     "output_type": "execute_result"
    }
   ],
   "source": [
    "titanic.isnull().sum()"
   ]
  },
  {
   "cell_type": "markdown",
   "id": "5c7a1c25",
   "metadata": {},
   "source": [
    "# `Cabin` Column missing values handling:"
   ]
  },
  {
   "cell_type": "code",
   "execution_count": 31,
   "id": "59758426",
   "metadata": {},
   "outputs": [
    {
     "data": {
      "text/plain": [
       "B96 B98        4\n",
       "C23 C25 C27    4\n",
       "G6             4\n",
       "E101           3\n",
       "F2             3\n",
       "              ..\n",
       "C82            1\n",
       "B79            1\n",
       "T              1\n",
       "C70            1\n",
       "B19            1\n",
       "Name: Cabin, Length: 147, dtype: int64"
      ]
     },
     "execution_count": 31,
     "metadata": {},
     "output_type": "execute_result"
    }
   ],
   "source": [
    "titanic['Cabin'].value_counts()"
   ]
  },
  {
   "cell_type": "markdown",
   "id": "43c66c51",
   "metadata": {},
   "source": [
    "We can see that most of the cabin letters are associated with a high survival rate, so this might very well be a useful variable. Because there aren't that many unique values, we won't do any grouping here, even if some of the values have a small count.\n",
    "\n",
    "Let's see the relationship Pclass with Cabin.\n",
    "\n",
    "In above,there are 147 unique values in `Cabin` column. But we will take only first letter of them."
   ]
  },
  {
   "cell_type": "code",
   "execution_count": 32,
   "id": "257ef683",
   "metadata": {},
   "outputs": [],
   "source": [
    "titanic['Cabin']=titanic['Cabin'].str[0]"
   ]
  },
  {
   "cell_type": "code",
   "execution_count": 33,
   "id": "4fcd73a3",
   "metadata": {},
   "outputs": [],
   "source": [
    "titanic['Cabin']=titanic['Cabin'].replace({'A':0,'B':1,'C':2,'D':3,'E':4,'F':5,'G':6,'T':7})"
   ]
  },
  {
   "cell_type": "code",
   "execution_count": 34,
   "id": "129b095a",
   "metadata": {},
   "outputs": [
    {
     "data": {
      "text/plain": [
       "<AxesSubplot:>"
      ]
     },
     "execution_count": 34,
     "metadata": {},
     "output_type": "execute_result"
    },
    {
     "data": {
      "image/png": "[encoded data removed]",
      "text/plain": [
       "<Figure size 720x360 with 1 Axes>"
      ]
     },
     "metadata": {
      "needs_background": "light"
     },
     "output_type": "display_data"
    }
   ],
   "source": [
    "Pclass1 = titanic[titanic['Pclass']==1]['Cabin'].value_counts()\n",
    "Pclass2 = titanic[titanic['Pclass']==2]['Cabin'].value_counts()\n",
    "Pclass3 = titanic[titanic['Pclass']==3]['Cabin'].value_counts()\n",
    "df = pd.DataFrame([Pclass1, Pclass2, Pclass3])\n",
    "df.index = ['1st class','2nd class', '3rd class']\n",
    "df.plot(kind='bar',stacked=True, figsize=(10,5))"
   ]
  },
  {
   "cell_type": "markdown",
   "id": "4e60b6a5",
   "metadata": {},
   "source": [
    "    IN the above graph we can see that the passenger class 1 has most number of cabin presents.\n",
    "\n",
    "So now what we will do we fill the Nan with respect to Passengers class."
   ]
  },
  {
   "cell_type": "code",
   "execution_count": 35,
   "id": "dbcd1af3",
   "metadata": {},
   "outputs": [],
   "source": [
    "# fill missing Cabin with median fare for each Pclass\n",
    "titanic[\"Cabin\"].fillna(titanic.groupby(\"Pclass\")[\"Cabin\"].transform(\"median\"), inplace=True)\n"
   ]
  },
  {
   "cell_type": "code",
   "execution_count": 36,
   "id": "beb3e8f2",
   "metadata": {},
   "outputs": [
    {
     "data": {
      "text/plain": [
       "0"
      ]
     },
     "execution_count": 36,
     "metadata": {},
     "output_type": "execute_result"
    }
   ],
   "source": [
    "titanic['Cabin'].isnull().sum()"
   ]
  },
  {
   "cell_type": "code",
   "execution_count": 37,
   "id": "76c33ec2",
   "metadata": {},
   "outputs": [
    {
     "data": {
      "text/html": [
       "<div>\n",
       "<style scoped>\n",
       "    .dataframe tbody tr th:only-of-type {\n",
       "        vertical-align: middle;\n",
       "    }\n",
       "\n",
       "    .dataframe tbody tr th {\n",
       "        vertical-align: top;\n",
       "    }\n",
       "\n",
       "    .dataframe thead th {\n",
       "        text-align: right;\n",
       "    }\n",
       "</style>\n",
       "<table border=\"1\" class=\"dataframe\">\n",
       "  <thead>\n",
       "    <tr style=\"text-align: right;\">\n",
       "      <th></th>\n",
       "      <th>Survived</th>\n",
       "      <th>Sex</th>\n",
       "      <th>SibSp</th>\n",
       "      <th>Parch</th>\n",
       "      <th>Ticket</th>\n",
       "      <th>Fare</th>\n",
       "      <th>Cabin</th>\n",
       "      <th>Embarked</th>\n",
       "      <th>Title</th>\n",
       "      <th>Pclass</th>\n",
       "      <th>Age</th>\n",
       "    </tr>\n",
       "  </thead>\n",
       "  <tbody>\n",
       "    <tr>\n",
       "      <th>0</th>\n",
       "      <td>0</td>\n",
       "      <td>0</td>\n",
       "      <td>1</td>\n",
       "      <td>0</td>\n",
       "      <td>A/5 21171</td>\n",
       "      <td>7.2500</td>\n",
       "      <td>5.0</td>\n",
       "      <td>S</td>\n",
       "      <td>0</td>\n",
       "      <td>3.0</td>\n",
       "      <td>22.0</td>\n",
       "    </tr>\n",
       "    <tr>\n",
       "      <th>1</th>\n",
       "      <td>1</td>\n",
       "      <td>1</td>\n",
       "      <td>1</td>\n",
       "      <td>0</td>\n",
       "      <td>PC 17599</td>\n",
       "      <td>71.2833</td>\n",
       "      <td>2.0</td>\n",
       "      <td>C</td>\n",
       "      <td>2</td>\n",
       "      <td>1.0</td>\n",
       "      <td>38.0</td>\n",
       "    </tr>\n",
       "    <tr>\n",
       "      <th>2</th>\n",
       "      <td>1</td>\n",
       "      <td>1</td>\n",
       "      <td>0</td>\n",
       "      <td>0</td>\n",
       "      <td>STON/O2. 3101282</td>\n",
       "      <td>7.9250</td>\n",
       "      <td>5.0</td>\n",
       "      <td>S</td>\n",
       "      <td>1</td>\n",
       "      <td>3.0</td>\n",
       "      <td>26.0</td>\n",
       "    </tr>\n",
       "    <tr>\n",
       "      <th>3</th>\n",
       "      <td>1</td>\n",
       "      <td>1</td>\n",
       "      <td>1</td>\n",
       "      <td>0</td>\n",
       "      <td>113803</td>\n",
       "      <td>53.1000</td>\n",
       "      <td>2.0</td>\n",
       "      <td>S</td>\n",
       "      <td>2</td>\n",
       "      <td>1.0</td>\n",
       "      <td>35.0</td>\n",
       "    </tr>\n",
       "    <tr>\n",
       "      <th>4</th>\n",
       "      <td>0</td>\n",
       "      <td>0</td>\n",
       "      <td>0</td>\n",
       "      <td>0</td>\n",
       "      <td>373450</td>\n",
       "      <td>8.0500</td>\n",
       "      <td>5.0</td>\n",
       "      <td>S</td>\n",
       "      <td>0</td>\n",
       "      <td>3.0</td>\n",
       "      <td>35.0</td>\n",
       "    </tr>\n",
       "  </tbody>\n",
       "</table>\n",
       "</div>"
      ],
      "text/plain": [
       "   Survived  Sex  SibSp  Parch            Ticket     Fare  Cabin Embarked  \\\n",
       "0         0    0      1      0         A/5 21171   7.2500    5.0        S   \n",
       "1         1    1      1      0          PC 17599  71.2833    2.0        C   \n",
       "2         1    1      0      0  STON/O2. 3101282   7.9250    5.0        S   \n",
       "3         1    1      1      0            113803  53.1000    2.0        S   \n",
       "4         0    0      0      0            373450   8.0500    5.0        S   \n",
       "\n",
       "   Title  Pclass   Age  \n",
       "0      0     3.0  22.0  \n",
       "1      2     1.0  38.0  \n",
       "2      1     3.0  26.0  \n",
       "3      2     1.0  35.0  \n",
       "4      0     3.0  35.0  "
      ]
     },
     "execution_count": 37,
     "metadata": {},
     "output_type": "execute_result"
    }
   ],
   "source": [
    "titanic.head()"
   ]
  },
  {
   "cell_type": "code",
   "execution_count": 38,
   "id": "1bd0acea",
   "metadata": {},
   "outputs": [
    {
     "data": {
      "text/plain": [
       "Survived    0\n",
       "Sex         0\n",
       "SibSp       0\n",
       "Parch       0\n",
       "Ticket      0\n",
       "Fare        0\n",
       "Cabin       0\n",
       "Embarked    2\n",
       "Title       0\n",
       "Pclass      0\n",
       "Age         0\n",
       "dtype: int64"
      ]
     },
     "execution_count": 38,
     "metadata": {},
     "output_type": "execute_result"
    }
   ],
   "source": [
    "titanic.isnull().sum()"
   ]
  },
  {
   "cell_type": "markdown",
   "id": "a4bb580d",
   "metadata": {},
   "source": [
    "# Embarked vs Survival"
   ]
  },
  {
   "cell_type": "code",
   "execution_count": 39,
   "id": "c34dbbe5",
   "metadata": {},
   "outputs": [
    {
     "data": {
      "text/plain": [
       "Text(0.5, 1.0, 'Embarked VS Survived')"
      ]
     },
     "execution_count": 39,
     "metadata": {},
     "output_type": "execute_result"
    },
    {
     "data": {
      "image/png": "[encoded data removed]",
      "text/plain": [
       "<Figure size 1080x576 with 1 Axes>"
      ]
     },
     "metadata": {
      "needs_background": "light"
     },
     "output_type": "display_data"
    }
   ],
   "source": [
    "f,ax=plt.subplots(figsize=(15,8))\n",
    "sns.violinplot(x='Embarked',y='Sex',hue='Survived',jitter=True,data=titanic,dodge=True,ax=ax,)\n",
    "ax.set_title('Embarked VS Survived',fontsize=10)"
   ]
  },
  {
   "cell_type": "code",
   "execution_count": 40,
   "id": "9fe3c8c8",
   "metadata": {},
   "outputs": [
    {
     "data": {
      "text/plain": [
       "Text(0.5, 1.0, 'Embarked VS Survived')"
      ]
     },
     "execution_count": 40,
     "metadata": {},
     "output_type": "execute_result"
    },
    {
     "data": {
      "image/png": "[encoded data removed]",
      "text/plain": [
       "<Figure size 1080x576 with 1 Axes>"
      ]
     },
     "metadata": {
      "needs_background": "light"
     },
     "output_type": "display_data"
    }
   ],
   "source": [
    "f,ax=plt.subplots(figsize=(15,8))\n",
    "sns.violinplot(x='Embarked',y='Pclass',hue='Survived',jitter=True,data=titanic,dodge=True,ax=ax,)\n",
    "ax.set_title('Embarked VS Survived',fontsize=10)"
   ]
  },
  {
   "cell_type": "markdown",
   "id": "c67af2f3",
   "metadata": {},
   "source": [
    "Observation:\n",
    "- `Embarked` Seems to be correlated with `Survived`, depending  on the passenger's `Sex` and `class`.\n",
    "- Women who have port on Q and having a passenger class 3 have a higher chance of survival. But other hand if women port on 'C' or 'S' then there probability of survival getting down.\n",
    "- Men have a high survival probability if they are on Port 'C'. But in inverse if they are on other port there survival probability is low.\n"
   ]
  },
  {
   "cell_type": "markdown",
   "id": "ef0b03e3",
   "metadata": {},
   "source": [
    "Embarked is a categorical feature and there are only 2 missing values in whole data set.\n",
    "\n",
    "Let's see the what is those rows."
   ]
  },
  {
   "cell_type": "code",
   "execution_count": 41,
   "id": "c3ec52b3",
   "metadata": {},
   "outputs": [
    {
     "data": {
      "text/html": [
       "<div>\n",
       "<style scoped>\n",
       "    .dataframe tbody tr th:only-of-type {\n",
       "        vertical-align: middle;\n",
       "    }\n",
       "\n",
       "    .dataframe tbody tr th {\n",
       "        vertical-align: top;\n",
       "    }\n",
       "\n",
       "    .dataframe thead th {\n",
       "        text-align: right;\n",
       "    }\n",
       "</style>\n",
       "<table border=\"1\" class=\"dataframe\">\n",
       "  <thead>\n",
       "    <tr style=\"text-align: right;\">\n",
       "      <th></th>\n",
       "      <th>Survived</th>\n",
       "      <th>Sex</th>\n",
       "      <th>SibSp</th>\n",
       "      <th>Parch</th>\n",
       "      <th>Ticket</th>\n",
       "      <th>Fare</th>\n",
       "      <th>Cabin</th>\n",
       "      <th>Embarked</th>\n",
       "      <th>Title</th>\n",
       "      <th>Pclass</th>\n",
       "      <th>Age</th>\n",
       "    </tr>\n",
       "  </thead>\n",
       "  <tbody>\n",
       "    <tr>\n",
       "      <th>61</th>\n",
       "      <td>1</td>\n",
       "      <td>1</td>\n",
       "      <td>0</td>\n",
       "      <td>0</td>\n",
       "      <td>113572</td>\n",
       "      <td>80.0</td>\n",
       "      <td>1.0</td>\n",
       "      <td>NaN</td>\n",
       "      <td>1</td>\n",
       "      <td>1.0</td>\n",
       "      <td>38.0</td>\n",
       "    </tr>\n",
       "    <tr>\n",
       "      <th>829</th>\n",
       "      <td>1</td>\n",
       "      <td>1</td>\n",
       "      <td>0</td>\n",
       "      <td>0</td>\n",
       "      <td>113572</td>\n",
       "      <td>80.0</td>\n",
       "      <td>1.0</td>\n",
       "      <td>NaN</td>\n",
       "      <td>2</td>\n",
       "      <td>1.0</td>\n",
       "      <td>62.0</td>\n",
       "    </tr>\n",
       "  </tbody>\n",
       "</table>\n",
       "</div>"
      ],
      "text/plain": [
       "     Survived  Sex  SibSp  Parch  Ticket  Fare  Cabin Embarked  Title  Pclass  \\\n",
       "61          1    1      0      0  113572  80.0    1.0      NaN      1     1.0   \n",
       "829         1    1      0      0  113572  80.0    1.0      NaN      2     1.0   \n",
       "\n",
       "      Age  \n",
       "61   38.0  \n",
       "829  62.0  "
      ]
     },
     "execution_count": 41,
     "metadata": {},
     "output_type": "execute_result"
    }
   ],
   "source": [
    "titanic[titanic['Embarked'].isnull()]"
   ]
  },
  {
   "cell_type": "markdown",
   "id": "63e9d06c",
   "metadata": {},
   "source": [
    "Those passengers Port point not given we can see that them above. There we can clearily see that both person gender is female, there class is same and ticket Number and Fare is also same. Their ages are 38 year and 62 year. So keep in mind those data, Seems they are mother and doughter and that definatly their Embarked point will be same as well."
   ]
  },
  {
   "cell_type": "code",
   "execution_count": 42,
   "id": "da238c92",
   "metadata": {},
   "outputs": [
    {
     "name": "stdout",
     "output_type": "stream",
     "text": [
      "S    644\n",
      "C    168\n",
      "Q     77\n",
      "Name: Embarked, dtype: int64\n",
      "S    0.724409\n",
      "C    0.188976\n",
      "Q    0.086614\n",
      "Name: Embarked, dtype: float64\n"
     ]
    }
   ],
   "source": [
    "print(titanic['Embarked'].value_counts())\n",
    "print(titanic['Embarked'].value_counts(normalize=True))"
   ]
  },
  {
   "cell_type": "code",
   "execution_count": 43,
   "id": "d430640f",
   "metadata": {},
   "outputs": [
    {
     "data": {
      "text/plain": [
       "<AxesSubplot:xlabel='Embarked', ylabel='count'>"
      ]
     },
     "execution_count": 43,
     "metadata": {},
     "output_type": "execute_result"
    },
    {
     "data": {
      "image/png": "[encoded data removed]",
      "text/plain": [
       "<Figure size 432x288 with 1 Axes>"
      ]
     },
     "metadata": {
      "needs_background": "light"
     },
     "output_type": "display_data"
    }
   ],
   "source": [
    "sns.countplot(x='Embarked',hue='Pclass',data=titanic)"
   ]
  },
  {
   "cell_type": "markdown",
   "id": "5b2fea82",
   "metadata": {},
   "source": [
    "## Observation:\n",
    "In the above graph we can see that the majority of Embarked point 'S' is very high if  a passenger's class is 1. So that's why  we will fill the missing embarked point with 'S' because there passenger's class is also 1."
   ]
  },
  {
   "cell_type": "code",
   "execution_count": 44,
   "id": "99b57acc",
   "metadata": {},
   "outputs": [
    {
     "data": {
      "text/plain": [
       "0"
      ]
     },
     "execution_count": 44,
     "metadata": {},
     "output_type": "execute_result"
    }
   ],
   "source": [
    "titanic['Embarked']=titanic['Embarked'].fillna('S')\n",
    "titanic['Embarked'].isnull().sum()"
   ]
  },
  {
   "cell_type": "code",
   "execution_count": 45,
   "id": "4e7af45a",
   "metadata": {},
   "outputs": [
    {
     "data": {
      "text/html": [
       "<div>\n",
       "<style scoped>\n",
       "    .dataframe tbody tr th:only-of-type {\n",
       "        vertical-align: middle;\n",
       "    }\n",
       "\n",
       "    .dataframe tbody tr th {\n",
       "        vertical-align: top;\n",
       "    }\n",
       "\n",
       "    .dataframe thead th {\n",
       "        text-align: right;\n",
       "    }\n",
       "</style>\n",
       "<table border=\"1\" class=\"dataframe\">\n",
       "  <thead>\n",
       "    <tr style=\"text-align: right;\">\n",
       "      <th></th>\n",
       "      <th>Survived</th>\n",
       "      <th>Sex</th>\n",
       "      <th>SibSp</th>\n",
       "      <th>Parch</th>\n",
       "      <th>Ticket</th>\n",
       "      <th>Fare</th>\n",
       "      <th>Cabin</th>\n",
       "      <th>Embarked</th>\n",
       "      <th>Title</th>\n",
       "      <th>Pclass</th>\n",
       "      <th>Age</th>\n",
       "    </tr>\n",
       "  </thead>\n",
       "  <tbody>\n",
       "    <tr>\n",
       "      <th>0</th>\n",
       "      <td>0</td>\n",
       "      <td>0</td>\n",
       "      <td>1</td>\n",
       "      <td>0</td>\n",
       "      <td>A/5 21171</td>\n",
       "      <td>7.2500</td>\n",
       "      <td>5.0</td>\n",
       "      <td>0</td>\n",
       "      <td>0</td>\n",
       "      <td>3.0</td>\n",
       "      <td>22.0</td>\n",
       "    </tr>\n",
       "    <tr>\n",
       "      <th>1</th>\n",
       "      <td>1</td>\n",
       "      <td>1</td>\n",
       "      <td>1</td>\n",
       "      <td>0</td>\n",
       "      <td>PC 17599</td>\n",
       "      <td>71.2833</td>\n",
       "      <td>2.0</td>\n",
       "      <td>1</td>\n",
       "      <td>2</td>\n",
       "      <td>1.0</td>\n",
       "      <td>38.0</td>\n",
       "    </tr>\n",
       "    <tr>\n",
       "      <th>2</th>\n",
       "      <td>1</td>\n",
       "      <td>1</td>\n",
       "      <td>0</td>\n",
       "      <td>0</td>\n",
       "      <td>STON/O2. 3101282</td>\n",
       "      <td>7.9250</td>\n",
       "      <td>5.0</td>\n",
       "      <td>0</td>\n",
       "      <td>1</td>\n",
       "      <td>3.0</td>\n",
       "      <td>26.0</td>\n",
       "    </tr>\n",
       "    <tr>\n",
       "      <th>3</th>\n",
       "      <td>1</td>\n",
       "      <td>1</td>\n",
       "      <td>1</td>\n",
       "      <td>0</td>\n",
       "      <td>113803</td>\n",
       "      <td>53.1000</td>\n",
       "      <td>2.0</td>\n",
       "      <td>0</td>\n",
       "      <td>2</td>\n",
       "      <td>1.0</td>\n",
       "      <td>35.0</td>\n",
       "    </tr>\n",
       "    <tr>\n",
       "      <th>4</th>\n",
       "      <td>0</td>\n",
       "      <td>0</td>\n",
       "      <td>0</td>\n",
       "      <td>0</td>\n",
       "      <td>373450</td>\n",
       "      <td>8.0500</td>\n",
       "      <td>5.0</td>\n",
       "      <td>0</td>\n",
       "      <td>0</td>\n",
       "      <td>3.0</td>\n",
       "      <td>35.0</td>\n",
       "    </tr>\n",
       "  </tbody>\n",
       "</table>\n",
       "</div>"
      ],
      "text/plain": [
       "   Survived  Sex  SibSp  Parch            Ticket     Fare  Cabin  Embarked  \\\n",
       "0         0    0      1      0         A/5 21171   7.2500    5.0         0   \n",
       "1         1    1      1      0          PC 17599  71.2833    2.0         1   \n",
       "2         1    1      0      0  STON/O2. 3101282   7.9250    5.0         0   \n",
       "3         1    1      1      0            113803  53.1000    2.0         0   \n",
       "4         0    0      0      0            373450   8.0500    5.0         0   \n",
       "\n",
       "   Title  Pclass   Age  \n",
       "0      0     3.0  22.0  \n",
       "1      2     1.0  38.0  \n",
       "2      1     3.0  26.0  \n",
       "3      2     1.0  35.0  \n",
       "4      0     3.0  35.0  "
      ]
     },
     "execution_count": 45,
     "metadata": {},
     "output_type": "execute_result"
    }
   ],
   "source": [
    "titanic['Embarked']=titanic['Embarked'].replace({'S':0,'C':1 ,'Q':2})\n",
    "titanic.head()"
   ]
  },
  {
   "cell_type": "code",
   "execution_count": 46,
   "id": "447838ae",
   "metadata": {},
   "outputs": [],
   "source": [
    "## Dropping the unnecessary column.\n",
    "titanic=titanic.drop('Ticket',axis=1)"
   ]
  },
  {
   "cell_type": "markdown",
   "id": "af9c9aba",
   "metadata": {},
   "source": [
    "# Plotting Heatmap:"
   ]
  },
  {
   "cell_type": "code",
   "execution_count": 47,
   "id": "9f51da73",
   "metadata": {},
   "outputs": [
    {
     "data": {
      "text/plain": [
       "<AxesSubplot:>"
      ]
     },
     "execution_count": 47,
     "metadata": {},
     "output_type": "execute_result"
    },
    {
     "data": {
      "image/png": "[encoded data removed]",
      "text/plain": [
       "<Figure size 936x576 with 2 Axes>"
      ]
     },
     "metadata": {
      "needs_background": "light"
     },
     "output_type": "display_data"
    }
   ],
   "source": [
    "plt.figure(figsize=(13,8))\n",
    "sns.heatmap(titanic.corr(),annot=True,annot_kws={'size':8})"
   ]
  },
  {
   "cell_type": "markdown",
   "id": "6b61a359",
   "metadata": {},
   "source": [
    "## Observation of heatmap:\n",
    "\n",
    "- 1) Seems Cabin and Pclass are 86% correlated with each other. In real time if any two features are 75 + correlate with eachother then we drop one of them.Interpreting But the first thing to note is that only the numeric features are compared, as it is obvious that we cannot correlate between alphabets or strings. And above we convert Cabin column from alphabate to numbers.\n",
    "- 2) Now from the above heatmap,we can see that the features are not much correlated. The highest correlation is between SibSp and Parch i.e 0.41. So we can carry on with all features."
   ]
  },
  {
   "cell_type": "markdown",
   "id": "0661fc2d",
   "metadata": {},
   "source": [
    "# Feature Engineering:\n",
    "\n",
    "## Age and Fare\n",
    "age and fare columns have continous data. let's visualize them."
   ]
  },
  {
   "cell_type": "code",
   "execution_count": 48,
   "id": "e45019cf",
   "metadata": {},
   "outputs": [
    {
     "data": {
      "text/plain": [
       "<seaborn.axisgrid.FacetGrid at 0x27d87ea1f70>"
      ]
     },
     "execution_count": 48,
     "metadata": {},
     "output_type": "execute_result"
    },
    {
     "data": {
      "image/png": "[encoded data removed]",
      "text/plain": [
       "<Figure size 432x288 with 1 Axes>"
      ]
     },
     "metadata": {
      "needs_background": "light"
     },
     "output_type": "display_data"
    },
    {
     "data": {
      "image/png": "[encoded data removed]",
      "text/plain": [
       "<Figure size 360x360 with 1 Axes>"
      ]
     },
     "metadata": {
      "needs_background": "light"
     },
     "output_type": "display_data"
    }
   ],
   "source": [
    "sns.distplot(titanic['Age'],color='b')\n",
    "sns.displot(titanic['Fare'],color='b')"
   ]
  },
  {
   "cell_type": "code",
   "execution_count": 49,
   "id": "4f958b8f",
   "metadata": {},
   "outputs": [
    {
     "data": {
      "text/html": [
       "<div>\n",
       "<style scoped>\n",
       "    .dataframe tbody tr th:only-of-type {\n",
       "        vertical-align: middle;\n",
       "    }\n",
       "\n",
       "    .dataframe tbody tr th {\n",
       "        vertical-align: top;\n",
       "    }\n",
       "\n",
       "    .dataframe thead th {\n",
       "        text-align: right;\n",
       "    }\n",
       "</style>\n",
       "<table border=\"1\" class=\"dataframe\">\n",
       "  <thead>\n",
       "    <tr style=\"text-align: right;\">\n",
       "      <th></th>\n",
       "      <th>Survived</th>\n",
       "      <th>Sex</th>\n",
       "      <th>SibSp</th>\n",
       "      <th>Parch</th>\n",
       "      <th>Fare</th>\n",
       "      <th>Cabin</th>\n",
       "      <th>Embarked</th>\n",
       "      <th>Title</th>\n",
       "      <th>Pclass</th>\n",
       "      <th>Age</th>\n",
       "    </tr>\n",
       "  </thead>\n",
       "  <tbody>\n",
       "    <tr>\n",
       "      <th>258</th>\n",
       "      <td>1</td>\n",
       "      <td>1</td>\n",
       "      <td>0</td>\n",
       "      <td>0</td>\n",
       "      <td>512.3292</td>\n",
       "      <td>2.0</td>\n",
       "      <td>1</td>\n",
       "      <td>1</td>\n",
       "      <td>1.0</td>\n",
       "      <td>35.0</td>\n",
       "    </tr>\n",
       "    <tr>\n",
       "      <th>679</th>\n",
       "      <td>1</td>\n",
       "      <td>0</td>\n",
       "      <td>0</td>\n",
       "      <td>1</td>\n",
       "      <td>512.3292</td>\n",
       "      <td>1.0</td>\n",
       "      <td>1</td>\n",
       "      <td>0</td>\n",
       "      <td>1.0</td>\n",
       "      <td>36.0</td>\n",
       "    </tr>\n",
       "    <tr>\n",
       "      <th>737</th>\n",
       "      <td>1</td>\n",
       "      <td>0</td>\n",
       "      <td>0</td>\n",
       "      <td>0</td>\n",
       "      <td>512.3292</td>\n",
       "      <td>1.0</td>\n",
       "      <td>1</td>\n",
       "      <td>0</td>\n",
       "      <td>1.0</td>\n",
       "      <td>35.0</td>\n",
       "    </tr>\n",
       "  </tbody>\n",
       "</table>\n",
       "</div>"
      ],
      "text/plain": [
       "     Survived  Sex  SibSp  Parch      Fare  Cabin  Embarked  Title  Pclass  \\\n",
       "258         1    1      0      0  512.3292    2.0         1      1     1.0   \n",
       "679         1    0      0      1  512.3292    1.0         1      0     1.0   \n",
       "737         1    0      0      0  512.3292    1.0         1      0     1.0   \n",
       "\n",
       "      Age  \n",
       "258  35.0  \n",
       "679  36.0  \n",
       "737  35.0  "
      ]
     },
     "execution_count": 49,
     "metadata": {},
     "output_type": "execute_result"
    }
   ],
   "source": [
    "titanic[titanic['Fare']>300]"
   ]
  },
  {
   "cell_type": "code",
   "execution_count": 50,
   "id": "8776d3c1",
   "metadata": {},
   "outputs": [
    {
     "data": {
      "text/plain": [
       "Survived    0.478523\n",
       "Sex         0.618921\n",
       "SibSp       3.695352\n",
       "Parch       2.749117\n",
       "Fare        4.787317\n",
       "Cabin      -1.523266\n",
       "Embarked    1.543397\n",
       "Title       1.027634\n",
       "Pclass     -0.630548\n",
       "Age         0.400702\n",
       "dtype: float64"
      ]
     },
     "execution_count": 50,
     "metadata": {},
     "output_type": "execute_result"
    }
   ],
   "source": [
    "titanic.skew()"
   ]
  },
  {
   "cell_type": "markdown",
   "id": "8f444fb9",
   "metadata": {},
   "source": [
    "## Observation:\n",
    "`Age` : The data distribution of Age column is enough fine. It is little bit right skewed but we will keep them.\n",
    "\n",
    "`Fare` : The data distribution of Fare column is unpleasent, there are three rows present those Fare is more then 500 and we are not in a position to find that is it real data or wrong entry. In my point of view those are not outliers because it could be possible that they have enough money for that.\n",
    "\n",
    "So keep above in mind will cut those those columns into bins i.e. we convert them into categorical data."
   ]
  },
  {
   "cell_type": "code",
   "execution_count": 51,
   "id": "6bd55215",
   "metadata": {},
   "outputs": [],
   "source": [
    "#Age\n",
    "bins=[-1,0,5,12,18,24,35,60,100]\n",
    "name = ['Unidentify', 'New_born', 'Child', 'young', 'above_20', 'Young_Adult', 'Adult<35', 'above_60']\n",
    "titanic['Age_new']=pd.cut(titanic['Age'],bins,labels=name)"
   ]
  },
  {
   "cell_type": "code",
   "execution_count": 52,
   "id": "2cececd7",
   "metadata": {},
   "outputs": [
    {
     "data": {
      "image/png": "[encoded data removed]",
      "text/plain": [
       "<Figure size 432x288 with 1 Axes>"
      ]
     },
     "metadata": {
      "needs_background": "light"
     },
     "output_type": "display_data"
    }
   ],
   "source": [
    "sns.barplot(x=\"Age_new\", y=\"Survived\", data=titanic)\n",
    "plt.tight_layout()"
   ]
  },
  {
   "cell_type": "code",
   "execution_count": 53,
   "id": "1db9a319",
   "metadata": {},
   "outputs": [
    {
     "data": {
      "text/plain": [
       "5    367\n",
       "6    225\n",
       "4    138\n",
       "3     70\n",
       "1     44\n",
       "2     25\n",
       "7     22\n",
       "Name: Age_new, dtype: int64"
      ]
     },
     "execution_count": 53,
     "metadata": {},
     "output_type": "execute_result"
    }
   ],
   "source": [
    "titanic['Age_new']=titanic['Age_new'].replace({'Unidentify':0, 'New_born':1, 'Child':2,\n",
    "                                               'young':3,\n",
    "                                               'above_20':4,\n",
    "                                               'Young_Adult':5,\n",
    "                                               'Adult<35':6,\n",
    "                                               'above_60':7})\n",
    "titanic['Age_new'].value_counts()"
   ]
  },
  {
   "cell_type": "code",
   "execution_count": 54,
   "id": "197d8324",
   "metadata": {},
   "outputs": [
    {
     "data": {
      "text/plain": [
       "2    224\n",
       "1    223\n",
       "3    222\n",
       "4    222\n",
       "Name: Fare_new, dtype: int64"
      ]
     },
     "execution_count": 54,
     "metadata": {},
     "output_type": "execute_result"
    }
   ],
   "source": [
    "# Fare\n",
    "titanic['Fare_new']=pd.qcut(titanic['Fare'],4,labels=[1,2,3,4])\n",
    "titanic=titanic.drop('Fare',axis=1)\n",
    "titanic['Fare_new'].value_counts()"
   ]
  },
  {
   "cell_type": "code",
   "execution_count": 55,
   "id": "c9e45d19",
   "metadata": {},
   "outputs": [
    {
     "data": {
      "image/png": "[encoded data removed]",
      "text/plain": [
       "<Figure size 432x288 with 1 Axes>"
      ]
     },
     "metadata": {
      "needs_background": "light"
     },
     "output_type": "display_data"
    }
   ],
   "source": [
    "sns.barplot(x=\"Fare_new\", y=\"Survived\", data=titanic)\n",
    "plt.tight_layout()"
   ]
  },
  {
   "cell_type": "markdown",
   "id": "ed72b09d",
   "metadata": {},
   "source": [
    "Here we successfully converted continous data into caterogical data."
   ]
  },
  {
   "cell_type": "code",
   "execution_count": 56,
   "id": "695a89ca",
   "metadata": {},
   "outputs": [
    {
     "data": {
      "text/html": [
       "<div>\n",
       "<style scoped>\n",
       "    .dataframe tbody tr th:only-of-type {\n",
       "        vertical-align: middle;\n",
       "    }\n",
       "\n",
       "    .dataframe tbody tr th {\n",
       "        vertical-align: top;\n",
       "    }\n",
       "\n",
       "    .dataframe thead th {\n",
       "        text-align: right;\n",
       "    }\n",
       "</style>\n",
       "<table border=\"1\" class=\"dataframe\">\n",
       "  <thead>\n",
       "    <tr style=\"text-align: right;\">\n",
       "      <th></th>\n",
       "      <th>Survived</th>\n",
       "      <th>Sex</th>\n",
       "      <th>SibSp</th>\n",
       "      <th>Parch</th>\n",
       "      <th>Cabin</th>\n",
       "      <th>Embarked</th>\n",
       "      <th>Title</th>\n",
       "      <th>Pclass</th>\n",
       "      <th>Age_new</th>\n",
       "      <th>Fare_new</th>\n",
       "    </tr>\n",
       "  </thead>\n",
       "  <tbody>\n",
       "    <tr>\n",
       "      <th>0</th>\n",
       "      <td>0</td>\n",
       "      <td>0</td>\n",
       "      <td>1</td>\n",
       "      <td>0</td>\n",
       "      <td>5.0</td>\n",
       "      <td>0</td>\n",
       "      <td>0</td>\n",
       "      <td>3.0</td>\n",
       "      <td>4</td>\n",
       "      <td>1</td>\n",
       "    </tr>\n",
       "    <tr>\n",
       "      <th>1</th>\n",
       "      <td>1</td>\n",
       "      <td>1</td>\n",
       "      <td>1</td>\n",
       "      <td>0</td>\n",
       "      <td>2.0</td>\n",
       "      <td>1</td>\n",
       "      <td>2</td>\n",
       "      <td>1.0</td>\n",
       "      <td>6</td>\n",
       "      <td>4</td>\n",
       "    </tr>\n",
       "  </tbody>\n",
       "</table>\n",
       "</div>"
      ],
      "text/plain": [
       "   Survived  Sex  SibSp  Parch  Cabin  Embarked  Title  Pclass  Age_new  \\\n",
       "0         0    0      1      0    5.0         0      0     3.0        4   \n",
       "1         1    1      1      0    2.0         1      2     1.0        6   \n",
       "\n",
       "  Fare_new  \n",
       "0        1  \n",
       "1        4  "
      ]
     },
     "execution_count": 56,
     "metadata": {},
     "output_type": "execute_result"
    }
   ],
   "source": [
    "titanic=titanic.drop('Age',axis=1)\n",
    "titanic.head(2)"
   ]
  },
  {
   "cell_type": "markdown",
   "id": "ef3b3c5a",
   "metadata": {},
   "source": [
    "## Family\n",
    "\n",
    "Family is created by adding SibSp, Parch and 1. Here SibSp is count of sibling and spouse and similarly Parch is the count of parents and children. These all columns are adding and creating a new column name as Family.\n",
    "\n"
   ]
  },
  {
   "cell_type": "code",
   "execution_count": 57,
   "id": "574ffcb0",
   "metadata": {},
   "outputs": [
    {
     "name": "stdout",
     "output_type": "stream",
     "text": [
      "1     537\n",
      "2     161\n",
      "3     102\n",
      "4      29\n",
      "6      22\n",
      "5      15\n",
      "7      12\n",
      "11      7\n",
      "8       6\n",
      "Name: Family, dtype: int64\n"
     ]
    },
    {
     "data": {
      "text/plain": [
       "<AxesSubplot:xlabel='Family', ylabel='count'>"
      ]
     },
     "execution_count": 57,
     "metadata": {},
     "output_type": "execute_result"
    },
    {
     "data": {
      "image/png": "[encoded data removed]",
      "text/plain": [
       "<Figure size 432x288 with 1 Axes>"
      ]
     },
     "metadata": {
      "needs_background": "light"
     },
     "output_type": "display_data"
    }
   ],
   "source": [
    "titanic['Family']=titanic['SibSp']+titanic['Parch']+1\n",
    "titanic=titanic.drop(columns=['SibSp','Parch'],axis=1)\n",
    "print(titanic['Family'].value_counts())\n",
    "sns.countplot(x='Family',hue='Survived',data=titanic)"
   ]
  },
  {
   "cell_type": "markdown",
   "id": "878545fc",
   "metadata": {},
   "source": [
    "Here,\n",
    "- Family with 1 are labeled as Alone\n",
    "- Family with 2, 3 and 4 are labeled as Small\n",
    "- Family with 5 and 6 are labeled as Medium\n",
    "- Family with 7, 8 and 11 are labeled as Large"
   ]
  },
  {
   "cell_type": "code",
   "execution_count": 58,
   "id": "c877939a",
   "metadata": {},
   "outputs": [
    {
     "data": {
      "text/plain": [
       "<AxesSubplot:xlabel='Family', ylabel='count'>"
      ]
     },
     "execution_count": 58,
     "metadata": {},
     "output_type": "execute_result"
    },
    {
     "data": {
      "image/png": "[encoded data removed]",
      "text/plain": [
       "<Figure size 432x288 with 1 Axes>"
      ]
     },
     "metadata": {
      "needs_background": "light"
     },
     "output_type": "display_data"
    }
   ],
   "source": [
    "titanic['Family']=titanic['Family'].replace({1:'Alone',2:'Small',3:'Small',4:'Small',5:'Medium',6:'Medium',7:'Large',\n",
    "                                             8:'Large',11:'Large'})\n",
    "sns.countplot(x='Family',hue='Survived',data=titanic)"
   ]
  },
  {
   "cell_type": "code",
   "execution_count": 59,
   "id": "51d039b9",
   "metadata": {},
   "outputs": [],
   "source": [
    "titanic['Family']=titanic['Family'].replace({'Small':3,'Large':1,'Medium':2,'Alone':1})"
   ]
  },
  {
   "cell_type": "code",
   "execution_count": 60,
   "id": "625dda45",
   "metadata": {},
   "outputs": [
    {
     "data": {
      "text/html": [
       "<div>\n",
       "<style scoped>\n",
       "    .dataframe tbody tr th:only-of-type {\n",
       "        vertical-align: middle;\n",
       "    }\n",
       "\n",
       "    .dataframe tbody tr th {\n",
       "        vertical-align: top;\n",
       "    }\n",
       "\n",
       "    .dataframe thead th {\n",
       "        text-align: right;\n",
       "    }\n",
       "</style>\n",
       "<table border=\"1\" class=\"dataframe\">\n",
       "  <thead>\n",
       "    <tr style=\"text-align: right;\">\n",
       "      <th></th>\n",
       "      <th>Survived</th>\n",
       "      <th>Sex</th>\n",
       "      <th>Cabin</th>\n",
       "      <th>Embarked</th>\n",
       "      <th>Title</th>\n",
       "      <th>Pclass</th>\n",
       "      <th>Age_new</th>\n",
       "      <th>Fare_new</th>\n",
       "      <th>Family</th>\n",
       "    </tr>\n",
       "  </thead>\n",
       "  <tbody>\n",
       "    <tr>\n",
       "      <th>0</th>\n",
       "      <td>0</td>\n",
       "      <td>0</td>\n",
       "      <td>5.0</td>\n",
       "      <td>0</td>\n",
       "      <td>0</td>\n",
       "      <td>3.0</td>\n",
       "      <td>4</td>\n",
       "      <td>1</td>\n",
       "      <td>3</td>\n",
       "    </tr>\n",
       "    <tr>\n",
       "      <th>1</th>\n",
       "      <td>1</td>\n",
       "      <td>1</td>\n",
       "      <td>2.0</td>\n",
       "      <td>1</td>\n",
       "      <td>2</td>\n",
       "      <td>1.0</td>\n",
       "      <td>6</td>\n",
       "      <td>4</td>\n",
       "      <td>3</td>\n",
       "    </tr>\n",
       "    <tr>\n",
       "      <th>2</th>\n",
       "      <td>1</td>\n",
       "      <td>1</td>\n",
       "      <td>5.0</td>\n",
       "      <td>0</td>\n",
       "      <td>1</td>\n",
       "      <td>3.0</td>\n",
       "      <td>5</td>\n",
       "      <td>2</td>\n",
       "      <td>1</td>\n",
       "    </tr>\n",
       "    <tr>\n",
       "      <th>3</th>\n",
       "      <td>1</td>\n",
       "      <td>1</td>\n",
       "      <td>2.0</td>\n",
       "      <td>0</td>\n",
       "      <td>2</td>\n",
       "      <td>1.0</td>\n",
       "      <td>5</td>\n",
       "      <td>4</td>\n",
       "      <td>3</td>\n",
       "    </tr>\n",
       "    <tr>\n",
       "      <th>4</th>\n",
       "      <td>0</td>\n",
       "      <td>0</td>\n",
       "      <td>5.0</td>\n",
       "      <td>0</td>\n",
       "      <td>0</td>\n",
       "      <td>3.0</td>\n",
       "      <td>5</td>\n",
       "      <td>2</td>\n",
       "      <td>1</td>\n",
       "    </tr>\n",
       "  </tbody>\n",
       "</table>\n",
       "</div>"
      ],
      "text/plain": [
       "   Survived  Sex  Cabin  Embarked  Title  Pclass  Age_new Fare_new  Family\n",
       "0         0    0    5.0         0      0     3.0        4        1       3\n",
       "1         1    1    2.0         1      2     1.0        6        4       3\n",
       "2         1    1    5.0         0      1     3.0        5        2       1\n",
       "3         1    1    2.0         0      2     1.0        5        4       3\n",
       "4         0    0    5.0         0      0     3.0        5        2       1"
      ]
     },
     "execution_count": 60,
     "metadata": {},
     "output_type": "execute_result"
    }
   ],
   "source": [
    "titanic.head()"
   ]
  },
  {
   "cell_type": "markdown",
   "id": "7a1c7be8",
   "metadata": {},
   "source": [
    "## Spliting the DataFrame:\n"
   ]
  },
  {
   "cell_type": "code",
   "execution_count": 69,
   "id": "a431b94b",
   "metadata": {},
   "outputs": [
    {
     "data": {
      "text/html": [
       "<div>\n",
       "<style scoped>\n",
       "    .dataframe tbody tr th:only-of-type {\n",
       "        vertical-align: middle;\n",
       "    }\n",
       "\n",
       "    .dataframe tbody tr th {\n",
       "        vertical-align: top;\n",
       "    }\n",
       "\n",
       "    .dataframe thead th {\n",
       "        text-align: right;\n",
       "    }\n",
       "</style>\n",
       "<table border=\"1\" class=\"dataframe\">\n",
       "  <thead>\n",
       "    <tr style=\"text-align: right;\">\n",
       "      <th></th>\n",
       "      <th>Sex</th>\n",
       "      <th>Cabin</th>\n",
       "      <th>Embarked</th>\n",
       "      <th>Title</th>\n",
       "      <th>Pclass</th>\n",
       "      <th>Age_new</th>\n",
       "      <th>Fare_new</th>\n",
       "      <th>Family</th>\n",
       "    </tr>\n",
       "  </thead>\n",
       "  <tbody>\n",
       "    <tr>\n",
       "      <th>0</th>\n",
       "      <td>0</td>\n",
       "      <td>5.0</td>\n",
       "      <td>0</td>\n",
       "      <td>0</td>\n",
       "      <td>3.0</td>\n",
       "      <td>4</td>\n",
       "      <td>1</td>\n",
       "      <td>3</td>\n",
       "    </tr>\n",
       "    <tr>\n",
       "      <th>1</th>\n",
       "      <td>1</td>\n",
       "      <td>2.0</td>\n",
       "      <td>1</td>\n",
       "      <td>2</td>\n",
       "      <td>1.0</td>\n",
       "      <td>6</td>\n",
       "      <td>4</td>\n",
       "      <td>3</td>\n",
       "    </tr>\n",
       "  </tbody>\n",
       "</table>\n",
       "</div>"
      ],
      "text/plain": [
       "   Sex  Cabin  Embarked  Title  Pclass  Age_new Fare_new  Family\n",
       "0    0    5.0         0      0     3.0        4        1       3\n",
       "1    1    2.0         1      2     1.0        6        4       3"
      ]
     },
     "execution_count": 69,
     "metadata": {},
     "output_type": "execute_result"
    }
   ],
   "source": [
    "x=titanic.drop('Survived',axis=1)\n",
    "y=titanic['Survived']\n",
    "x.head(2)"
   ]
  },
  {
   "cell_type": "markdown",
   "id": "f77d53bc",
   "metadata": {},
   "source": [
    "# Logistic Regression:"
   ]
  },
  {
   "cell_type": "code",
   "execution_count": 70,
   "id": "b49e5689",
   "metadata": {},
   "outputs": [],
   "source": [
    "from sklearn.model_selection import train_test_split as tts\n",
    "from sklearn.linear_model import LogisticRegression\n",
    "lr=LogisticRegression()"
   ]
  },
  {
   "cell_type": "code",
   "execution_count": 74,
   "id": "21f2af0e",
   "metadata": {},
   "outputs": [
    {
     "name": "stdout",
     "output_type": "stream",
     "text": [
      "At random state 67 The model performs very well\n",
      "At random state  67\n",
      "Training accuracy is :  81.58682634730539\n",
      "At random state 87 The model performs very well\n",
      "At random state  87\n",
      "Training accuracy is :  82.48502994011976\n",
      "At random state 708 The model performs very well\n",
      "At random state  708\n",
      "Training accuracy is :  82.48502994011976\n",
      "At random state 825 The model performs very well\n",
      "At random state  825\n",
      "Training accuracy is :  80.688622754491\n",
      "At random state 933 The model performs very well\n",
      "At random state  933\n",
      "Training accuracy is :  81.58682634730539\n"
     ]
    }
   ],
   "source": [
    "from sklearn.metrics import accuracy_score,confusion_matrix,f1_score,classification_report\n",
    "for i in range(0,1000):\n",
    "    x_train,x_test,y_train,y_test=tts(x,y,test_size=0.25,random_state=i)\n",
    "    lr.fit(x_train,y_train)\n",
    "    pred_train=lr.predict(x_train)\n",
    "    pred_test=lr.predict(x_test)\n",
    "    if round(accuracy_score(y_train,pred_train)*100,1)==round(accuracy_score(y_test,pred_test)*100,1):\n",
    "        print(\"At random state\", i , \"The model performs very well\")\n",
    "        print(\"At random state \", i)\n",
    "        print(\"Training accuracy is : \", accuracy_score(y_train,pred_train)*100)\n"
   ]
  },
  {
   "cell_type": "markdown",
   "id": "5ea6137b",
   "metadata": {},
   "source": [
    "At random state 87 my model performs very well. let's take 87 as a random state."
   ]
  },
  {
   "cell_type": "code",
   "execution_count": 76,
   "id": "b3027332",
   "metadata": {},
   "outputs": [
    {
     "name": "stdout",
     "output_type": "stream",
     "text": [
      "Accuracy score is :-  82.51121076233184\n",
      "f1 score is :-  76.07361963190183\n",
      "              precision    recall  f1-score   support\n",
      "\n",
      "           0       0.84      0.88      0.86       138\n",
      "           1       0.79      0.73      0.76        85\n",
      "\n",
      "    accuracy                           0.83       223\n",
      "   macro avg       0.82      0.81      0.81       223\n",
      "weighted avg       0.82      0.83      0.82       223\n",
      "\n"
     ]
    }
   ],
   "source": [
    " x_train,x_test,y_train,y_test=tts(x,y,test_size=0.25,random_state=87)\n",
    "lr.fit(x_train,y_train)\n",
    "pred_train=lr.predict(x_train)\n",
    "pred_test=lr.predict(x_test)\n",
    "print('Accuracy score is :- ', accuracy_score(y_test,pred_test)*100)\n",
    "print('f1 score is :- ', f1_score(y_test,pred_test)*100)\n",
    "print(classification_report(y_test,pred_test))"
   ]
  },
  {
   "cell_type": "markdown",
   "id": "e4a18b5d",
   "metadata": {},
   "source": [
    "# Let's Check the Cross validation:"
   ]
  },
  {
   "cell_type": "code",
   "execution_count": 77,
   "id": "eb02a44c",
   "metadata": {},
   "outputs": [
    {
     "name": "stdout",
     "output_type": "stream",
     "text": [
      "at cv :- 2\n",
      "cross validation score is  0.7890134529147983\n",
      "accuracy score is  0.8251121076233184\n",
      "F1 Score is :  0.7607361963190183\n",
      "\n",
      "\n",
      "at cv :- 3\n",
      "cross validation score is  0.8114478114478114\n",
      "accuracy score is  0.8251121076233184\n",
      "F1 Score is :  0.7607361963190183\n",
      "\n",
      "\n",
      "at cv :- 4\n",
      "cross validation score is  0.8103209711954107\n",
      "accuracy score is  0.8251121076233184\n",
      "F1 Score is :  0.7607361963190183\n",
      "\n",
      "\n",
      "at cv :- 5\n",
      "cross validation score is  0.8103571652752496\n",
      "accuracy score is  0.8251121076233184\n",
      "F1 Score is :  0.7607361963190183\n",
      "\n",
      "\n",
      "at cv :- 6\n",
      "cross validation score is  0.8148013785597678\n",
      "accuracy score is  0.8251121076233184\n",
      "F1 Score is :  0.7607361963190183\n",
      "\n",
      "\n",
      "at cv :- 7\n",
      "cross validation score is  0.8137127390326209\n",
      "accuracy score is  0.8251121076233184\n",
      "F1 Score is :  0.7607361963190183\n",
      "\n",
      "\n",
      "at cv :- 8\n",
      "cross validation score is  0.8159487612612613\n",
      "accuracy score is  0.8251121076233184\n",
      "F1 Score is :  0.7607361963190183\n",
      "\n",
      "\n",
      "at cv :- 9\n",
      "cross validation score is  0.8103254769921436\n",
      "accuracy score is  0.8251121076233184\n",
      "F1 Score is :  0.7607361963190183\n",
      "\n",
      "\n",
      "at cv :- 10\n",
      "cross validation score is  0.8148689138576779\n",
      "accuracy score is  0.8251121076233184\n",
      "F1 Score is :  0.7607361963190183\n",
      "\n",
      "\n"
     ]
    }
   ],
   "source": [
    "pred_lr=lr.predict(x_test)\n",
    "from sklearn.model_selection import cross_val_score\n",
    "accuracy_score= accuracy_score(y_test,pred_lr)\n",
    "for i in range(2,11):\n",
    "    lrscore=cross_val_score(lr,x,y,cv=i)\n",
    "    lsc=lrscore.mean()\n",
    "    print(\"at cv :-\",i)\n",
    "    print(\"cross validation score is \", lsc)\n",
    "    print(\"accuracy score is \", accuracy_score)\n",
    "    print('F1 Score is : ', f1_score(y_test,pred_lr))\n",
    "    print('\\n')"
   ]
  },
  {
   "cell_type": "markdown",
   "id": "b16d15f1",
   "metadata": {},
   "source": [
    "At Cv=8 gives the best result. Cv=8 selected."
   ]
  },
  {
   "cell_type": "code",
   "execution_count": 85,
   "id": "171a3511",
   "metadata": {},
   "outputs": [
    {
     "name": "stdout",
     "output_type": "stream",
     "text": [
      "After checking the overfitting, my new Score is :-  0.8159487612612613\n"
     ]
    }
   ],
   "source": [
    "lrscore=cross_val_score(lr,x,y,cv=8).mean()\n",
    "print(\"After checking the overfitting, my new Score is :- \", lrscore)"
   ]
  },
  {
   "cell_type": "markdown",
   "id": "4f4f832d",
   "metadata": {},
   "source": [
    "# AUC Curve"
   ]
  },
  {
   "cell_type": "code",
   "execution_count": 86,
   "id": "120073b0",
   "metadata": {},
   "outputs": [
    {
     "data": {
      "image/png": "[encoded data removed]",
      "text/plain": [
       "<Figure size 432x288 with 1 Axes>"
      ]
     },
     "metadata": {
      "needs_background": "light"
     },
     "output_type": "display_data"
    },
    {
     "name": "stdout",
     "output_type": "stream",
     "text": [
      "AUC value is 0.8181255526083111 \n"
     ]
    }
   ],
   "source": [
    "from sklearn.metrics import roc_curve,auc\n",
    "fpr, tpr, threshold= roc_curve(pred_test,y_test)\n",
    "plt.plot(fpr, tpr)\n",
    "plt.xlabel(\"False Positive Rate\")\n",
    "plt.ylabel(\"True Positive Rate\")\n",
    "plt.title(\"ROC curve\")\n",
    "plt.show()\n",
    "print(\"AUC value is {} \".format(auc(fpr, tpr)))"
   ]
  },
  {
   "cell_type": "markdown",
   "id": "b073b51e",
   "metadata": {},
   "source": [
    "AUC SCORE OF LOGISTIC REGRESSION IS 81.8%"
   ]
  },
  {
   "cell_type": "markdown",
   "id": "95d21193",
   "metadata": {},
   "source": [
    "# Random Forest Classfier"
   ]
  },
  {
   "cell_type": "code",
   "execution_count": 87,
   "id": "154f33bc",
   "metadata": {},
   "outputs": [],
   "source": [
    "from sklearn.ensemble import RandomForestClassifier\n",
    "from sklearn.metrics import accuracy_score,classification_report,f1_score,confusion_matrix\n",
    "rf=RandomForestClassifier()"
   ]
  },
  {
   "cell_type": "code",
   "execution_count": 92,
   "id": "9dbd9bae",
   "metadata": {},
   "outputs": [
    {
     "name": "stdout",
     "output_type": "stream",
     "text": [
      "At random state 0 The model performs very well\n",
      "At random state  0\n",
      "Training accuracy is :  91.46706586826348\n",
      "Testing accuracy  is :  82.51121076233184\n",
      "\n",
      "\n",
      "At random state 1 The model performs very well\n",
      "At random state  1\n",
      "Training accuracy is :  92.81437125748504\n",
      "Testing accuracy  is :  78.47533632286996\n",
      "\n",
      "\n",
      "At random state 2 The model performs very well\n",
      "At random state  2\n",
      "Training accuracy is :  91.61676646706587\n",
      "Testing accuracy  is :  81.16591928251121\n",
      "\n",
      "\n",
      "At random state 3 The model performs very well\n",
      "At random state  3\n",
      "Training accuracy is :  92.51497005988024\n",
      "Testing accuracy  is :  81.16591928251121\n",
      "\n",
      "\n",
      "At random state 4 The model performs very well\n",
      "At random state  4\n",
      "Training accuracy is :  91.31736526946108\n",
      "Testing accuracy  is :  86.54708520179372\n",
      "\n",
      "\n",
      "At random state 5 The model performs very well\n",
      "At random state  5\n",
      "Training accuracy is :  90.71856287425149\n",
      "Testing accuracy  is :  86.54708520179372\n",
      "\n",
      "\n",
      "At random state 6 The model performs very well\n",
      "At random state  6\n",
      "Training accuracy is :  91.1676646706587\n",
      "Testing accuracy  is :  84.30493273542601\n",
      "\n",
      "\n",
      "At random state 7 The model performs very well\n",
      "At random state  7\n",
      "Training accuracy is :  92.51497005988024\n",
      "Testing accuracy  is :  79.37219730941703\n",
      "\n",
      "\n",
      "At random state 8 The model performs very well\n",
      "At random state  8\n",
      "Training accuracy is :  91.01796407185628\n",
      "Testing accuracy  is :  84.75336322869956\n",
      "\n",
      "\n",
      "At random state 9 The model performs very well\n",
      "At random state  9\n",
      "Training accuracy is :  91.61676646706587\n",
      "Testing accuracy  is :  80.71748878923766\n",
      "\n",
      "\n",
      "At random state 10 The model performs very well\n",
      "At random state  10\n",
      "Training accuracy is :  91.01796407185628\n",
      "Testing accuracy  is :  85.20179372197309\n",
      "\n",
      "\n",
      "At random state 11 The model performs very well\n",
      "At random state  11\n",
      "Training accuracy is :  91.31736526946108\n",
      "Testing accuracy  is :  84.30493273542601\n",
      "\n",
      "\n",
      "At random state 12 The model performs very well\n",
      "At random state  12\n",
      "Training accuracy is :  91.76646706586826\n",
      "Testing accuracy  is :  80.71748878923766\n",
      "\n",
      "\n",
      "At random state 13 The model performs very well\n",
      "At random state  13\n",
      "Training accuracy is :  90.86826347305389\n",
      "Testing accuracy  is :  82.95964125560538\n",
      "\n",
      "\n",
      "At random state 14 The model performs very well\n",
      "At random state  14\n",
      "Training accuracy is :  91.46706586826348\n",
      "Testing accuracy  is :  83.40807174887892\n",
      "\n",
      "\n",
      "At random state 15 The model performs very well\n",
      "At random state  15\n",
      "Training accuracy is :  91.1676646706587\n",
      "Testing accuracy  is :  81.61434977578476\n",
      "\n",
      "\n",
      "At random state 16 The model performs very well\n",
      "At random state  16\n",
      "Training accuracy is :  92.21556886227546\n",
      "Testing accuracy  is :  81.16591928251121\n",
      "\n",
      "\n",
      "At random state 17 The model performs very well\n",
      "At random state  17\n",
      "Training accuracy is :  91.61676646706587\n",
      "Testing accuracy  is :  80.71748878923766\n",
      "\n",
      "\n",
      "At random state 18 The model performs very well\n",
      "At random state  18\n",
      "Training accuracy is :  90.41916167664671\n",
      "Testing accuracy  is :  85.65022421524664\n",
      "\n",
      "\n",
      "At random state 19 The model performs very well\n",
      "At random state  19\n",
      "Training accuracy is :  91.1676646706587\n",
      "Testing accuracy  is :  80.26905829596413\n",
      "\n",
      "\n",
      "At random state 20 The model performs very well\n",
      "At random state  20\n",
      "Training accuracy is :  91.91616766467065\n",
      "Testing accuracy  is :  79.37219730941703\n",
      "\n",
      "\n",
      "At random state 21 The model performs very well\n",
      "At random state  21\n",
      "Training accuracy is :  91.91616766467065\n",
      "Testing accuracy  is :  81.16591928251121\n",
      "\n",
      "\n",
      "At random state 22 The model performs very well\n",
      "At random state  22\n",
      "Training accuracy is :  92.36526946107784\n",
      "Testing accuracy  is :  78.47533632286996\n",
      "\n",
      "\n",
      "At random state 23 The model performs very well\n",
      "At random state  23\n",
      "Training accuracy is :  90.86826347305389\n",
      "Testing accuracy  is :  84.75336322869956\n",
      "\n",
      "\n",
      "At random state 24 The model performs very well\n",
      "At random state  24\n",
      "Training accuracy is :  91.01796407185628\n",
      "Testing accuracy  is :  82.0627802690583\n",
      "\n",
      "\n",
      "At random state 25 The model performs very well\n",
      "At random state  25\n",
      "Training accuracy is :  91.61676646706587\n",
      "Testing accuracy  is :  83.40807174887892\n",
      "\n",
      "\n",
      "At random state 26 The model performs very well\n",
      "At random state  26\n",
      "Training accuracy is :  92.51497005988024\n",
      "Testing accuracy  is :  79.37219730941703\n",
      "\n",
      "\n",
      "At random state 27 The model performs very well\n",
      "At random state  27\n",
      "Training accuracy is :  91.91616766467065\n",
      "Testing accuracy  is :  81.61434977578476\n",
      "\n",
      "\n",
      "At random state 28 The model performs very well\n",
      "At random state  28\n",
      "Training accuracy is :  91.46706586826348\n",
      "Testing accuracy  is :  84.30493273542601\n",
      "\n",
      "\n",
      "At random state 29 The model performs very well\n",
      "At random state  29\n",
      "Training accuracy is :  92.51497005988024\n",
      "Testing accuracy  is :  78.47533632286996\n",
      "\n",
      "\n",
      "At random state 30 The model performs very well\n",
      "At random state  30\n",
      "Training accuracy is :  92.36526946107784\n",
      "Testing accuracy  is :  82.95964125560538\n",
      "\n",
      "\n",
      "At random state 31 The model performs very well\n",
      "At random state  31\n",
      "Training accuracy is :  92.06586826347305\n",
      "Testing accuracy  is :  80.26905829596413\n",
      "\n",
      "\n",
      "At random state 32 The model performs very well\n",
      "At random state  32\n",
      "Training accuracy is :  92.81437125748504\n",
      "Testing accuracy  is :  78.02690582959642\n",
      "\n",
      "\n",
      "At random state 33 The model performs very well\n",
      "At random state  33\n",
      "Training accuracy is :  90.71856287425149\n",
      "Testing accuracy  is :  84.30493273542601\n",
      "\n",
      "\n",
      "At random state 34 The model performs very well\n",
      "At random state  34\n",
      "Training accuracy is :  91.1676646706587\n",
      "Testing accuracy  is :  85.65022421524664\n",
      "\n",
      "\n",
      "At random state 35 The model performs very well\n",
      "At random state  35\n",
      "Training accuracy is :  91.31736526946108\n",
      "Testing accuracy  is :  82.95964125560538\n",
      "\n",
      "\n",
      "At random state 36 The model performs very well\n",
      "At random state  36\n",
      "Training accuracy is :  90.86826347305389\n",
      "Testing accuracy  is :  84.30493273542601\n",
      "\n",
      "\n",
      "At random state 37 The model performs very well\n",
      "At random state  37\n",
      "Training accuracy is :  91.91616766467065\n",
      "Testing accuracy  is :  81.16591928251121\n",
      "\n",
      "\n",
      "At random state 38 The model performs very well\n",
      "At random state  38\n",
      "Training accuracy is :  91.46706586826348\n",
      "Testing accuracy  is :  83.85650224215246\n",
      "\n",
      "\n",
      "At random state 39 The model performs very well\n",
      "At random state  39\n",
      "Training accuracy is :  91.61676646706587\n",
      "Testing accuracy  is :  81.61434977578476\n",
      "\n",
      "\n",
      "At random state 40 The model performs very well\n",
      "At random state  40\n",
      "Training accuracy is :  91.46706586826348\n",
      "Testing accuracy  is :  80.71748878923766\n",
      "\n",
      "\n",
      "At random state 41 The model performs very well\n",
      "At random state  41\n",
      "Training accuracy is :  91.76646706586826\n",
      "Testing accuracy  is :  83.40807174887892\n",
      "\n",
      "\n",
      "At random state 42 The model performs very well\n",
      "At random state  42\n",
      "Training accuracy is :  91.91616766467065\n",
      "Testing accuracy  is :  80.71748878923766\n",
      "\n",
      "\n",
      "At random state 43 The model performs very well\n",
      "At random state  43\n",
      "Training accuracy is :  93.26347305389223\n",
      "Testing accuracy  is :  78.9237668161435\n",
      "\n",
      "\n",
      "At random state 44 The model performs very well\n",
      "At random state  44\n",
      "Training accuracy is :  92.06586826347305\n",
      "Testing accuracy  is :  82.0627802690583\n",
      "\n",
      "\n",
      "At random state 45 The model performs very well\n",
      "At random state  45\n",
      "Training accuracy is :  90.71856287425149\n",
      "Testing accuracy  is :  86.09865470852019\n",
      "\n",
      "\n",
      "At random state 46 The model performs very well\n",
      "At random state  46\n",
      "Training accuracy is :  90.86826347305389\n",
      "Testing accuracy  is :  85.20179372197309\n",
      "\n",
      "\n",
      "At random state 47 The model performs very well\n",
      "At random state  47\n",
      "Training accuracy is :  92.06586826347305\n",
      "Testing accuracy  is :  80.26905829596413\n",
      "\n",
      "\n",
      "At random state 48 The model performs very well\n",
      "At random state  48\n",
      "Training accuracy is :  91.1676646706587\n",
      "Testing accuracy  is :  82.51121076233184\n",
      "\n",
      "\n",
      "At random state 49 The model performs very well\n",
      "At random state  49\n",
      "Training accuracy is :  91.31736526946108\n",
      "Testing accuracy  is :  81.61434977578476\n",
      "\n",
      "\n",
      "At random state 50 The model performs very well\n",
      "At random state  50\n",
      "Training accuracy is :  91.31736526946108\n",
      "Testing accuracy  is :  82.95964125560538\n",
      "\n",
      "\n",
      "At random state 51 The model performs very well\n",
      "At random state  51\n",
      "Training accuracy is :  92.96407185628742\n",
      "Testing accuracy  is :  79.37219730941703\n",
      "\n",
      "\n",
      "At random state 52 The model performs very well\n",
      "At random state  52\n",
      "Training accuracy is :  91.46706586826348\n",
      "Testing accuracy  is :  85.20179372197309\n",
      "\n",
      "\n",
      "At random state 53 The model performs very well\n",
      "At random state  53\n",
      "Training accuracy is :  92.06586826347305\n",
      "Testing accuracy  is :  82.95964125560538\n",
      "\n",
      "\n",
      "At random state 54 The model performs very well\n",
      "At random state  54\n",
      "Training accuracy is :  91.91616766467065\n",
      "Testing accuracy  is :  78.02690582959642\n",
      "\n",
      "\n",
      "At random state 55 The model performs very well\n",
      "At random state  55\n",
      "Training accuracy is :  93.11377245508982\n",
      "Testing accuracy  is :  77.57847533632287\n",
      "\n",
      "\n",
      "At random state 56 The model performs very well\n",
      "At random state  56\n",
      "Training accuracy is :  91.01796407185628\n",
      "Testing accuracy  is :  84.30493273542601\n",
      "\n",
      "\n",
      "At random state 57 The model performs very well\n",
      "At random state  57\n",
      "Training accuracy is :  91.1676646706587\n",
      "Testing accuracy  is :  84.30493273542601\n",
      "\n",
      "\n",
      "At random state 58 The model performs very well\n",
      "At random state  58\n",
      "Training accuracy is :  91.01796407185628\n",
      "Testing accuracy  is :  83.85650224215246\n",
      "\n",
      "\n",
      "At random state 59 The model performs very well\n",
      "At random state  59\n",
      "Training accuracy is :  91.76646706586826\n",
      "Testing accuracy  is :  79.37219730941703\n",
      "\n",
      "\n",
      "At random state 60 The model performs very well\n",
      "At random state  60\n",
      "Training accuracy is :  92.36526946107784\n",
      "Testing accuracy  is :  79.37219730941703\n",
      "\n",
      "\n",
      "At random state 61 The model performs very well\n",
      "At random state  61\n",
      "Training accuracy is :  91.01796407185628\n",
      "Testing accuracy  is :  83.40807174887892\n",
      "\n",
      "\n",
      "At random state 62 The model performs very well\n",
      "At random state  62\n",
      "Training accuracy is :  90.41916167664671\n",
      "Testing accuracy  is :  84.30493273542601\n",
      "\n",
      "\n",
      "At random state 63 The model performs very well\n",
      "At random state  63\n",
      "Training accuracy is :  91.46706586826348\n",
      "Testing accuracy  is :  86.54708520179372\n",
      "\n",
      "\n",
      "At random state 64 The model performs very well\n",
      "At random state  64\n",
      "Training accuracy is :  90.86826347305389\n",
      "Testing accuracy  is :  83.85650224215246\n",
      "\n",
      "\n",
      "At random state 65 The model performs very well\n",
      "At random state  65\n",
      "Training accuracy is :  91.76646706586826\n",
      "Testing accuracy  is :  79.82062780269058\n",
      "\n",
      "\n",
      "At random state 66 The model performs very well\n",
      "At random state  66\n",
      "Training accuracy is :  91.01796407185628\n",
      "Testing accuracy  is :  84.30493273542601\n",
      "\n",
      "\n",
      "At random state 67 The model performs very well\n",
      "At random state  67\n",
      "Training accuracy is :  91.61676646706587\n",
      "Testing accuracy  is :  82.0627802690583\n",
      "\n",
      "\n",
      "At random state 68 The model performs very well\n",
      "At random state  68\n",
      "Training accuracy is :  90.86826347305389\n",
      "Testing accuracy  is :  84.30493273542601\n",
      "\n",
      "\n",
      "At random state 69 The model performs very well\n",
      "At random state  69\n",
      "Training accuracy is :  91.61676646706587\n",
      "Testing accuracy  is :  84.30493273542601\n",
      "\n",
      "\n",
      "At random state 70 The model performs very well\n",
      "At random state  70\n",
      "Training accuracy is :  91.46706586826348\n",
      "Testing accuracy  is :  83.40807174887892\n",
      "\n",
      "\n",
      "At random state 71 The model performs very well\n",
      "At random state  71\n",
      "Training accuracy is :  91.31736526946108\n",
      "Testing accuracy  is :  83.85650224215246\n",
      "\n",
      "\n",
      "At random state 72 The model performs very well\n",
      "At random state  72\n",
      "Training accuracy is :  91.1676646706587\n",
      "Testing accuracy  is :  81.61434977578476\n",
      "\n",
      "\n",
      "At random state 73 The model performs very well\n",
      "At random state  73\n",
      "Training accuracy is :  91.1676646706587\n",
      "Testing accuracy  is :  85.65022421524664\n",
      "\n",
      "\n",
      "At random state 74 The model performs very well\n",
      "At random state  74\n",
      "Training accuracy is :  90.5688622754491\n",
      "Testing accuracy  is :  85.65022421524664\n",
      "\n",
      "\n",
      "At random state 75 The model performs very well\n",
      "At random state  75\n",
      "Training accuracy is :  91.31736526946108\n",
      "Testing accuracy  is :  79.82062780269058\n",
      "\n",
      "\n",
      "At random state 76 The model performs very well\n",
      "At random state  76\n",
      "Training accuracy is :  91.1676646706587\n",
      "Testing accuracy  is :  83.85650224215246\n",
      "\n",
      "\n",
      "At random state 77 The model performs very well\n",
      "At random state  77\n",
      "Training accuracy is :  91.31736526946108\n",
      "Testing accuracy  is :  81.61434977578476\n",
      "\n",
      "\n",
      "At random state 78 The model performs very well\n",
      "At random state  78\n",
      "Training accuracy is :  90.86826347305389\n",
      "Testing accuracy  is :  84.30493273542601\n",
      "\n",
      "\n",
      "At random state 79 The model performs very well\n",
      "At random state  79\n",
      "Training accuracy is :  91.76646706586826\n",
      "Testing accuracy  is :  82.51121076233184\n",
      "\n",
      "\n",
      "At random state 80 The model performs very well\n",
      "At random state  80\n",
      "Training accuracy is :  91.91616766467065\n",
      "Testing accuracy  is :  82.51121076233184\n",
      "\n",
      "\n",
      "At random state 81 The model performs very well\n",
      "At random state  81\n",
      "Training accuracy is :  91.91616766467065\n",
      "Testing accuracy  is :  80.26905829596413\n",
      "\n",
      "\n",
      "At random state 82 The model performs very well\n",
      "At random state  82\n",
      "Training accuracy is :  91.46706586826348\n",
      "Testing accuracy  is :  83.40807174887892\n",
      "\n",
      "\n",
      "At random state 83 The model performs very well\n",
      "At random state  83\n",
      "Training accuracy is :  91.46706586826348\n",
      "Testing accuracy  is :  83.40807174887892\n",
      "\n",
      "\n",
      "At random state 84 The model performs very well\n",
      "At random state  84\n",
      "Training accuracy is :  92.21556886227546\n",
      "Testing accuracy  is :  78.02690582959642\n",
      "\n",
      "\n",
      "At random state 85 The model performs very well\n",
      "At random state  85\n",
      "Training accuracy is :  91.91616766467065\n",
      "Testing accuracy  is :  83.85650224215246\n",
      "\n",
      "\n",
      "At random state 86 The model performs very well\n",
      "At random state  86\n",
      "Training accuracy is :  91.91616766467065\n",
      "Testing accuracy  is :  81.16591928251121\n",
      "\n",
      "\n",
      "At random state 87 The model performs very well\n",
      "At random state  87\n",
      "Training accuracy is :  91.46706586826348\n",
      "Testing accuracy  is :  80.26905829596413\n",
      "\n",
      "\n",
      "At random state 88 The model performs very well\n",
      "At random state  88\n",
      "Training accuracy is :  91.01796407185628\n",
      "Testing accuracy  is :  83.85650224215246\n",
      "\n",
      "\n",
      "At random state 89 The model performs very well\n",
      "At random state  89\n",
      "Training accuracy is :  90.5688622754491\n",
      "Testing accuracy  is :  86.09865470852019\n",
      "\n",
      "\n",
      "At random state 90 The model performs very well\n",
      "At random state  90\n",
      "Training accuracy is :  91.1676646706587\n",
      "Testing accuracy  is :  80.26905829596413\n",
      "\n",
      "\n",
      "At random state 91 The model performs very well\n",
      "At random state  91\n",
      "Training accuracy is :  91.31736526946108\n",
      "Testing accuracy  is :  83.85650224215246\n",
      "\n",
      "\n",
      "At random state 92 The model performs very well\n",
      "At random state  92\n",
      "Training accuracy is :  91.91616766467065\n",
      "Testing accuracy  is :  81.61434977578476\n",
      "\n",
      "\n",
      "At random state 93 The model performs very well\n",
      "At random state  93\n",
      "Training accuracy is :  91.31736526946108\n",
      "Testing accuracy  is :  86.09865470852019\n",
      "\n",
      "\n",
      "At random state 94 The model performs very well\n",
      "At random state  94\n",
      "Training accuracy is :  91.1676646706587\n",
      "Testing accuracy  is :  86.09865470852019\n",
      "\n",
      "\n",
      "At random state 95 The model performs very well\n",
      "At random state  95\n",
      "Training accuracy is :  91.01796407185628\n",
      "Testing accuracy  is :  84.75336322869956\n",
      "\n",
      "\n",
      "At random state 96 The model performs very well\n",
      "At random state  96\n",
      "Training accuracy is :  91.31736526946108\n",
      "Testing accuracy  is :  82.51121076233184\n",
      "\n",
      "\n",
      "At random state 97 The model performs very well\n",
      "At random state  97\n",
      "Training accuracy is :  92.36526946107784\n",
      "Testing accuracy  is :  82.0627802690583\n",
      "\n",
      "\n",
      "At random state 98 The model performs very well\n",
      "At random state  98\n",
      "Training accuracy is :  92.81437125748504\n",
      "Testing accuracy  is :  78.9237668161435\n",
      "\n",
      "\n",
      "At random state 99 The model performs very well\n",
      "At random state  99\n",
      "Training accuracy is :  92.36526946107784\n",
      "Testing accuracy  is :  82.95964125560538\n",
      "\n",
      "\n"
     ]
    }
   ],
   "source": [
    "#RandomForestClassifier:\n",
    "for i in range(0,100):\n",
    "    x_train,x_test,y_train,y_test=tts(x,y,test_size=0.25,random_state=i)\n",
    "    rf.fit(x_train,y_train)\n",
    "    pred_train=rf.predict(x_train)\n",
    "    pred_test=rf.predict(x_test)\n",
    "    print(\"At random state\", i , \"The model performs very well\")\n",
    "    print(\"At random state \", i)\n",
    "    print(\"Training accuracy is : \", accuracy_score(y_train,pred_train)*100)\n",
    "    print(\"Testing accuracy  is : \", accuracy_score(y_test,pred_test)*100)\n",
    "    print('\\n')"
   ]
  },
  {
   "cell_type": "markdown",
   "id": "f011cd98",
   "metadata": {},
   "source": [
    "At Random State 63 model performance is quite well.  we will take this random state and do further analysis."
   ]
  },
  {
   "cell_type": "code",
   "execution_count": 96,
   "id": "9de69659",
   "metadata": {},
   "outputs": [
    {
     "name": "stdout",
     "output_type": "stream",
     "text": [
      "The accuracy score is : 0.9147982062780269\n",
      "The f1 score is :  0.8862275449101796\n",
      "The confusion matrixis : \n",
      " [[130   5]\n",
      " [ 14  74]]\n",
      "The classification report is : \n",
      "              precision    recall  f1-score   support\n",
      "\n",
      "           0       0.90      0.96      0.93       135\n",
      "           1       0.94      0.84      0.89        88\n",
      "\n",
      "    accuracy                           0.91       223\n",
      "   macro avg       0.92      0.90      0.91       223\n",
      "weighted avg       0.92      0.91      0.91       223\n",
      "\n"
     ]
    }
   ],
   "source": [
    "from sklearn.metrics import f1_score,accuracy_score,classification_report,confusion_matrix\n",
    "x_train,x_test,y_train,y_test=tts(x,y,test_size=0.25,random_state=63)\n",
    "pred_train=rf.predict(x_train)\n",
    "pred_test=rf.predict(x_test)\n",
    "print('The accuracy score is :', accuracy_score(y_test,pred_test))\n",
    "print('The f1 score is : ', f1_score(y_test,pred_test))\n",
    "print('The confusion matrixis : \\n', confusion_matrix(y_test,pred_test))\n",
    "print('The classification report is : ')\n",
    "print(classification_report(y_test,pred_test))"
   ]
  },
  {
   "cell_type": "markdown",
   "id": "749a36c7",
   "metadata": {},
   "source": [
    "## Find the Best Cross Fold for RandomForest:"
   ]
  },
  {
   "cell_type": "code",
   "execution_count": 99,
   "id": "e3d38efc",
   "metadata": {},
   "outputs": [
    {
     "name": "stdout",
     "output_type": "stream",
     "text": [
      "at cv :- 2\n",
      "cross validation score is  0.8013629263868596\n",
      "accuracy score is  0.9147982062780269\n",
      "\n",
      "\n",
      "at cv :- 3\n",
      "cross validation score is  0.8282828282828283\n",
      "accuracy score is  0.9147982062780269\n",
      "\n",
      "\n",
      "at cv :- 4\n",
      "cross validation score is  0.8361713731668888\n",
      "accuracy score is  0.9147982062780269\n",
      "\n",
      "\n",
      "at cv :- 5\n",
      "cross validation score is  0.8372606867114432\n",
      "accuracy score is  0.9147982062780269\n",
      "\n",
      "\n",
      "at cv :- 6\n",
      "cross validation score is  0.8249138400145113\n",
      "accuracy score is  0.9147982062780269\n",
      "\n",
      "\n",
      "at cv :- 7\n",
      "cross validation score is  0.8373084223847022\n",
      "accuracy score is  0.9147982062780269\n",
      "\n",
      "\n",
      "at cv :- 8\n",
      "cross validation score is  0.8362089768339769\n",
      "accuracy score is  0.9147982062780269\n",
      "\n",
      "\n",
      "at cv :- 9\n",
      "cross validation score is  0.8249158249158249\n",
      "accuracy score is  0.9147982062780269\n",
      "\n",
      "\n",
      "at cv :- 10\n",
      "cross validation score is  0.8350686641697879\n",
      "accuracy score is  0.9147982062780269\n",
      "\n",
      "\n"
     ]
    }
   ],
   "source": [
    "pred_rf=rf.predict(x_test)\n",
    "from sklearn.model_selection import cross_val_score\n",
    "accuracy_score= accuracy_score(y_test,pred_rf)\n",
    "for i in range(2,11):\n",
    "    rf_cv=cross_val_score(rf,x,y,cv=i)\n",
    "    cv_mean=rf_cv.mean()\n",
    "    print(\"at cv :-\",i)\n",
    "    print(\"cross validation score is \", cv_mean)\n",
    "    print(\"accuracy score is \", accuracy_score)\n",
    "    print('\\n')"
   ]
  },
  {
   "cell_type": "markdown",
   "id": "d861e143",
   "metadata": {},
   "source": [
    "At Cv=7 the diffrence between cross val mean and accuracy score is very less. so cv=7 selected. "
   ]
  },
  {
   "cell_type": "code",
   "execution_count": 100,
   "id": "4897c59a",
   "metadata": {},
   "outputs": [
    {
     "name": "stdout",
     "output_type": "stream",
     "text": [
      "Cross Validation score:-  0.8328177727784029 &  Accuracy score is :-  0.9147982062780269\n"
     ]
    }
   ],
   "source": [
    "rf_score=cross_val_score(rf,x,y,cv=7).mean()\n",
    "print(\"Cross Validation score:- \", rf_score, \"&\" , \" Accuracy score is :- \", accuracy_score)"
   ]
  },
  {
   "cell_type": "markdown",
   "id": "37781d73",
   "metadata": {},
   "source": [
    "# Hyperparameter tunning for RandomForestClassifer:"
   ]
  },
  {
   "cell_type": "code",
   "execution_count": 103,
   "id": "24cdcf49",
   "metadata": {},
   "outputs": [
    {
     "name": "stdout",
     "output_type": "stream",
     "text": [
      "{'random_state': 10, 'n_estimators': 14, 'min_samples_split': 6, 'min_samples_leaf': 6, 'max_depth': 9, 'criterion': 'gini'}\n"
     ]
    }
   ],
   "source": [
    "from sklearn.model_selection import RandomizedSearchCV\n",
    "rf=RandomForestClassifier()\n",
    "parameters={'criterion':['gini','entropy'],'n_estimators':list(range(2,21)),\n",
    "           'min_samples_split':list(range(2,8)),\n",
    "           'min_samples_leaf':list(range(2,8)),\n",
    "          'random_state':list(range(1,11)),\n",
    "          'max_depth':list(range(4,10))}\n",
    "clf=RandomizedSearchCV(rf,parameters)\n",
    "clf.fit(x_train,y_train)\n",
    "\n",
    "print(clf.best_params_)"
   ]
  },
  {
   "cell_type": "code",
   "execution_count": 105,
   "id": "196e789f",
   "metadata": {},
   "outputs": [
    {
     "name": "stdout",
     "output_type": "stream",
     "text": [
      "The accuracy score is : 0.8385650224215246\n",
      "The f1 score is :  0.76\n",
      "The confusion matrixis : \n",
      " [[130   5]\n",
      " [ 31  57]]\n",
      "The classification report is : \n",
      "              precision    recall  f1-score   support\n",
      "\n",
      "           0       0.81      0.96      0.88       135\n",
      "           1       0.92      0.65      0.76        88\n",
      "\n",
      "    accuracy                           0.84       223\n",
      "   macro avg       0.86      0.81      0.82       223\n",
      "weighted avg       0.85      0.84      0.83       223\n",
      "\n"
     ]
    }
   ],
   "source": [
    "from sklearn.metrics import f1_score,accuracy_score,classification_report,confusion_matrix\n",
    "rf=RandomForestClassifier(random_state=10,n_estimators=14,min_samples_split=6,min_samples_leaf=6,max_depth=9,criterion='gini')\n",
    "rf.fit(x_train,y_train)\n",
    "pred_train=rf.predict(x_train)\n",
    "pred_test=rf.predict(x_test)\n",
    "print('The accuracy score is :', accuracy_score(y_test,pred_test))\n",
    "print('The f1 score is : ', f1_score(y_test,pred_test))\n",
    "print('The confusion matrixis : \\n', confusion_matrix(y_test,pred_test))\n",
    "print('The classification report is : ')\n",
    "print(classification_report(y_test,pred_test))"
   ]
  },
  {
   "cell_type": "markdown",
   "id": "fbe0cd13",
   "metadata": {},
   "source": [
    "# ROC and AUC curve"
   ]
  },
  {
   "cell_type": "code",
   "execution_count": 106,
   "id": "f7990ea1",
   "metadata": {},
   "outputs": [
    {
     "data": {
      "image/png": "[encoded data removed]",
      "text/plain": [
       "<Figure size 432x288 with 1 Axes>"
      ]
     },
     "metadata": {
      "needs_background": "light"
     },
     "output_type": "display_data"
    },
    {
     "name": "stdout",
     "output_type": "stream",
     "text": [
      "AUC value is 0.8634041274293729 \n"
     ]
    }
   ],
   "source": [
    "from sklearn.metrics import roc_curve,auc\n",
    "fpr, tpr, threshold= roc_curve(pred_test,y_test)\n",
    "plt.plot(fpr, tpr)\n",
    "plt.xlabel(\"False Positive Rate\")\n",
    "plt.ylabel(\"True Positive Rate\")\n",
    "plt.title(\"ROC curve\")\n",
    "plt.show()\n",
    "print(\"AUC value is {} \".format(auc(fpr, tpr)))"
   ]
  },
  {
   "cell_type": "markdown",
   "id": "3c075a87",
   "metadata": {},
   "source": [
    "# GradientBoostingClassifier:"
   ]
  },
  {
   "cell_type": "code",
   "execution_count": 108,
   "id": "3a6cb3a0",
   "metadata": {},
   "outputs": [],
   "source": [
    "from sklearn.ensemble import GradientBoostingClassifier\n",
    "from sklearn.metrics import accuracy_score,confusion_matrix,classification_report\n",
    "gbdt_clf=GradientBoostingClassifier()\n"
   ]
  },
  {
   "cell_type": "markdown",
   "id": "92cd64c6",
   "metadata": {},
   "source": [
    "## finding the random State"
   ]
  },
  {
   "cell_type": "code",
   "execution_count": 110,
   "id": "7d672538",
   "metadata": {},
   "outputs": [
    {
     "name": "stdout",
     "output_type": "stream",
     "text": [
      "At random state  0\n",
      "Training accuracy is :  87.57485029940119\n",
      "Testing accuracy  is :  83.40807174887892\n",
      "\n",
      "\n",
      "At random state  1\n",
      "Training accuracy is :  89.07185628742515\n",
      "Testing accuracy  is :  78.02690582959642\n",
      "\n",
      "\n",
      "At random state  2\n",
      "Training accuracy is :  87.72455089820359\n",
      "Testing accuracy  is :  80.71748878923766\n",
      "\n",
      "\n",
      "At random state  3\n",
      "Training accuracy is :  88.32335329341318\n",
      "Testing accuracy  is :  78.9237668161435\n",
      "\n",
      "\n",
      "At random state  4\n",
      "Training accuracy is :  87.12574850299401\n",
      "Testing accuracy  is :  85.20179372197309\n",
      "\n",
      "\n",
      "At random state  5\n",
      "Training accuracy is :  87.27544910179641\n",
      "Testing accuracy  is :  83.85650224215246\n",
      "\n",
      "\n",
      "At random state  6\n",
      "Training accuracy is :  88.02395209580838\n",
      "Testing accuracy  is :  86.09865470852019\n",
      "\n",
      "\n",
      "At random state  7\n",
      "Training accuracy is :  87.42514970059881\n",
      "Testing accuracy  is :  80.26905829596413\n",
      "\n",
      "\n",
      "At random state  8\n",
      "Training accuracy is :  87.12574850299401\n",
      "Testing accuracy  is :  86.09865470852019\n",
      "\n",
      "\n",
      "At random state  9\n",
      "Training accuracy is :  88.02395209580838\n",
      "Testing accuracy  is :  79.82062780269058\n",
      "\n",
      "\n",
      "At random state  10\n",
      "Training accuracy is :  88.02395209580838\n",
      "Testing accuracy  is :  83.40807174887892\n",
      "\n",
      "\n",
      "At random state  11\n",
      "Training accuracy is :  86.07784431137725\n",
      "Testing accuracy  is :  85.20179372197309\n",
      "\n",
      "\n",
      "At random state  12\n",
      "Training accuracy is :  88.47305389221557\n",
      "Testing accuracy  is :  79.82062780269058\n",
      "\n",
      "\n",
      "At random state  13\n",
      "Training accuracy is :  87.57485029940119\n",
      "Testing accuracy  is :  83.40807174887892\n",
      "\n",
      "\n",
      "At random state  14\n",
      "Training accuracy is :  88.47305389221557\n",
      "Testing accuracy  is :  83.85650224215246\n",
      "\n",
      "\n",
      "At random state  15\n",
      "Training accuracy is :  87.42514970059881\n",
      "Testing accuracy  is :  81.61434977578476\n",
      "\n",
      "\n",
      "At random state  16\n",
      "Training accuracy is :  89.52095808383234\n",
      "Testing accuracy  is :  80.71748878923766\n",
      "\n",
      "\n",
      "At random state  17\n",
      "Training accuracy is :  88.02395209580838\n",
      "Testing accuracy  is :  81.61434977578476\n",
      "\n",
      "\n",
      "At random state  18\n",
      "Training accuracy is :  86.52694610778443\n",
      "Testing accuracy  is :  88.34080717488789\n",
      "\n",
      "\n",
      "At random state  19\n",
      "Training accuracy is :  87.12574850299401\n",
      "Testing accuracy  is :  83.40807174887892\n",
      "\n",
      "\n",
      "At random state  20\n",
      "Training accuracy is :  87.12574850299401\n",
      "Testing accuracy  is :  83.40807174887892\n",
      "\n",
      "\n",
      "At random state  21\n",
      "Training accuracy is :  87.87425149700599\n",
      "Testing accuracy  is :  81.16591928251121\n",
      "\n",
      "\n",
      "At random state  22\n",
      "Training accuracy is :  88.17365269461078\n",
      "Testing accuracy  is :  82.51121076233184\n",
      "\n",
      "\n",
      "At random state  23\n",
      "Training accuracy is :  87.42514970059881\n",
      "Testing accuracy  is :  83.40807174887892\n",
      "\n",
      "\n",
      "At random state  24\n",
      "Training accuracy is :  87.12574850299401\n",
      "Testing accuracy  is :  82.95964125560538\n",
      "\n",
      "\n",
      "At random state  25\n",
      "Training accuracy is :  88.17365269461078\n",
      "Testing accuracy  is :  81.16591928251121\n",
      "\n",
      "\n",
      "At random state  26\n",
      "Training accuracy is :  88.77245508982035\n",
      "Testing accuracy  is :  79.82062780269058\n",
      "\n",
      "\n",
      "At random state  27\n",
      "Training accuracy is :  87.72455089820359\n",
      "Testing accuracy  is :  82.95964125560538\n",
      "\n",
      "\n",
      "At random state  28\n",
      "Training accuracy is :  88.02395209580838\n",
      "Testing accuracy  is :  84.30493273542601\n",
      "\n",
      "\n",
      "At random state  29\n",
      "Training accuracy is :  89.22155688622755\n",
      "Testing accuracy  is :  79.82062780269058\n",
      "\n",
      "\n",
      "At random state  30\n",
      "Training accuracy is :  88.62275449101796\n",
      "Testing accuracy  is :  82.0627802690583\n",
      "\n",
      "\n",
      "At random state  31\n",
      "Training accuracy is :  88.17365269461078\n",
      "Testing accuracy  is :  82.0627802690583\n",
      "\n",
      "\n",
      "At random state  32\n",
      "Training accuracy is :  89.67065868263472\n",
      "Testing accuracy  is :  79.82062780269058\n",
      "\n",
      "\n",
      "At random state  33\n",
      "Training accuracy is :  86.52694610778443\n",
      "Testing accuracy  is :  85.20179372197309\n",
      "\n",
      "\n",
      "At random state  34\n",
      "Training accuracy is :  87.12574850299401\n",
      "Testing accuracy  is :  86.54708520179372\n",
      "\n",
      "\n",
      "At random state  35\n",
      "Training accuracy is :  87.42514970059881\n",
      "Testing accuracy  is :  82.0627802690583\n",
      "\n",
      "\n",
      "At random state  36\n",
      "Training accuracy is :  87.72455089820359\n",
      "Testing accuracy  is :  82.95964125560538\n",
      "\n",
      "\n",
      "At random state  37\n",
      "Training accuracy is :  87.87425149700599\n",
      "Testing accuracy  is :  82.0627802690583\n",
      "\n",
      "\n",
      "At random state  38\n",
      "Training accuracy is :  87.27544910179641\n",
      "Testing accuracy  is :  85.20179372197309\n",
      "\n",
      "\n",
      "At random state  39\n",
      "Training accuracy is :  88.17365269461078\n",
      "Testing accuracy  is :  83.85650224215246\n",
      "\n",
      "\n",
      "At random state  40\n",
      "Training accuracy is :  87.27544910179641\n",
      "Testing accuracy  is :  79.82062780269058\n",
      "\n",
      "\n",
      "At random state  41\n",
      "Training accuracy is :  87.72455089820359\n",
      "Testing accuracy  is :  84.30493273542601\n",
      "\n",
      "\n",
      "At random state  42\n",
      "Training accuracy is :  87.87425149700599\n",
      "Testing accuracy  is :  81.16591928251121\n",
      "\n",
      "\n",
      "At random state  43\n",
      "Training accuracy is :  89.52095808383234\n",
      "Testing accuracy  is :  78.47533632286996\n",
      "\n",
      "\n",
      "At random state  44\n",
      "Training accuracy is :  89.67065868263472\n",
      "Testing accuracy  is :  81.61434977578476\n",
      "\n",
      "\n",
      "At random state  45\n",
      "Training accuracy is :  87.27544910179641\n",
      "Testing accuracy  is :  86.99551569506725\n",
      "\n",
      "\n",
      "At random state  46\n",
      "Training accuracy is :  87.42514970059881\n",
      "Testing accuracy  is :  85.65022421524664\n",
      "\n",
      "\n",
      "At random state  47\n",
      "Training accuracy is :  89.22155688622755\n",
      "Testing accuracy  is :  81.16591928251121\n",
      "\n",
      "\n",
      "At random state  48\n",
      "Training accuracy is :  88.47305389221557\n",
      "Testing accuracy  is :  82.95964125560538\n",
      "\n",
      "\n",
      "At random state  49\n",
      "Training accuracy is :  88.02395209580838\n",
      "Testing accuracy  is :  84.30493273542601\n",
      "\n",
      "\n",
      "At random state  50\n",
      "Training accuracy is :  88.17365269461078\n",
      "Testing accuracy  is :  82.0627802690583\n",
      "\n",
      "\n",
      "At random state  51\n",
      "Training accuracy is :  88.32335329341318\n",
      "Testing accuracy  is :  81.16591928251121\n",
      "\n",
      "\n",
      "At random state  52\n",
      "Training accuracy is :  86.97604790419162\n",
      "Testing accuracy  is :  82.95964125560538\n",
      "\n",
      "\n",
      "At random state  53\n",
      "Training accuracy is :  87.87425149700599\n",
      "Testing accuracy  is :  79.82062780269058\n",
      "\n",
      "\n",
      "At random state  54\n",
      "Training accuracy is :  88.62275449101796\n",
      "Testing accuracy  is :  81.61434977578476\n",
      "\n",
      "\n",
      "At random state  55\n",
      "Training accuracy is :  87.87425149700599\n",
      "Testing accuracy  is :  79.37219730941703\n",
      "\n",
      "\n",
      "At random state  56\n",
      "Training accuracy is :  86.52694610778443\n",
      "Testing accuracy  is :  83.85650224215246\n",
      "\n",
      "\n",
      "At random state  57\n",
      "Training accuracy is :  87.57485029940119\n",
      "Testing accuracy  is :  82.51121076233184\n",
      "\n",
      "\n",
      "At random state  58\n",
      "Training accuracy is :  87.42514970059881\n",
      "Testing accuracy  is :  84.30493273542601\n",
      "\n",
      "\n",
      "At random state  59\n",
      "Training accuracy is :  89.22155688622755\n",
      "Testing accuracy  is :  77.57847533632287\n",
      "\n",
      "\n",
      "At random state  60\n",
      "Training accuracy is :  89.37125748502994\n",
      "Testing accuracy  is :  78.47533632286996\n",
      "\n",
      "\n",
      "At random state  61\n",
      "Training accuracy is :  87.72455089820359\n",
      "Testing accuracy  is :  84.30493273542601\n",
      "\n",
      "\n",
      "At random state  62\n",
      "Training accuracy is :  85.77844311377245\n",
      "Testing accuracy  is :  83.85650224215246\n",
      "\n",
      "\n",
      "At random state  63\n",
      "Training accuracy is :  86.52694610778443\n",
      "Testing accuracy  is :  84.30493273542601\n",
      "\n",
      "\n",
      "At random state  64\n",
      "Training accuracy is :  86.97604790419162\n",
      "Testing accuracy  is :  84.30493273542601\n",
      "\n",
      "\n",
      "At random state  65\n",
      "Training accuracy is :  87.42514970059881\n",
      "Testing accuracy  is :  80.71748878923766\n",
      "\n",
      "\n",
      "At random state  66\n",
      "Training accuracy is :  87.72455089820359\n",
      "Testing accuracy  is :  83.85650224215246\n",
      "\n",
      "\n",
      "At random state  67\n",
      "Training accuracy is :  87.57485029940119\n",
      "Testing accuracy  is :  82.0627802690583\n",
      "\n",
      "\n",
      "At random state  68\n",
      "Training accuracy is :  87.72455089820359\n",
      "Testing accuracy  is :  82.95964125560538\n",
      "\n",
      "\n",
      "At random state  69\n",
      "Training accuracy is :  87.27544910179641\n",
      "Testing accuracy  is :  85.20179372197309\n",
      "\n",
      "\n",
      "At random state  70\n",
      "Training accuracy is :  87.57485029940119\n",
      "Testing accuracy  is :  82.95964125560538\n",
      "\n",
      "\n",
      "At random state  71\n",
      "Training accuracy is :  87.42514970059881\n",
      "Testing accuracy  is :  84.75336322869956\n",
      "\n",
      "\n",
      "At random state  72\n",
      "Training accuracy is :  88.02395209580838\n",
      "Testing accuracy  is :  85.65022421524664\n",
      "\n",
      "\n",
      "At random state  73\n",
      "Training accuracy is :  87.57485029940119\n",
      "Testing accuracy  is :  86.54708520179372\n",
      "\n",
      "\n",
      "At random state  74\n",
      "Training accuracy is :  86.37724550898204\n",
      "Testing accuracy  is :  87.89237668161435\n",
      "\n",
      "\n",
      "At random state  75\n",
      "Training accuracy is :  88.62275449101796\n",
      "Testing accuracy  is :  81.16591928251121\n",
      "\n",
      "\n",
      "At random state  76\n",
      "Training accuracy is :  85.77844311377245\n",
      "Testing accuracy  is :  85.20179372197309\n",
      "\n",
      "\n",
      "At random state  77\n",
      "Training accuracy is :  87.72455089820359\n",
      "Testing accuracy  is :  83.40807174887892\n",
      "\n",
      "\n",
      "At random state  78\n",
      "Training accuracy is :  87.27544910179641\n",
      "Testing accuracy  is :  85.20179372197309\n",
      "\n",
      "\n",
      "At random state  79\n",
      "Training accuracy is :  87.87425149700599\n",
      "Testing accuracy  is :  83.40807174887892\n",
      "\n",
      "\n",
      "At random state  80\n",
      "Training accuracy is :  88.32335329341318\n",
      "Testing accuracy  is :  81.16591928251121\n",
      "\n",
      "\n",
      "At random state  81\n",
      "Training accuracy is :  88.32335329341318\n",
      "Testing accuracy  is :  81.61434977578476\n",
      "\n",
      "\n",
      "At random state  82\n",
      "Training accuracy is :  87.87425149700599\n",
      "Testing accuracy  is :  82.95964125560538\n",
      "\n",
      "\n",
      "At random state  83\n",
      "Training accuracy is :  88.47305389221557\n",
      "Testing accuracy  is :  84.75336322869956\n",
      "\n",
      "\n",
      "At random state  84\n",
      "Training accuracy is :  88.62275449101796\n",
      "Testing accuracy  is :  81.61434977578476\n",
      "\n",
      "\n",
      "At random state  85\n",
      "Training accuracy is :  88.77245508982035\n",
      "Testing accuracy  is :  82.95964125560538\n",
      "\n",
      "\n",
      "At random state  86\n",
      "Training accuracy is :  88.32335329341318\n",
      "Testing accuracy  is :  81.61434977578476\n",
      "\n",
      "\n",
      "At random state  87\n",
      "Training accuracy is :  88.02395209580838\n",
      "Testing accuracy  is :  83.40807174887892\n",
      "\n",
      "\n",
      "At random state  88\n",
      "Training accuracy is :  87.42514970059881\n",
      "Testing accuracy  is :  84.30493273542601\n",
      "\n",
      "\n",
      "At random state  89\n",
      "Training accuracy is :  85.92814371257485\n",
      "Testing accuracy  is :  86.54708520179372\n",
      "\n",
      "\n",
      "At random state  90\n",
      "Training accuracy is :  88.17365269461078\n",
      "Testing accuracy  is :  83.40807174887892\n",
      "\n",
      "\n",
      "At random state  91\n",
      "Training accuracy is :  87.72455089820359\n",
      "Testing accuracy  is :  84.75336322869956\n",
      "\n",
      "\n",
      "At random state  92\n",
      "Training accuracy is :  89.07185628742515\n",
      "Testing accuracy  is :  81.16591928251121\n",
      "\n",
      "\n",
      "At random state  93\n",
      "Training accuracy is :  86.97604790419162\n",
      "Testing accuracy  is :  83.85650224215246\n",
      "\n",
      "\n",
      "At random state  94\n",
      "Training accuracy is :  87.42514970059881\n",
      "Testing accuracy  is :  82.0627802690583\n",
      "\n",
      "\n",
      "At random state  95\n",
      "Training accuracy is :  87.12574850299401\n",
      "Testing accuracy  is :  85.20179372197309\n",
      "\n",
      "\n",
      "At random state  96\n",
      "Training accuracy is :  88.32335329341318\n",
      "Testing accuracy  is :  82.51121076233184\n",
      "\n",
      "\n",
      "At random state  97\n",
      "Training accuracy is :  89.07185628742515\n",
      "Testing accuracy  is :  79.37219730941703\n",
      "\n",
      "\n",
      "At random state  98\n",
      "Training accuracy is :  89.67065868263472\n",
      "Testing accuracy  is :  81.16591928251121\n",
      "\n",
      "\n",
      "At random state  99\n",
      "Training accuracy is :  87.27544910179641\n",
      "Testing accuracy  is :  82.0627802690583\n",
      "\n",
      "\n"
     ]
    }
   ],
   "source": [
    "#GradientBosstingClassifier:\n",
    "for i in range(0,100):\n",
    "    x_train,x_test,y_train,y_test=tts(x,y,test_size=0.25,random_state=i)\n",
    "    gbdt_clf.fit(x_train,y_train)\n",
    "    pred_train=gbdt_clf.predict(x_train)\n",
    "    pred_test=gbdt_clf.predict(x_test)\n",
    "    print(\"At random state \", i)\n",
    "    print(\"Training accuracy is : \", accuracy_score(y_train,pred_train)*100)\n",
    "    print(\"Testing accuracy  is : \", accuracy_score(y_test,pred_test)*100)\n",
    "    print('\\n')"
   ]
  },
  {
   "cell_type": "markdown",
   "id": "8c71f37b",
   "metadata": {},
   "source": [
    "Ar Random state 74 model perform very well."
   ]
  },
  {
   "cell_type": "code",
   "execution_count": 111,
   "id": "f50513ac",
   "metadata": {},
   "outputs": [
    {
     "name": "stdout",
     "output_type": "stream",
     "text": [
      "The accuracy score is : 0.9013452914798207\n",
      "The f1 score is :  0.875\n",
      "The confusion matrixis : \n",
      " [[124   9]\n",
      " [ 13  77]]\n",
      "The classification report is : \n",
      "              precision    recall  f1-score   support\n",
      "\n",
      "           0       0.91      0.93      0.92       133\n",
      "           1       0.90      0.86      0.88        90\n",
      "\n",
      "    accuracy                           0.90       223\n",
      "   macro avg       0.90      0.89      0.90       223\n",
      "weighted avg       0.90      0.90      0.90       223\n",
      "\n"
     ]
    }
   ],
   "source": [
    "from sklearn.metrics import f1_score,accuracy_score,classification_report,confusion_matrix\n",
    "x_train,x_test,y_train,y_test=tts(x,y,test_size=0.25,random_state=74)\n",
    "pred_train=gbdt_clf.predict(x_train)\n",
    "pred_test=gbdt_clf.predict(x_test)\n",
    "print('The accuracy score is :', accuracy_score(y_test,pred_test))\n",
    "print('The f1 score is : ', f1_score(y_test,pred_test))\n",
    "print('The confusion matrixis : \\n', confusion_matrix(y_test,pred_test))\n",
    "print('The classification report is : ')\n",
    "print(classification_report(y_test,pred_test))"
   ]
  },
  {
   "cell_type": "markdown",
   "id": "247e58d1",
   "metadata": {},
   "source": [
    "# CV for GBDT"
   ]
  },
  {
   "cell_type": "code",
   "execution_count": 112,
   "id": "4883284e",
   "metadata": {},
   "outputs": [
    {
     "name": "stdout",
     "output_type": "stream",
     "text": [
      "at cv :- 2\n",
      "cross validation score is  0.8137123998589207\n",
      "accuracy score is  0.9013452914798207\n",
      "\n",
      "\n",
      "at cv :- 3\n",
      "cross validation score is  0.829405162738496\n",
      "accuracy score is  0.9013452914798207\n",
      "\n",
      "\n",
      "at cv :- 4\n",
      "cross validation score is  0.8372924494000726\n",
      "accuracy score is  0.9013452914798207\n",
      "\n",
      "\n",
      "at cv :- 5\n",
      "cross validation score is  0.8305630531667816\n",
      "accuracy score is  0.9013452914798207\n",
      "\n",
      "\n",
      "at cv :- 6\n",
      "cross validation score is  0.8305595864320696\n",
      "accuracy score is  0.9013452914798207\n",
      "\n",
      "\n",
      "at cv :- 7\n",
      "cross validation score is  0.8395757170978629\n",
      "accuracy score is  0.9013452914798207\n",
      "\n",
      "\n",
      "at cv :- 8\n",
      "cross validation score is  0.8339667792792793\n",
      "accuracy score is  0.9013452914798207\n",
      "\n",
      "\n",
      "at cv :- 9\n",
      "cross validation score is  0.8226711560044895\n",
      "accuracy score is  0.9013452914798207\n",
      "\n",
      "\n",
      "at cv :- 10\n",
      "cross validation score is  0.8272284644194757\n",
      "accuracy score is  0.9013452914798207\n",
      "\n",
      "\n",
      "at cv :- 11\n",
      "cross validation score is  0.8249158249158249\n",
      "accuracy score is  0.9013452914798207\n",
      "\n",
      "\n",
      "at cv :- 12\n",
      "cross validation score is  0.8239639639639641\n",
      "accuracy score is  0.9013452914798207\n",
      "\n",
      "\n",
      "at cv :- 13\n",
      "cross validation score is  0.830546265328874\n",
      "accuracy score is  0.9013452914798207\n",
      "\n",
      "\n",
      "at cv :- 14\n",
      "cross validation score is  0.8306051587301589\n",
      "accuracy score is  0.9013452914798207\n",
      "\n",
      "\n",
      "at cv :- 15\n",
      "cross validation score is  0.8216760828625235\n",
      "accuracy score is  0.9013452914798207\n",
      "\n",
      "\n",
      "at cv :- 16\n",
      "cross validation score is  0.828327922077922\n",
      "accuracy score is  0.9013452914798207\n",
      "\n",
      "\n",
      "at cv :- 17\n",
      "cross validation score is  0.8238922564671732\n",
      "accuracy score is  0.9013452914798207\n",
      "\n",
      "\n",
      "at cv :- 18\n",
      "cross validation score is  0.8339909297052155\n",
      "accuracy score is  0.9013452914798207\n",
      "\n",
      "\n",
      "at cv :- 19\n",
      "cross validation score is  0.828326598179074\n",
      "accuracy score is  0.9013452914798207\n",
      "\n",
      "\n",
      "at cv :- 20\n",
      "cross validation score is  0.8294444444444447\n",
      "accuracy score is  0.9013452914798207\n",
      "\n",
      "\n"
     ]
    }
   ],
   "source": [
    "pred_gb=gbdt_clf.predict(x_test)\n",
    "from sklearn.model_selection import cross_val_score\n",
    "accuracy_score= accuracy_score(y_test,pred_gb)\n",
    "for i in range(2,21):\n",
    "    gb_cv=cross_val_score(gbdt_clf,x,y,cv=i)\n",
    "    cv_mean=gb_cv.mean()\n",
    "    print(\"at cv :-\",i)\n",
    "    print(\"cross validation score is \", cv_mean)\n",
    "    print(\"accuracy score is \", accuracy_score)\n",
    "    print('\\n')"
   ]
  },
  {
   "cell_type": "markdown",
   "id": "e7c4becd",
   "metadata": {},
   "source": [
    "CV=7 selected"
   ]
  },
  {
   "cell_type": "code",
   "execution_count": 113,
   "id": "6822b8a7",
   "metadata": {},
   "outputs": [
    {
     "name": "stdout",
     "output_type": "stream",
     "text": [
      "Cross Validation score:-  0.8406917885264343 &  Accuracy score is :-  0.9013452914798207\n"
     ]
    }
   ],
   "source": [
    "gb_score=cross_val_score(gbdt_clf,x,y,cv=7).mean()\n",
    "print(\"Cross Validation score:- \", gb_score, \"&\" , \" Accuracy score is :- \", accuracy_score)"
   ]
  },
  {
   "cell_type": "markdown",
   "id": "cf07aa21",
   "metadata": {},
   "source": [
    "# Hyperparameter Tunning"
   ]
  },
  {
   "cell_type": "code",
   "execution_count": 117,
   "id": "c74949b0",
   "metadata": {},
   "outputs": [
    {
     "name": "stdout",
     "output_type": "stream",
     "text": [
      "{'learning_rate': 0.1, 'max_depth': 4}\n"
     ]
    }
   ],
   "source": [
    "from sklearn.model_selection import GridSearchCV\n",
    "param={'max_depth':list(range(4,12,2)),\n",
    "      'learning_rate':list(np.arange(0.1,1,0.1))}\n",
    "grid=GridSearchCV(gbdt_clf,param_grid=param)\n",
    "grid.fit(x_train,y_train)\n",
    "\n",
    "print(grid.best_params_)"
   ]
  },
  {
   "cell_type": "code",
   "execution_count": 119,
   "id": "7eb01ff2",
   "metadata": {},
   "outputs": [
    {
     "name": "stdout",
     "output_type": "stream",
     "text": [
      "Accuracy score is :  0.852017937219731\n"
     ]
    },
    {
     "data": {
      "text/html": [
       "<div>\n",
       "<style scoped>\n",
       "    .dataframe tbody tr th:only-of-type {\n",
       "        vertical-align: middle;\n",
       "    }\n",
       "\n",
       "    .dataframe tbody tr th {\n",
       "        vertical-align: top;\n",
       "    }\n",
       "\n",
       "    .dataframe thead th {\n",
       "        text-align: right;\n",
       "    }\n",
       "</style>\n",
       "<table border=\"1\" class=\"dataframe\">\n",
       "  <thead>\n",
       "    <tr style=\"text-align: right;\">\n",
       "      <th></th>\n",
       "      <th>0</th>\n",
       "      <th>1</th>\n",
       "      <th>accuracy</th>\n",
       "      <th>macro avg</th>\n",
       "      <th>weighted avg</th>\n",
       "    </tr>\n",
       "  </thead>\n",
       "  <tbody>\n",
       "    <tr>\n",
       "      <th>precision</th>\n",
       "      <td>0.847222</td>\n",
       "      <td>0.860759</td>\n",
       "      <td>0.852018</td>\n",
       "      <td>0.853991</td>\n",
       "      <td>0.852686</td>\n",
       "    </tr>\n",
       "    <tr>\n",
       "      <th>recall</th>\n",
       "      <td>0.917293</td>\n",
       "      <td>0.755556</td>\n",
       "      <td>0.852018</td>\n",
       "      <td>0.836424</td>\n",
       "      <td>0.852018</td>\n",
       "    </tr>\n",
       "    <tr>\n",
       "      <th>f1-score</th>\n",
       "      <td>0.880866</td>\n",
       "      <td>0.804734</td>\n",
       "      <td>0.852018</td>\n",
       "      <td>0.842800</td>\n",
       "      <td>0.850140</td>\n",
       "    </tr>\n",
       "    <tr>\n",
       "      <th>support</th>\n",
       "      <td>133.000000</td>\n",
       "      <td>90.000000</td>\n",
       "      <td>0.852018</td>\n",
       "      <td>223.000000</td>\n",
       "      <td>223.000000</td>\n",
       "    </tr>\n",
       "  </tbody>\n",
       "</table>\n",
       "</div>"
      ],
      "text/plain": [
       "                    0          1  accuracy   macro avg  weighted avg\n",
       "precision    0.847222   0.860759  0.852018    0.853991      0.852686\n",
       "recall       0.917293   0.755556  0.852018    0.836424      0.852018\n",
       "f1-score     0.880866   0.804734  0.852018    0.842800      0.850140\n",
       "support    133.000000  90.000000  0.852018  223.000000    223.000000"
      ]
     },
     "execution_count": 119,
     "metadata": {},
     "output_type": "execute_result"
    }
   ],
   "source": [
    "from sklearn.metrics import accuracy_score , classification_report\n",
    "gbdt_clf=GradientBoostingClassifier(learning_rate=0.1,max_depth=4)\n",
    "gbdt_clf.fit(x_train,y_train)\n",
    "pred=gbdt_clf.predict(x_test)\n",
    "print('Accuracy score is : ',accuracy_score(y_test,pred))\n",
    "gbdt_clf_report=pd.DataFrame(classification_report(y_test,pred,output_dict=True))\n",
    "gbdt_clf_report"
   ]
  },
  {
   "cell_type": "markdown",
   "id": "8946bdf5",
   "metadata": {},
   "source": [
    "# AUC and ROC curve"
   ]
  },
  {
   "cell_type": "code",
   "execution_count": 120,
   "id": "cba6b3fe",
   "metadata": {},
   "outputs": [
    {
     "data": {
      "image/png": "[encoded data removed]",
      "text/plain": [
       "<Figure size 432x288 with 1 Axes>"
      ]
     },
     "metadata": {
      "needs_background": "light"
     },
     "output_type": "display_data"
    },
    {
     "name": "stdout",
     "output_type": "stream",
     "text": [
      "AUC value is 0.8539908579465542 \n"
     ]
    }
   ],
   "source": [
    "from sklearn.metrics import roc_curve,auc\n",
    "fpr, tpr, threshold= roc_curve(pred,y_test)\n",
    "plt.plot(fpr, tpr)\n",
    "plt.xlabel(\"False Positive Rate\")\n",
    "plt.ylabel(\"True Positive Rate\")\n",
    "plt.title(\"ROC curve\")\n",
    "plt.show()\n",
    "print(\"AUC value is {} \".format(auc(fpr, tpr)))"
   ]
  },
  {
   "cell_type": "markdown",
   "id": "6f7f2678",
   "metadata": {},
   "source": [
    "## `We built different models but RandomForestClassifier gives us The Best accuracy 86%`\n",
    "\n",
    "let's save that model using pickle."
   ]
  },
  {
   "cell_type": "code",
   "execution_count": 121,
   "id": "47c66bde",
   "metadata": {},
   "outputs": [],
   "source": [
    "import pickle\n",
    "filename='titanic_survival.pkl'\n",
    "pickle.dump(rf,open(filename,'wb'))"
   ]
  },
  {
   "cell_type": "code",
   "execution_count": null,
   "id": "556f7732",
   "metadata": {},
   "outputs": [],
   "source": []
  }
 ],
 "metadata": {
  "kernelspec": {
   "display_name": "Python 3",
   "language": "python",
   "name": "python3"
  },
  "language_info": {
   "codemirror_mode": {
    "name": "ipython",
    "version": 3
   },
   "file_extension": ".py",
   "mimetype": "text/x-python",
   "name": "python",
   "nbconvert_exporter": "python",
   "pygments_lexer": "ipython3",
   "version": "3.8.8"
  }
 },
 "nbformat": 4,
 "nbformat_minor": 5
}
