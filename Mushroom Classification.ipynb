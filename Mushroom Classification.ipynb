{
 "cells": [
  {
   "cell_type": "markdown",
   "id": "db9bbe73",
   "metadata": {},
   "source": [
    "# Problem Statement\n",
    "\n",
    "#### This data set includes descriptions of hypothetical samples corresponding to 23 species of gilled mushrooms in the Agaricus and Lepiota Family (pp. 500-525). Each species is identified as definitely edible, definitely poisonous, or of unknown edibility and not recommended. This latter class was combined with the poisonous one. The Guide clearly states that there is no simple rule for determining the edibility of a mushroom; no rule like ``leaflets three, let it be'' for Poisonous Oak and Ivy.\n",
    "\n",
    "``Thus, in this project, you have to predict the \"Class\" column.``\n"
   ]
  },
  {
   "cell_type": "code",
   "execution_count": 2,
   "id": "eea3c740",
   "metadata": {},
   "outputs": [],
   "source": [
    "import pandas as pd\n",
    "import numpy as np"
   ]
  },
  {
   "cell_type": "code",
   "execution_count": 3,
   "id": "80c82cc4",
   "metadata": {},
   "outputs": [
    {
     "data": {
      "text/html": [
       "<div>\n",
       "<style scoped>\n",
       "    .dataframe tbody tr th:only-of-type {\n",
       "        vertical-align: middle;\n",
       "    }\n",
       "\n",
       "    .dataframe tbody tr th {\n",
       "        vertical-align: top;\n",
       "    }\n",
       "\n",
       "    .dataframe thead th {\n",
       "        text-align: right;\n",
       "    }\n",
       "</style>\n",
       "<table border=\"1\" class=\"dataframe\">\n",
       "  <thead>\n",
       "    <tr style=\"text-align: right;\">\n",
       "      <th></th>\n",
       "      <th>class</th>\n",
       "      <th>cap-shape</th>\n",
       "      <th>cap-surface</th>\n",
       "      <th>cap-color</th>\n",
       "      <th>bruises</th>\n",
       "      <th>odor</th>\n",
       "      <th>gill-attachment</th>\n",
       "      <th>gill-spacing</th>\n",
       "      <th>gill-size</th>\n",
       "      <th>gill-color</th>\n",
       "      <th>...</th>\n",
       "      <th>stalk-surface-below-ring</th>\n",
       "      <th>stalk-color-above-ring</th>\n",
       "      <th>stalk-color-below-ring</th>\n",
       "      <th>veil-type</th>\n",
       "      <th>veil-color</th>\n",
       "      <th>ring-number</th>\n",
       "      <th>ring-type</th>\n",
       "      <th>spore-print-color</th>\n",
       "      <th>population</th>\n",
       "      <th>habitat</th>\n",
       "    </tr>\n",
       "  </thead>\n",
       "  <tbody>\n",
       "    <tr>\n",
       "      <th>0</th>\n",
       "      <td>p</td>\n",
       "      <td>x</td>\n",
       "      <td>s</td>\n",
       "      <td>n</td>\n",
       "      <td>t</td>\n",
       "      <td>p</td>\n",
       "      <td>f</td>\n",
       "      <td>c</td>\n",
       "      <td>n</td>\n",
       "      <td>k</td>\n",
       "      <td>...</td>\n",
       "      <td>s</td>\n",
       "      <td>w</td>\n",
       "      <td>w</td>\n",
       "      <td>p</td>\n",
       "      <td>w</td>\n",
       "      <td>o</td>\n",
       "      <td>p</td>\n",
       "      <td>k</td>\n",
       "      <td>s</td>\n",
       "      <td>u</td>\n",
       "    </tr>\n",
       "    <tr>\n",
       "      <th>1</th>\n",
       "      <td>e</td>\n",
       "      <td>x</td>\n",
       "      <td>s</td>\n",
       "      <td>y</td>\n",
       "      <td>t</td>\n",
       "      <td>a</td>\n",
       "      <td>f</td>\n",
       "      <td>c</td>\n",
       "      <td>b</td>\n",
       "      <td>k</td>\n",
       "      <td>...</td>\n",
       "      <td>s</td>\n",
       "      <td>w</td>\n",
       "      <td>w</td>\n",
       "      <td>p</td>\n",
       "      <td>w</td>\n",
       "      <td>o</td>\n",
       "      <td>p</td>\n",
       "      <td>n</td>\n",
       "      <td>n</td>\n",
       "      <td>g</td>\n",
       "    </tr>\n",
       "    <tr>\n",
       "      <th>2</th>\n",
       "      <td>e</td>\n",
       "      <td>b</td>\n",
       "      <td>s</td>\n",
       "      <td>w</td>\n",
       "      <td>t</td>\n",
       "      <td>l</td>\n",
       "      <td>f</td>\n",
       "      <td>c</td>\n",
       "      <td>b</td>\n",
       "      <td>n</td>\n",
       "      <td>...</td>\n",
       "      <td>s</td>\n",
       "      <td>w</td>\n",
       "      <td>w</td>\n",
       "      <td>p</td>\n",
       "      <td>w</td>\n",
       "      <td>o</td>\n",
       "      <td>p</td>\n",
       "      <td>n</td>\n",
       "      <td>n</td>\n",
       "      <td>m</td>\n",
       "    </tr>\n",
       "    <tr>\n",
       "      <th>3</th>\n",
       "      <td>p</td>\n",
       "      <td>x</td>\n",
       "      <td>y</td>\n",
       "      <td>w</td>\n",
       "      <td>t</td>\n",
       "      <td>p</td>\n",
       "      <td>f</td>\n",
       "      <td>c</td>\n",
       "      <td>n</td>\n",
       "      <td>n</td>\n",
       "      <td>...</td>\n",
       "      <td>s</td>\n",
       "      <td>w</td>\n",
       "      <td>w</td>\n",
       "      <td>p</td>\n",
       "      <td>w</td>\n",
       "      <td>o</td>\n",
       "      <td>p</td>\n",
       "      <td>k</td>\n",
       "      <td>s</td>\n",
       "      <td>u</td>\n",
       "    </tr>\n",
       "    <tr>\n",
       "      <th>4</th>\n",
       "      <td>e</td>\n",
       "      <td>x</td>\n",
       "      <td>s</td>\n",
       "      <td>g</td>\n",
       "      <td>f</td>\n",
       "      <td>n</td>\n",
       "      <td>f</td>\n",
       "      <td>w</td>\n",
       "      <td>b</td>\n",
       "      <td>k</td>\n",
       "      <td>...</td>\n",
       "      <td>s</td>\n",
       "      <td>w</td>\n",
       "      <td>w</td>\n",
       "      <td>p</td>\n",
       "      <td>w</td>\n",
       "      <td>o</td>\n",
       "      <td>e</td>\n",
       "      <td>n</td>\n",
       "      <td>a</td>\n",
       "      <td>g</td>\n",
       "    </tr>\n",
       "    <tr>\n",
       "      <th>...</th>\n",
       "      <td>...</td>\n",
       "      <td>...</td>\n",
       "      <td>...</td>\n",
       "      <td>...</td>\n",
       "      <td>...</td>\n",
       "      <td>...</td>\n",
       "      <td>...</td>\n",
       "      <td>...</td>\n",
       "      <td>...</td>\n",
       "      <td>...</td>\n",
       "      <td>...</td>\n",
       "      <td>...</td>\n",
       "      <td>...</td>\n",
       "      <td>...</td>\n",
       "      <td>...</td>\n",
       "      <td>...</td>\n",
       "      <td>...</td>\n",
       "      <td>...</td>\n",
       "      <td>...</td>\n",
       "      <td>...</td>\n",
       "      <td>...</td>\n",
       "    </tr>\n",
       "    <tr>\n",
       "      <th>8119</th>\n",
       "      <td>e</td>\n",
       "      <td>k</td>\n",
       "      <td>s</td>\n",
       "      <td>n</td>\n",
       "      <td>f</td>\n",
       "      <td>n</td>\n",
       "      <td>a</td>\n",
       "      <td>c</td>\n",
       "      <td>b</td>\n",
       "      <td>y</td>\n",
       "      <td>...</td>\n",
       "      <td>s</td>\n",
       "      <td>o</td>\n",
       "      <td>o</td>\n",
       "      <td>p</td>\n",
       "      <td>o</td>\n",
       "      <td>o</td>\n",
       "      <td>p</td>\n",
       "      <td>b</td>\n",
       "      <td>c</td>\n",
       "      <td>l</td>\n",
       "    </tr>\n",
       "    <tr>\n",
       "      <th>8120</th>\n",
       "      <td>e</td>\n",
       "      <td>x</td>\n",
       "      <td>s</td>\n",
       "      <td>n</td>\n",
       "      <td>f</td>\n",
       "      <td>n</td>\n",
       "      <td>a</td>\n",
       "      <td>c</td>\n",
       "      <td>b</td>\n",
       "      <td>y</td>\n",
       "      <td>...</td>\n",
       "      <td>s</td>\n",
       "      <td>o</td>\n",
       "      <td>o</td>\n",
       "      <td>p</td>\n",
       "      <td>n</td>\n",
       "      <td>o</td>\n",
       "      <td>p</td>\n",
       "      <td>b</td>\n",
       "      <td>v</td>\n",
       "      <td>l</td>\n",
       "    </tr>\n",
       "    <tr>\n",
       "      <th>8121</th>\n",
       "      <td>e</td>\n",
       "      <td>f</td>\n",
       "      <td>s</td>\n",
       "      <td>n</td>\n",
       "      <td>f</td>\n",
       "      <td>n</td>\n",
       "      <td>a</td>\n",
       "      <td>c</td>\n",
       "      <td>b</td>\n",
       "      <td>n</td>\n",
       "      <td>...</td>\n",
       "      <td>s</td>\n",
       "      <td>o</td>\n",
       "      <td>o</td>\n",
       "      <td>p</td>\n",
       "      <td>o</td>\n",
       "      <td>o</td>\n",
       "      <td>p</td>\n",
       "      <td>b</td>\n",
       "      <td>c</td>\n",
       "      <td>l</td>\n",
       "    </tr>\n",
       "    <tr>\n",
       "      <th>8122</th>\n",
       "      <td>p</td>\n",
       "      <td>k</td>\n",
       "      <td>y</td>\n",
       "      <td>n</td>\n",
       "      <td>f</td>\n",
       "      <td>y</td>\n",
       "      <td>f</td>\n",
       "      <td>c</td>\n",
       "      <td>n</td>\n",
       "      <td>b</td>\n",
       "      <td>...</td>\n",
       "      <td>k</td>\n",
       "      <td>w</td>\n",
       "      <td>w</td>\n",
       "      <td>p</td>\n",
       "      <td>w</td>\n",
       "      <td>o</td>\n",
       "      <td>e</td>\n",
       "      <td>w</td>\n",
       "      <td>v</td>\n",
       "      <td>l</td>\n",
       "    </tr>\n",
       "    <tr>\n",
       "      <th>8123</th>\n",
       "      <td>e</td>\n",
       "      <td>x</td>\n",
       "      <td>s</td>\n",
       "      <td>n</td>\n",
       "      <td>f</td>\n",
       "      <td>n</td>\n",
       "      <td>a</td>\n",
       "      <td>c</td>\n",
       "      <td>b</td>\n",
       "      <td>y</td>\n",
       "      <td>...</td>\n",
       "      <td>s</td>\n",
       "      <td>o</td>\n",
       "      <td>o</td>\n",
       "      <td>p</td>\n",
       "      <td>o</td>\n",
       "      <td>o</td>\n",
       "      <td>p</td>\n",
       "      <td>o</td>\n",
       "      <td>c</td>\n",
       "      <td>l</td>\n",
       "    </tr>\n",
       "  </tbody>\n",
       "</table>\n",
       "<p>8124 rows × 23 columns</p>\n",
       "</div>"
      ],
      "text/plain": [
       "     class cap-shape cap-surface cap-color bruises odor gill-attachment  \\\n",
       "0        p         x           s         n       t    p               f   \n",
       "1        e         x           s         y       t    a               f   \n",
       "2        e         b           s         w       t    l               f   \n",
       "3        p         x           y         w       t    p               f   \n",
       "4        e         x           s         g       f    n               f   \n",
       "...    ...       ...         ...       ...     ...  ...             ...   \n",
       "8119     e         k           s         n       f    n               a   \n",
       "8120     e         x           s         n       f    n               a   \n",
       "8121     e         f           s         n       f    n               a   \n",
       "8122     p         k           y         n       f    y               f   \n",
       "8123     e         x           s         n       f    n               a   \n",
       "\n",
       "     gill-spacing gill-size gill-color  ... stalk-surface-below-ring  \\\n",
       "0               c         n          k  ...                        s   \n",
       "1               c         b          k  ...                        s   \n",
       "2               c         b          n  ...                        s   \n",
       "3               c         n          n  ...                        s   \n",
       "4               w         b          k  ...                        s   \n",
       "...           ...       ...        ...  ...                      ...   \n",
       "8119            c         b          y  ...                        s   \n",
       "8120            c         b          y  ...                        s   \n",
       "8121            c         b          n  ...                        s   \n",
       "8122            c         n          b  ...                        k   \n",
       "8123            c         b          y  ...                        s   \n",
       "\n",
       "     stalk-color-above-ring stalk-color-below-ring veil-type veil-color  \\\n",
       "0                         w                      w         p          w   \n",
       "1                         w                      w         p          w   \n",
       "2                         w                      w         p          w   \n",
       "3                         w                      w         p          w   \n",
       "4                         w                      w         p          w   \n",
       "...                     ...                    ...       ...        ...   \n",
       "8119                      o                      o         p          o   \n",
       "8120                      o                      o         p          n   \n",
       "8121                      o                      o         p          o   \n",
       "8122                      w                      w         p          w   \n",
       "8123                      o                      o         p          o   \n",
       "\n",
       "     ring-number ring-type spore-print-color population habitat  \n",
       "0              o         p                 k          s       u  \n",
       "1              o         p                 n          n       g  \n",
       "2              o         p                 n          n       m  \n",
       "3              o         p                 k          s       u  \n",
       "4              o         e                 n          a       g  \n",
       "...          ...       ...               ...        ...     ...  \n",
       "8119           o         p                 b          c       l  \n",
       "8120           o         p                 b          v       l  \n",
       "8121           o         p                 b          c       l  \n",
       "8122           o         e                 w          v       l  \n",
       "8123           o         p                 o          c       l  \n",
       "\n",
       "[8124 rows x 23 columns]"
      ]
     },
     "execution_count": 3,
     "metadata": {},
     "output_type": "execute_result"
    }
   ],
   "source": [
    "df=pd.read_csv(r\"mushrooms.csv\")\n",
    "df"
   ]
  },
  {
   "cell_type": "markdown",
   "id": "74c587bf",
   "metadata": {},
   "source": [
    "## Data Visualization"
   ]
  },
  {
   "cell_type": "code",
   "execution_count": 6,
   "id": "b567f688",
   "metadata": {},
   "outputs": [],
   "source": [
    "import seaborn as sns\n",
    "import matplotlib.pyplot as plt\n",
    "import warnings\n",
    "warnings.filterwarnings('ignore')"
   ]
  },
  {
   "cell_type": "code",
   "execution_count": 7,
   "id": "e9f252a3",
   "metadata": {},
   "outputs": [
    {
     "data": {
      "image/png": "[encoded data removed]",
      "text/plain": [
       "<Figure size 1800x1440 with 23 Axes>"
      ]
     },
     "metadata": {
      "needs_background": "light"
     },
     "output_type": "display_data"
    }
   ],
   "source": [
    "plt.figure(figsize=(25,20))\n",
    "plotnumber=1\n",
    "for column in df:\n",
    "    if plotnumber<=30:\n",
    "        ax=plt.subplot(6,4,plotnumber)\n",
    "        plt.hist(df[column],bins=30)\n",
    "        plt.xlabel(column,fontsize=25)\n",
    "    plotnumber+=1\n",
    "plt.tight_layout()"
   ]
  },
  {
   "cell_type": "code",
   "execution_count": 8,
   "id": "3ce7029f",
   "metadata": {},
   "outputs": [
    {
     "data": {
      "text/plain": [
       "Index(['class', 'cap-shape', 'cap-surface', 'cap-color', 'bruises', 'odor',\n",
       "       'gill-attachment', 'gill-spacing', 'gill-size', 'gill-color',\n",
       "       'stalk-shape', 'stalk-root', 'stalk-surface-above-ring',\n",
       "       'stalk-surface-below-ring', 'stalk-color-above-ring',\n",
       "       'stalk-color-below-ring', 'veil-type', 'veil-color', 'ring-number',\n",
       "       'ring-type', 'spore-print-color', 'population', 'habitat'],\n",
       "      dtype='object')"
      ]
     },
     "execution_count": 8,
     "metadata": {},
     "output_type": "execute_result"
    }
   ],
   "source": [
    "df.columns"
   ]
  },
  {
   "cell_type": "markdown",
   "id": "5366ee85",
   "metadata": {},
   "source": [
    "## About the column\n",
    "\n",
    "`Total number of Rows= 8124`\n",
    "`Total number of columns=23`\n",
    "- 1.Class:- In this dataset there are Two classes 'e' and 'p'. Here 'e' means Edible and 'p' means poisonous.\n",
    "- 2. cap-shape:- The different shapes of cap of mushrooms.\n",
    "- 3. cap-surface:- Most people trace out according the surface of mushrooms that The whether it is worth eating or not.\n",
    "- 4. cap-color:- cap color is also identify to predict the mushrooms is poisonous or not.\n",
    "- 5. bruises:- some mushrooms are well known for their high psilocybin/psilocin content and their above-average tendency to bruise blue.\n",
    "- 6. odor:- The powerful smell attracts flies, bugs, and various other insects that carry these spores on their legs, body, and wings from one place to another, securing the reproduction of this fungus.\n",
    "- 7. gill-attachment:- Mushroom gills are the thin, papery structures that hang vertically under the cap. The sole purpose of these gills, called lamellae, is to produce spores. The spores are then dropped from the gills by the millions where they are scattered by wind currents.\n",
    "- 8:- gill-spacing:-Gill spacing can be a useful character in determining a mushroom's identity, but it does have the drawback that we don't have a term for \"normal\", or \"average\". \n",
    "- 9:- gill-size:- The size of gill is also important.\n",
    "- 10. gill-color:- The color of gills is also important factor.\n",
    "- 11. stalk-shape:- The stalk (also called the stipe, or stem) may be central and support the cap in the middle, or it may be off-center and/or lateral, as in species of Pleurotus and Panus.\n",
    "- 12. stalk-root:- Stalk (or Stem, or Stape): the main support of the mushroom; it is topped by the cap. Not all mushrooms have a stalk (stem) (ref.). Another feature to consider when identifying mushrooms is whether they bruise or bleed a specific color. Certain mushrooms will change colors when damaged or injured.\n",
    "- 13. stalk-surface-above-ring:- The middle of the mushrooms.\n",
    "- 14. stalk-color-below-ring:- Under the ring which color are present.\n",
    "- 15. veil-type:-In some mushrooms, both a partial veil and a universal veil may be present. In the immature fruit bodies of some basidiomycete fungi, the partial veil extends from the stem surface to the cap margin and shields the gills during development, and later breaks to expose the mature gills.\n",
    "- 16.veil-color:- artial veils can bear other important implications for mushroom identification: they also catch falling spores. This is important in that spore color is often important for identifying your mushroom.\n",
    "- 17.ring-number:- The ring is the remnant of the veil (the veil is the tissue that connects the stem and the cap before the gills are exposed and the fruiting body develops).\n",
    "- 18.ring-type:- ring type is also important.\n",
    "- 19. spore-print-color:- The spore print is the powdery deposit obtained by allowing spores of a fungal fruit body to fall onto a surface underneath. It is an important diagnostic character in most handbooks for identifying mushrooms.\n",
    "- 20.Population:- With increasing population, food demand problems in developing and under developed countries, mushrooms can play an important role to enrich human diet particularly in India where a large section of the population are vegetarians.\n",
    "- 21.habitat:- Mushrooms are found in a great variety of habitats, although each species may limited in the number of these it can occupy. For example, a mushroom that usually grows on rotting logs in the forest is unlikely to be found in sand dunes."
   ]
  },
  {
   "cell_type": "markdown",
   "id": "652370ca",
   "metadata": {},
   "source": [
    "## Checking the null Values"
   ]
  },
  {
   "cell_type": "code",
   "execution_count": 9,
   "id": "6755bae0",
   "metadata": {},
   "outputs": [
    {
     "data": {
      "text/plain": [
       "class                       0\n",
       "cap-shape                   0\n",
       "cap-surface                 0\n",
       "cap-color                   0\n",
       "bruises                     0\n",
       "odor                        0\n",
       "gill-attachment             0\n",
       "gill-spacing                0\n",
       "gill-size                   0\n",
       "gill-color                  0\n",
       "stalk-shape                 0\n",
       "stalk-root                  0\n",
       "stalk-surface-above-ring    0\n",
       "stalk-surface-below-ring    0\n",
       "stalk-color-above-ring      0\n",
       "stalk-color-below-ring      0\n",
       "veil-type                   0\n",
       "veil-color                  0\n",
       "ring-number                 0\n",
       "ring-type                   0\n",
       "spore-print-color           0\n",
       "population                  0\n",
       "habitat                     0\n",
       "dtype: int64"
      ]
     },
     "execution_count": 9,
     "metadata": {},
     "output_type": "execute_result"
    }
   ],
   "source": [
    "df.isnull().sum()"
   ]
  },
  {
   "cell_type": "markdown",
   "id": "25f0f7fd",
   "metadata": {},
   "source": [
    "Great! there are no null values present in my dataset."
   ]
  },
  {
   "cell_type": "markdown",
   "id": "f8e0a92e",
   "metadata": {},
   "source": [
    "## Describing The Dataset:"
   ]
  },
  {
   "cell_type": "code",
   "execution_count": 10,
   "id": "589de7d3",
   "metadata": {
    "scrolled": true
   },
   "outputs": [
    {
     "data": {
      "text/html": [
       "<div>\n",
       "<style scoped>\n",
       "    .dataframe tbody tr th:only-of-type {\n",
       "        vertical-align: middle;\n",
       "    }\n",
       "\n",
       "    .dataframe tbody tr th {\n",
       "        vertical-align: top;\n",
       "    }\n",
       "\n",
       "    .dataframe thead th {\n",
       "        text-align: right;\n",
       "    }\n",
       "</style>\n",
       "<table border=\"1\" class=\"dataframe\">\n",
       "  <thead>\n",
       "    <tr style=\"text-align: right;\">\n",
       "      <th></th>\n",
       "      <th>class</th>\n",
       "      <th>cap-shape</th>\n",
       "      <th>cap-surface</th>\n",
       "      <th>cap-color</th>\n",
       "      <th>bruises</th>\n",
       "      <th>odor</th>\n",
       "      <th>gill-attachment</th>\n",
       "      <th>gill-spacing</th>\n",
       "      <th>gill-size</th>\n",
       "      <th>gill-color</th>\n",
       "      <th>...</th>\n",
       "      <th>stalk-surface-below-ring</th>\n",
       "      <th>stalk-color-above-ring</th>\n",
       "      <th>stalk-color-below-ring</th>\n",
       "      <th>veil-type</th>\n",
       "      <th>veil-color</th>\n",
       "      <th>ring-number</th>\n",
       "      <th>ring-type</th>\n",
       "      <th>spore-print-color</th>\n",
       "      <th>population</th>\n",
       "      <th>habitat</th>\n",
       "    </tr>\n",
       "  </thead>\n",
       "  <tbody>\n",
       "    <tr>\n",
       "      <th>count</th>\n",
       "      <td>8124</td>\n",
       "      <td>8124</td>\n",
       "      <td>8124</td>\n",
       "      <td>8124</td>\n",
       "      <td>8124</td>\n",
       "      <td>8124</td>\n",
       "      <td>8124</td>\n",
       "      <td>8124</td>\n",
       "      <td>8124</td>\n",
       "      <td>8124</td>\n",
       "      <td>...</td>\n",
       "      <td>8124</td>\n",
       "      <td>8124</td>\n",
       "      <td>8124</td>\n",
       "      <td>8124</td>\n",
       "      <td>8124</td>\n",
       "      <td>8124</td>\n",
       "      <td>8124</td>\n",
       "      <td>8124</td>\n",
       "      <td>8124</td>\n",
       "      <td>8124</td>\n",
       "    </tr>\n",
       "    <tr>\n",
       "      <th>unique</th>\n",
       "      <td>2</td>\n",
       "      <td>6</td>\n",
       "      <td>4</td>\n",
       "      <td>10</td>\n",
       "      <td>2</td>\n",
       "      <td>9</td>\n",
       "      <td>2</td>\n",
       "      <td>2</td>\n",
       "      <td>2</td>\n",
       "      <td>12</td>\n",
       "      <td>...</td>\n",
       "      <td>4</td>\n",
       "      <td>9</td>\n",
       "      <td>9</td>\n",
       "      <td>1</td>\n",
       "      <td>4</td>\n",
       "      <td>3</td>\n",
       "      <td>5</td>\n",
       "      <td>9</td>\n",
       "      <td>6</td>\n",
       "      <td>7</td>\n",
       "    </tr>\n",
       "    <tr>\n",
       "      <th>top</th>\n",
       "      <td>e</td>\n",
       "      <td>x</td>\n",
       "      <td>y</td>\n",
       "      <td>n</td>\n",
       "      <td>f</td>\n",
       "      <td>n</td>\n",
       "      <td>f</td>\n",
       "      <td>c</td>\n",
       "      <td>b</td>\n",
       "      <td>b</td>\n",
       "      <td>...</td>\n",
       "      <td>s</td>\n",
       "      <td>w</td>\n",
       "      <td>w</td>\n",
       "      <td>p</td>\n",
       "      <td>w</td>\n",
       "      <td>o</td>\n",
       "      <td>p</td>\n",
       "      <td>w</td>\n",
       "      <td>v</td>\n",
       "      <td>d</td>\n",
       "    </tr>\n",
       "    <tr>\n",
       "      <th>freq</th>\n",
       "      <td>4208</td>\n",
       "      <td>3656</td>\n",
       "      <td>3244</td>\n",
       "      <td>2284</td>\n",
       "      <td>4748</td>\n",
       "      <td>3528</td>\n",
       "      <td>7914</td>\n",
       "      <td>6812</td>\n",
       "      <td>5612</td>\n",
       "      <td>1728</td>\n",
       "      <td>...</td>\n",
       "      <td>4936</td>\n",
       "      <td>4464</td>\n",
       "      <td>4384</td>\n",
       "      <td>8124</td>\n",
       "      <td>7924</td>\n",
       "      <td>7488</td>\n",
       "      <td>3968</td>\n",
       "      <td>2388</td>\n",
       "      <td>4040</td>\n",
       "      <td>3148</td>\n",
       "    </tr>\n",
       "  </tbody>\n",
       "</table>\n",
       "<p>4 rows × 23 columns</p>\n",
       "</div>"
      ],
      "text/plain": [
       "       class cap-shape cap-surface cap-color bruises  odor gill-attachment  \\\n",
       "count   8124      8124        8124      8124    8124  8124            8124   \n",
       "unique     2         6           4        10       2     9               2   \n",
       "top        e         x           y         n       f     n               f   \n",
       "freq    4208      3656        3244      2284    4748  3528            7914   \n",
       "\n",
       "       gill-spacing gill-size gill-color  ... stalk-surface-below-ring  \\\n",
       "count          8124      8124       8124  ...                     8124   \n",
       "unique            2         2         12  ...                        4   \n",
       "top               c         b          b  ...                        s   \n",
       "freq           6812      5612       1728  ...                     4936   \n",
       "\n",
       "       stalk-color-above-ring stalk-color-below-ring veil-type veil-color  \\\n",
       "count                    8124                   8124      8124       8124   \n",
       "unique                      9                      9         1          4   \n",
       "top                         w                      w         p          w   \n",
       "freq                     4464                   4384      8124       7924   \n",
       "\n",
       "       ring-number ring-type spore-print-color population habitat  \n",
       "count         8124      8124              8124       8124    8124  \n",
       "unique           3         5                 9          6       7  \n",
       "top              o         p                 w          v       d  \n",
       "freq          7488      3968              2388       4040    3148  \n",
       "\n",
       "[4 rows x 23 columns]"
      ]
     },
     "execution_count": 10,
     "metadata": {},
     "output_type": "execute_result"
    }
   ],
   "source": [
    "df.describe()"
   ]
  },
  {
   "cell_type": "markdown",
   "id": "d6a078bb",
   "metadata": {},
   "source": [
    "Since my dataset is object datatype so that we can't get not much imformation by describing the dataset..."
   ]
  },
  {
   "cell_type": "markdown",
   "id": "755c86da",
   "metadata": {},
   "source": [
    "But I can check the unique values from that."
   ]
  },
  {
   "cell_type": "markdown",
   "id": "1c404f6c",
   "metadata": {},
   "source": [
    "## Checking balance of data\n",
    "for every classification problem we have to check the balance of data. If my datasets are not balance then there is good chance that our model will be biased. For that we need to get rid of that imbalancing problem."
   ]
  },
  {
   "cell_type": "code",
   "execution_count": 11,
   "id": "d69ef401",
   "metadata": {},
   "outputs": [
    {
     "data": {
      "text/plain": [
       "e    4208\n",
       "p    3916\n",
       "Name: class, dtype: int64"
      ]
     },
     "execution_count": 11,
     "metadata": {},
     "output_type": "execute_result"
    }
   ],
   "source": [
    "df['class'].value_counts()"
   ]
  },
  {
   "cell_type": "code",
   "execution_count": 12,
   "id": "b9033c63",
   "metadata": {},
   "outputs": [
    {
     "data": {
      "text/plain": [
       "<AxesSubplot:xlabel='class', ylabel='count'>"
      ]
     },
     "execution_count": 12,
     "metadata": {},
     "output_type": "execute_result"
    },
    {
     "data": {
      "image/png": "[encoded data removed]",
      "text/plain": [
       "<Figure size 432x288 with 1 Axes>"
      ]
     },
     "metadata": {
      "needs_background": "light"
     },
     "output_type": "display_data"
    }
   ],
   "source": [
    "sns.countplot(x='class',data=df)"
   ]
  },
  {
   "cell_type": "markdown",
   "id": "ab282e4d",
   "metadata": {},
   "source": [
    "`We can clearly see that our data is perfectly balance already`"
   ]
  },
  {
   "cell_type": "markdown",
   "id": "13d3b2b3",
   "metadata": {},
   "source": [
    "## Checking duplicates"
   ]
  },
  {
   "cell_type": "code",
   "execution_count": 13,
   "id": "00123e3f",
   "metadata": {},
   "outputs": [
    {
     "data": {
      "text/plain": [
       "(8124, 23)"
      ]
     },
     "execution_count": 13,
     "metadata": {},
     "output_type": "execute_result"
    }
   ],
   "source": [
    "df.drop_duplicates(inplace=True)\n",
    "df.shape"
   ]
  },
  {
   "cell_type": "markdown",
   "id": "1869e969",
   "metadata": {},
   "source": [
    "There is not any duplicate present in our dataset."
   ]
  },
  {
   "cell_type": "code",
   "execution_count": 14,
   "id": "a7321e95",
   "metadata": {},
   "outputs": [
    {
     "name": "stdout",
     "output_type": "stream",
     "text": [
      "<class 'pandas.core.frame.DataFrame'>\n",
      "Int64Index: 8124 entries, 0 to 8123\n",
      "Data columns (total 23 columns):\n",
      " #   Column                    Non-Null Count  Dtype \n",
      "---  ------                    --------------  ----- \n",
      " 0   class                     8124 non-null   object\n",
      " 1   cap-shape                 8124 non-null   object\n",
      " 2   cap-surface               8124 non-null   object\n",
      " 3   cap-color                 8124 non-null   object\n",
      " 4   bruises                   8124 non-null   object\n",
      " 5   odor                      8124 non-null   object\n",
      " 6   gill-attachment           8124 non-null   object\n",
      " 7   gill-spacing              8124 non-null   object\n",
      " 8   gill-size                 8124 non-null   object\n",
      " 9   gill-color                8124 non-null   object\n",
      " 10  stalk-shape               8124 non-null   object\n",
      " 11  stalk-root                8124 non-null   object\n",
      " 12  stalk-surface-above-ring  8124 non-null   object\n",
      " 13  stalk-surface-below-ring  8124 non-null   object\n",
      " 14  stalk-color-above-ring    8124 non-null   object\n",
      " 15  stalk-color-below-ring    8124 non-null   object\n",
      " 16  veil-type                 8124 non-null   object\n",
      " 17  veil-color                8124 non-null   object\n",
      " 18  ring-number               8124 non-null   object\n",
      " 19  ring-type                 8124 non-null   object\n",
      " 20  spore-print-color         8124 non-null   object\n",
      " 21  population                8124 non-null   object\n",
      " 22  habitat                   8124 non-null   object\n",
      "dtypes: object(23)\n",
      "memory usage: 1.5+ MB\n"
     ]
    }
   ],
   "source": [
    "df.info()"
   ]
  },
  {
   "cell_type": "markdown",
   "id": "855310d7",
   "metadata": {},
   "source": [
    "Here we can can clearly see that my whole dataset is object data type."
   ]
  },
  {
   "cell_type": "markdown",
   "id": "90042bd2",
   "metadata": {},
   "source": [
    "## Encode the dataset using LabelEncoding."
   ]
  },
  {
   "cell_type": "code",
   "execution_count": 15,
   "id": "726f7609",
   "metadata": {},
   "outputs": [],
   "source": [
    "from sklearn.preprocessing import LabelEncoder"
   ]
  },
  {
   "cell_type": "markdown",
   "id": "c7e00928",
   "metadata": {},
   "source": [
    "` By label encoding we convert the dataset from string to integer.`"
   ]
  },
  {
   "cell_type": "code",
   "execution_count": 16,
   "id": "ff504f78",
   "metadata": {},
   "outputs": [
    {
     "data": {
      "text/html": [
       "<div>\n",
       "<style scoped>\n",
       "    .dataframe tbody tr th:only-of-type {\n",
       "        vertical-align: middle;\n",
       "    }\n",
       "\n",
       "    .dataframe tbody tr th {\n",
       "        vertical-align: top;\n",
       "    }\n",
       "\n",
       "    .dataframe thead th {\n",
       "        text-align: right;\n",
       "    }\n",
       "</style>\n",
       "<table border=\"1\" class=\"dataframe\">\n",
       "  <thead>\n",
       "    <tr style=\"text-align: right;\">\n",
       "      <th></th>\n",
       "      <th>class</th>\n",
       "      <th>cap-shape</th>\n",
       "      <th>cap-surface</th>\n",
       "      <th>cap-color</th>\n",
       "      <th>bruises</th>\n",
       "      <th>odor</th>\n",
       "      <th>gill-attachment</th>\n",
       "      <th>gill-spacing</th>\n",
       "      <th>gill-size</th>\n",
       "      <th>gill-color</th>\n",
       "      <th>...</th>\n",
       "      <th>stalk-surface-below-ring</th>\n",
       "      <th>stalk-color-above-ring</th>\n",
       "      <th>stalk-color-below-ring</th>\n",
       "      <th>veil-type</th>\n",
       "      <th>veil-color</th>\n",
       "      <th>ring-number</th>\n",
       "      <th>ring-type</th>\n",
       "      <th>spore-print-color</th>\n",
       "      <th>population</th>\n",
       "      <th>habitat</th>\n",
       "    </tr>\n",
       "  </thead>\n",
       "  <tbody>\n",
       "    <tr>\n",
       "      <th>0</th>\n",
       "      <td>1</td>\n",
       "      <td>5</td>\n",
       "      <td>2</td>\n",
       "      <td>4</td>\n",
       "      <td>1</td>\n",
       "      <td>6</td>\n",
       "      <td>1</td>\n",
       "      <td>0</td>\n",
       "      <td>1</td>\n",
       "      <td>4</td>\n",
       "      <td>...</td>\n",
       "      <td>2</td>\n",
       "      <td>7</td>\n",
       "      <td>7</td>\n",
       "      <td>0</td>\n",
       "      <td>2</td>\n",
       "      <td>1</td>\n",
       "      <td>4</td>\n",
       "      <td>2</td>\n",
       "      <td>3</td>\n",
       "      <td>5</td>\n",
       "    </tr>\n",
       "    <tr>\n",
       "      <th>1</th>\n",
       "      <td>0</td>\n",
       "      <td>5</td>\n",
       "      <td>2</td>\n",
       "      <td>9</td>\n",
       "      <td>1</td>\n",
       "      <td>0</td>\n",
       "      <td>1</td>\n",
       "      <td>0</td>\n",
       "      <td>0</td>\n",
       "      <td>4</td>\n",
       "      <td>...</td>\n",
       "      <td>2</td>\n",
       "      <td>7</td>\n",
       "      <td>7</td>\n",
       "      <td>0</td>\n",
       "      <td>2</td>\n",
       "      <td>1</td>\n",
       "      <td>4</td>\n",
       "      <td>3</td>\n",
       "      <td>2</td>\n",
       "      <td>1</td>\n",
       "    </tr>\n",
       "    <tr>\n",
       "      <th>2</th>\n",
       "      <td>0</td>\n",
       "      <td>0</td>\n",
       "      <td>2</td>\n",
       "      <td>8</td>\n",
       "      <td>1</td>\n",
       "      <td>3</td>\n",
       "      <td>1</td>\n",
       "      <td>0</td>\n",
       "      <td>0</td>\n",
       "      <td>5</td>\n",
       "      <td>...</td>\n",
       "      <td>2</td>\n",
       "      <td>7</td>\n",
       "      <td>7</td>\n",
       "      <td>0</td>\n",
       "      <td>2</td>\n",
       "      <td>1</td>\n",
       "      <td>4</td>\n",
       "      <td>3</td>\n",
       "      <td>2</td>\n",
       "      <td>3</td>\n",
       "    </tr>\n",
       "    <tr>\n",
       "      <th>3</th>\n",
       "      <td>1</td>\n",
       "      <td>5</td>\n",
       "      <td>3</td>\n",
       "      <td>8</td>\n",
       "      <td>1</td>\n",
       "      <td>6</td>\n",
       "      <td>1</td>\n",
       "      <td>0</td>\n",
       "      <td>1</td>\n",
       "      <td>5</td>\n",
       "      <td>...</td>\n",
       "      <td>2</td>\n",
       "      <td>7</td>\n",
       "      <td>7</td>\n",
       "      <td>0</td>\n",
       "      <td>2</td>\n",
       "      <td>1</td>\n",
       "      <td>4</td>\n",
       "      <td>2</td>\n",
       "      <td>3</td>\n",
       "      <td>5</td>\n",
       "    </tr>\n",
       "    <tr>\n",
       "      <th>4</th>\n",
       "      <td>0</td>\n",
       "      <td>5</td>\n",
       "      <td>2</td>\n",
       "      <td>3</td>\n",
       "      <td>0</td>\n",
       "      <td>5</td>\n",
       "      <td>1</td>\n",
       "      <td>1</td>\n",
       "      <td>0</td>\n",
       "      <td>4</td>\n",
       "      <td>...</td>\n",
       "      <td>2</td>\n",
       "      <td>7</td>\n",
       "      <td>7</td>\n",
       "      <td>0</td>\n",
       "      <td>2</td>\n",
       "      <td>1</td>\n",
       "      <td>0</td>\n",
       "      <td>3</td>\n",
       "      <td>0</td>\n",
       "      <td>1</td>\n",
       "    </tr>\n",
       "  </tbody>\n",
       "</table>\n",
       "<p>5 rows × 23 columns</p>\n",
       "</div>"
      ],
      "text/plain": [
       "   class  cap-shape  cap-surface  cap-color  bruises  odor  gill-attachment  \\\n",
       "0      1          5            2          4        1     6                1   \n",
       "1      0          5            2          9        1     0                1   \n",
       "2      0          0            2          8        1     3                1   \n",
       "3      1          5            3          8        1     6                1   \n",
       "4      0          5            2          3        0     5                1   \n",
       "\n",
       "   gill-spacing  gill-size  gill-color  ...  stalk-surface-below-ring  \\\n",
       "0             0          1           4  ...                         2   \n",
       "1             0          0           4  ...                         2   \n",
       "2             0          0           5  ...                         2   \n",
       "3             0          1           5  ...                         2   \n",
       "4             1          0           4  ...                         2   \n",
       "\n",
       "   stalk-color-above-ring  stalk-color-below-ring  veil-type  veil-color  \\\n",
       "0                       7                       7          0           2   \n",
       "1                       7                       7          0           2   \n",
       "2                       7                       7          0           2   \n",
       "3                       7                       7          0           2   \n",
       "4                       7                       7          0           2   \n",
       "\n",
       "   ring-number  ring-type  spore-print-color  population  habitat  \n",
       "0            1          4                  2           3        5  \n",
       "1            1          4                  3           2        1  \n",
       "2            1          4                  3           2        3  \n",
       "3            1          4                  2           3        5  \n",
       "4            1          0                  3           0        1  \n",
       "\n",
       "[5 rows x 23 columns]"
      ]
     },
     "execution_count": 16,
     "metadata": {},
     "output_type": "execute_result"
    }
   ],
   "source": [
    "lb=LabelEncoder()\n",
    "for val in df.columns:\n",
    "    df[val]=lb.fit_transform(df[val])\n",
    "df.head()"
   ]
  },
  {
   "cell_type": "markdown",
   "id": "71683805",
   "metadata": {},
   "source": [
    "We are successfully converted our dataset from string to integer data type by label Encoder."
   ]
  },
  {
   "cell_type": "markdown",
   "id": "b774063a",
   "metadata": {},
   "source": [
    "# Model: 1 \n",
    "### ` Those features are positivly correlated with Label, consider them only.` "
   ]
  },
  {
   "cell_type": "markdown",
   "id": "1d146697",
   "metadata": {},
   "source": [
    "## Correlation:-"
   ]
  },
  {
   "cell_type": "code",
   "execution_count": 17,
   "id": "94630894",
   "metadata": {},
   "outputs": [
    {
     "data": {
      "text/plain": [
       "gill-color                 -0.530566\n",
       "bruises                    -0.501530\n",
       "ring-type                  -0.411771\n",
       "stalk-root                 -0.379361\n",
       "gill-spacing               -0.348387\n",
       "stalk-surface-above-ring   -0.334593\n",
       "stalk-surface-below-ring   -0.298801\n",
       "ring-number                -0.214366\n",
       "stalk-color-above-ring     -0.154003\n",
       "stalk-color-below-ring     -0.146730\n",
       "stalk-shape                -0.102019\n",
       "odor                       -0.093552\n",
       "cap-color                  -0.031384\n",
       "cap-shape                   0.052951\n",
       "gill-attachment             0.129200\n",
       "veil-color                  0.145142\n",
       "spore-print-color           0.171961\n",
       "cap-surface                 0.178446\n",
       "habitat                     0.217179\n",
       "population                  0.298686\n",
       "gill-size                   0.540024\n",
       "class                       1.000000\n",
       "veil-type                        NaN\n",
       "Name: class, dtype: float64"
      ]
     },
     "execution_count": 17,
     "metadata": {},
     "output_type": "execute_result"
    }
   ],
   "source": [
    "cor=df.corr()\n",
    "relation=cor['class'].sort_values(ascending=True)\n",
    "relation"
   ]
  },
  {
   "cell_type": "code",
   "execution_count": 18,
   "id": "08d0539a",
   "metadata": {},
   "outputs": [
    {
     "data": {
      "text/plain": [
       "Index(['gill-color', 'bruises', 'ring-type', 'stalk-root', 'gill-spacing',\n",
       "       'stalk-surface-above-ring', 'stalk-surface-below-ring', 'ring-number',\n",
       "       'stalk-color-above-ring', 'stalk-color-below-ring', 'stalk-shape',\n",
       "       'odor', 'cap-color', 'cap-shape', 'gill-attachment', 'veil-color',\n",
       "       'spore-print-color', 'cap-surface', 'habitat', 'population',\n",
       "       'gill-size', 'class', 'veil-type'],\n",
       "      dtype='object')"
      ]
     },
     "execution_count": 18,
     "metadata": {},
     "output_type": "execute_result"
    }
   ],
   "source": [
    "relation.index"
   ]
  },
  {
   "cell_type": "markdown",
   "id": "989c1604",
   "metadata": {},
   "source": [
    "We can clearly see that most of the columns are negatively correlate with the target. we will drop them all."
   ]
  },
  {
   "cell_type": "code",
   "execution_count": 19,
   "id": "12e65761",
   "metadata": {},
   "outputs": [
    {
     "data": {
      "text/plain": [
       "<AxesSubplot:>"
      ]
     },
     "execution_count": 19,
     "metadata": {},
     "output_type": "execute_result"
    },
    {
     "data": {
      "image/png": "[encoded data removed]",
      "text/plain": [
       "<Figure size 1080x504 with 2 Axes>"
      ]
     },
     "metadata": {
      "needs_background": "light"
     },
     "output_type": "display_data"
    }
   ],
   "source": [
    "plt.figure(figsize=(15,7))\n",
    "sns.heatmap(cor,annot=True, linewidths=0.5,linecolor='b',fmt='.2f')"
   ]
  },
  {
   "cell_type": "markdown",
   "id": "e3cdd444",
   "metadata": {},
   "source": [
    "## Observation of heatmap:\n",
    "- column 'veil-type' is not correlate with any column and as well as target column.\n",
    "- Most of the columns are negatively correlate with the target column.\n"
   ]
  },
  {
   "cell_type": "code",
   "execution_count": 20,
   "id": "f4691a44",
   "metadata": {},
   "outputs": [
    {
     "data": {
      "text/plain": [
       "0       0\n",
       "1       0\n",
       "2       0\n",
       "3       0\n",
       "4       0\n",
       "       ..\n",
       "8119    0\n",
       "8120    0\n",
       "8121    0\n",
       "8122    0\n",
       "8123    0\n",
       "Name: veil-type, Length: 8124, dtype: int32"
      ]
     },
     "execution_count": 20,
     "metadata": {},
     "output_type": "execute_result"
    }
   ],
   "source": [
    "df['veil-type']"
   ]
  },
  {
   "cell_type": "code",
   "execution_count": 21,
   "id": "101cb6de",
   "metadata": {},
   "outputs": [],
   "source": [
    "# droping the column\n",
    "df=df.drop(columns=['veil-type'],axis=1)"
   ]
  },
  {
   "cell_type": "markdown",
   "id": "04a97b40",
   "metadata": {},
   "source": [
    "## separating postively correlate columns"
   ]
  },
  {
   "cell_type": "code",
   "execution_count": 22,
   "id": "6f87741b",
   "metadata": {},
   "outputs": [
    {
     "data": {
      "text/plain": [
       "['cap-shape',\n",
       " 'gill-attachment',\n",
       " 'veil-color',\n",
       " 'spore-print-color',\n",
       " 'cap-surface',\n",
       " 'habitat',\n",
       " 'population',\n",
       " 'gill-size',\n",
       " 'class']"
      ]
     },
     "execution_count": 22,
     "metadata": {},
     "output_type": "execute_result"
    }
   ],
   "source": [
    "posi_corr=[]\n",
    "for i in range(len(relation)):\n",
    "    if relation[i]>0:\n",
    "        posi_corr.append(relation.index[i])\n",
    "posi_corr"
   ]
  },
  {
   "cell_type": "code",
   "execution_count": 23,
   "id": "650c2645",
   "metadata": {},
   "outputs": [
    {
     "data": {
      "text/html": [
       "<div>\n",
       "<style scoped>\n",
       "    .dataframe tbody tr th:only-of-type {\n",
       "        vertical-align: middle;\n",
       "    }\n",
       "\n",
       "    .dataframe tbody tr th {\n",
       "        vertical-align: top;\n",
       "    }\n",
       "\n",
       "    .dataframe thead th {\n",
       "        text-align: right;\n",
       "    }\n",
       "</style>\n",
       "<table border=\"1\" class=\"dataframe\">\n",
       "  <thead>\n",
       "    <tr style=\"text-align: right;\">\n",
       "      <th></th>\n",
       "      <th>cap-shape</th>\n",
       "      <th>gill-attachment</th>\n",
       "      <th>veil-color</th>\n",
       "      <th>spore-print-color</th>\n",
       "      <th>cap-surface</th>\n",
       "      <th>habitat</th>\n",
       "      <th>population</th>\n",
       "      <th>gill-size</th>\n",
       "    </tr>\n",
       "  </thead>\n",
       "  <tbody>\n",
       "    <tr>\n",
       "      <th>0</th>\n",
       "      <td>5</td>\n",
       "      <td>1</td>\n",
       "      <td>2</td>\n",
       "      <td>2</td>\n",
       "      <td>2</td>\n",
       "      <td>5</td>\n",
       "      <td>3</td>\n",
       "      <td>1</td>\n",
       "    </tr>\n",
       "    <tr>\n",
       "      <th>1</th>\n",
       "      <td>5</td>\n",
       "      <td>1</td>\n",
       "      <td>2</td>\n",
       "      <td>3</td>\n",
       "      <td>2</td>\n",
       "      <td>1</td>\n",
       "      <td>2</td>\n",
       "      <td>0</td>\n",
       "    </tr>\n",
       "    <tr>\n",
       "      <th>2</th>\n",
       "      <td>0</td>\n",
       "      <td>1</td>\n",
       "      <td>2</td>\n",
       "      <td>3</td>\n",
       "      <td>2</td>\n",
       "      <td>3</td>\n",
       "      <td>2</td>\n",
       "      <td>0</td>\n",
       "    </tr>\n",
       "    <tr>\n",
       "      <th>3</th>\n",
       "      <td>5</td>\n",
       "      <td>1</td>\n",
       "      <td>2</td>\n",
       "      <td>2</td>\n",
       "      <td>3</td>\n",
       "      <td>5</td>\n",
       "      <td>3</td>\n",
       "      <td>1</td>\n",
       "    </tr>\n",
       "    <tr>\n",
       "      <th>4</th>\n",
       "      <td>5</td>\n",
       "      <td>1</td>\n",
       "      <td>2</td>\n",
       "      <td>3</td>\n",
       "      <td>2</td>\n",
       "      <td>1</td>\n",
       "      <td>0</td>\n",
       "      <td>0</td>\n",
       "    </tr>\n",
       "  </tbody>\n",
       "</table>\n",
       "</div>"
      ],
      "text/plain": [
       "   cap-shape  gill-attachment  veil-color  spore-print-color  cap-surface  \\\n",
       "0          5                1           2                  2            2   \n",
       "1          5                1           2                  3            2   \n",
       "2          0                1           2                  3            2   \n",
       "3          5                1           2                  2            3   \n",
       "4          5                1           2                  3            2   \n",
       "\n",
       "   habitat  population  gill-size  \n",
       "0        5           3          1  \n",
       "1        1           2          0  \n",
       "2        3           2          0  \n",
       "3        5           3          1  \n",
       "4        1           0          0  "
      ]
     },
     "execution_count": 23,
     "metadata": {},
     "output_type": "execute_result"
    }
   ],
   "source": [
    "x=df[posi_corr]\n",
    "x=x.drop(columns=['class'],axis=1)\n",
    "x.head()"
   ]
  },
  {
   "cell_type": "markdown",
   "id": "3d20bf4f",
   "metadata": {},
   "source": [
    "Now we have only 8 columns and 8124 rows."
   ]
  },
  {
   "cell_type": "code",
   "execution_count": 24,
   "id": "96d404c4",
   "metadata": {},
   "outputs": [
    {
     "data": {
      "text/plain": [
       "0    1\n",
       "1    0\n",
       "2    0\n",
       "3    1\n",
       "4    0\n",
       "Name: class, dtype: int32"
      ]
     },
     "execution_count": 24,
     "metadata": {},
     "output_type": "execute_result"
    }
   ],
   "source": [
    "y=df['class']\n",
    "y.head()"
   ]
  },
  {
   "cell_type": "code",
   "execution_count": 88,
   "id": "fac07b2a",
   "metadata": {},
   "outputs": [],
   "source": [
    "from sklearn.model_selection import train_test_split\n",
    "from sklearn.ensemble import RandomForestClassifier\n",
    "from sklearn.tree import DecisionTreeClassifier\n",
    "from sklearn.linear_model import LogisticRegression\n",
    "from sklearn.metrics import accuracy_score,confusion_matrix,f1_score,classification_report"
   ]
  },
  {
   "cell_type": "code",
   "execution_count": 89,
   "id": "f89b6e64",
   "metadata": {},
   "outputs": [],
   "source": [
    "rf=RandomForestClassifier()\n",
    "lr=LogisticRegression()\n",
    "dt=DecisionTreeClassifier()"
   ]
  },
  {
   "cell_type": "markdown",
   "id": "6c537ea0",
   "metadata": {},
   "source": [
    "# Splitting the dataframe\n",
    "\n",
    "# Logistic Regression"
   ]
  },
  {
   "cell_type": "code",
   "execution_count": 83,
   "id": "99c45061",
   "metadata": {},
   "outputs": [
    {
     "name": "stdout",
     "output_type": "stream",
     "text": [
      "At random state 0 The model performs very well\n",
      "At random state  0\n",
      "Training accuracy is :  85.47513540128016\n",
      "Testing r2 score is :  85.47513540128016\n",
      "At random state 55 The model performs very well\n",
      "At random state  55\n",
      "Training accuracy is :  85.5407845068111\n",
      "Testing r2 score is :  85.47513540128016\n",
      "At random state 102 The model performs very well\n",
      "At random state  102\n",
      "Training accuracy is :  85.47513540128016\n",
      "Testing r2 score is :  85.47513540128016\n",
      "At random state 134 The model performs very well\n",
      "At random state  134\n",
      "Training accuracy is :  86.82094206466437\n",
      "Testing r2 score is :  86.75529295913343\n",
      "At random state 144 The model performs very well\n",
      "At random state  144\n",
      "Training accuracy is :  85.50795995404563\n",
      "Testing r2 score is :  85.52437223042836\n"
     ]
    }
   ],
   "source": [
    "for i in range(0,200):\n",
    "    x_train,x_test,y_train,y_test=train_test_split(x,y,test_size=0.25,random_state=i)\n",
    "    lr.fit(x_train,y_train)\n",
    "    pred_train=lr.predict(x_train)\n",
    "    pred_test=lr.predict(x_test)\n",
    "    if round(accuracy_score(y_train,pred_train)*100,1)==round(accuracy_score(y_test,pred_test)*100,1):\n",
    "        print(\"At random state\", i , \"The model performs very well\")\n",
    "        print(\"At random state \", i)\n",
    "        print(\"Training accuracy is : \", accuracy_score(y_train,pred_train)*100)\n",
    "        print(\"Testing r2 score is : \", accuracy_score(y_test,pred_test)*100)\n",
    "        "
   ]
  },
  {
   "cell_type": "markdown",
   "id": "dc2131d6",
   "metadata": {},
   "source": [
    "#### At Random State 134, the model give best result to us."
   ]
  },
  {
   "cell_type": "code",
   "execution_count": 84,
   "id": "441aadda",
   "metadata": {},
   "outputs": [
    {
     "name": "stdout",
     "output_type": "stream",
     "text": [
      "86.75529295913343\n",
      "              precision    recall  f1-score   support\n",
      "\n",
      "           0       0.85      0.91      0.88      1055\n",
      "           1       0.89      0.83      0.86       976\n",
      "\n",
      "    accuracy                           0.87      2031\n",
      "   macro avg       0.87      0.87      0.87      2031\n",
      "weighted avg       0.87      0.87      0.87      2031\n",
      "\n"
     ]
    }
   ],
   "source": [
    " x_train,x_test,y_train,y_test=train_test_split(x,y,test_size=0.25,random_state=134)\n",
    "lr.fit(x_train,y_train)\n",
    "pred_train=lr.predict(x_train)\n",
    "pred_test=lr.predict(x_test)\n",
    "print(accuracy_score(y_test,pred_test)*100)\n",
    "print(classification_report(y_test,pred_test))"
   ]
  },
  {
   "cell_type": "markdown",
   "id": "9bc07414",
   "metadata": {},
   "source": [
    "# Cross validation score for logistic regression."
   ]
  },
  {
   "cell_type": "code",
   "execution_count": 85,
   "id": "d9150ef5",
   "metadata": {},
   "outputs": [
    {
     "name": "stdout",
     "output_type": "stream",
     "text": [
      "at cv :- 20\n",
      "cross validation score is  0.8422501543191199\n",
      "accuracy score is  0.8675529295913343\n",
      "\n",
      "\n",
      "at cv :- 21\n",
      "cross validation score is  0.8433453766023956\n",
      "accuracy score is  0.8675529295913343\n",
      "\n",
      "\n",
      "at cv :- 22\n",
      "cross validation score is  0.8449877815731474\n",
      "accuracy score is  0.8675529295913343\n",
      "\n",
      "\n",
      "at cv :- 23\n",
      "cross validation score is  0.8458279142946412\n",
      "accuracy score is  0.8675529295913343\n",
      "\n",
      "\n",
      "at cv :- 24\n",
      "cross validation score is  0.8455254752055298\n",
      "accuracy score is  0.8675529295913343\n",
      "\n",
      "\n",
      "at cv :- 25\n",
      "cross validation score is  0.8444281101614435\n",
      "accuracy score is  0.8675529295913343\n",
      "\n",
      "\n",
      "at cv :- 26\n",
      "cross validation score is  0.844551282051282\n",
      "accuracy score is  0.8675529295913343\n",
      "\n",
      "\n",
      "at cv :- 27\n",
      "cross validation score is  0.8450764939912226\n",
      "accuracy score is  0.8675529295913343\n",
      "\n",
      "\n",
      "at cv :- 28\n",
      "cross validation score is  0.8453113097354122\n",
      "accuracy score is  0.8675529295913343\n",
      "\n",
      "\n",
      "at cv :- 29\n",
      "cross validation score is  0.8450646880423541\n",
      "accuracy score is  0.8675529295913343\n",
      "\n",
      "\n",
      "at cv :- 30\n",
      "cross validation score is  0.844591590360348\n",
      "accuracy score is  0.8675529295913343\n",
      "\n",
      "\n",
      "at cv :- 31\n",
      "cross validation score is  0.8442862319213741\n",
      "accuracy score is  0.8675529295913343\n",
      "\n",
      "\n",
      "at cv :- 32\n",
      "cross validation score is  0.8441079098067288\n",
      "accuracy score is  0.8675529295913343\n",
      "\n",
      "\n",
      "at cv :- 33\n",
      "cross validation score is  0.8447359942867003\n",
      "accuracy score is  0.8675529295913343\n",
      "\n",
      "\n",
      "at cv :- 34\n",
      "cross validation score is  0.8460440292287232\n",
      "accuracy score is  0.8675529295913343\n",
      "\n",
      "\n",
      "at cv :- 35\n",
      "cross validation score is  0.8467816444322291\n",
      "accuracy score is  0.8675529295913343\n",
      "\n",
      "\n",
      "at cv :- 36\n",
      "cross validation score is  0.846289741068502\n",
      "accuracy score is  0.8675529295913343\n",
      "\n",
      "\n",
      "at cv :- 37\n",
      "cross validation score is  0.8484315573356669\n",
      "accuracy score is  0.8675529295913343\n",
      "\n",
      "\n",
      "at cv :- 38\n",
      "cross validation score is  0.846457165686363\n",
      "accuracy score is  0.8675529295913343\n",
      "\n",
      "\n",
      "at cv :- 39\n",
      "cross validation score is  0.8487585289204722\n",
      "accuracy score is  0.8675529295913343\n",
      "\n",
      "\n"
     ]
    }
   ],
   "source": [
    "pred_lr=lr.predict(x_test)\n",
    "from sklearn.model_selection import cross_val_score\n",
    "accuracy_score= accuracy_score(y_test,pred_lr)\n",
    "for i in range(20,40):\n",
    "    lrscore=cross_val_score(lr,x,y,cv=i)\n",
    "    lsc=lrscore.mean()\n",
    "    print(\"at cv :-\",i)\n",
    "    print(\"cross validation score is \", lsc)\n",
    "    print(\"accuracy score is \", accuracy_score)\n",
    "    print('\\n')"
   ]
  },
  {
   "cell_type": "markdown",
   "id": "3197d451",
   "metadata": {},
   "source": [
    "## Observation CV for LR\n",
    "\n",
    "Here we can clearly see that there are differeces between  cvScore and accuracy i.e. my model was little bit overfitted . since at CV=39, the mean of CV score is 0.8487 and the accuracy score is 0.8675. The difference between them is very less."
   ]
  },
  {
   "cell_type": "code",
   "execution_count": 86,
   "id": "299a0e60",
   "metadata": {},
   "outputs": [
    {
     "name": "stdout",
     "output_type": "stream",
     "text": [
      "After checking the overfitting, my new Score is :-  0.8487585289204722\n"
     ]
    }
   ],
   "source": [
    "lrscore=cross_val_score(lr,x,y,cv=39).mean()\n",
    "print(\"After checking the overfitting, my new Score is :- \", lrscore)"
   ]
  },
  {
   "cell_type": "markdown",
   "id": "fc397a58",
   "metadata": {},
   "source": [
    "# ROC AUC Curve"
   ]
  },
  {
   "cell_type": "code",
   "execution_count": 87,
   "id": "b36dc6a8",
   "metadata": {},
   "outputs": [
    {
     "data": {
      "image/png": "[encoded data removed]",
      "text/plain": [
       "<Figure size 432x288 with 1 Axes>"
      ]
     },
     "metadata": {
      "needs_background": "light"
     },
     "output_type": "display_data"
    },
    {
     "name": "stdout",
     "output_type": "stream",
     "text": [
      "AUC value is 0.8698154126963877 \n"
     ]
    }
   ],
   "source": [
    "from sklearn.metrics import roc_curve,auc\n",
    "fpr, tpr, threshold= roc_curve(pred_test,y_test)\n",
    "plt.plot(fpr, tpr)\n",
    "plt.xlabel(\"False Positive Rate\")\n",
    "plt.ylabel(\"True Positive Rate\")\n",
    "plt.title(\"ROC curve\")\n",
    "plt.show()\n",
    "print(\"AUC value is {} \".format(auc(fpr, tpr)))"
   ]
  },
  {
   "cell_type": "markdown",
   "id": "f431c14d",
   "metadata": {},
   "source": [
    "## AUC score for Logistic Regression is 86.98%"
   ]
  },
  {
   "cell_type": "code",
   "execution_count": null,
   "id": "c6f43576",
   "metadata": {},
   "outputs": [],
   "source": [
    "from sklearn.model_selection import train_test_split\n",
    "from sklearn.ensemble import RandomForestClassifier\n",
    "from sklearn.tree import DecisionTreeClassifier\n",
    "from sklearn.linear_model import LogisticRegression\n",
    "from sklearn.metrics import accuracy_score,confusion_matrix,f1_score,classification_report"
   ]
  },
  {
   "cell_type": "code",
   "execution_count": null,
   "id": "d2d78305",
   "metadata": {},
   "outputs": [],
   "source": [
    "rf=RandomForestClassifier()"
   ]
  },
  {
   "cell_type": "markdown",
   "id": "077622c9",
   "metadata": {},
   "source": [
    "# RandomForestClassifier:\n"
   ]
  },
  {
   "cell_type": "code",
   "execution_count": 90,
   "id": "c4fa0710",
   "metadata": {},
   "outputs": [],
   "source": [
    "for i in range(0,500,50):\n",
    "    x_train,x_test,y_train,y_test=train_test_split(x,y,test_size=0.25,random_state=i)\n",
    "    rf.fit(x_train,y_train)\n",
    "    pred_train=rf.predict(x_train)\n",
    "    pred_test=rf.predict(x_test)\n",
    "    if round(accuracy_score(y_train,pred_train)*100,1)==round(accuracy_score(y_test,pred_test)*100,1):\n",
    "        print(\"At random state\", i , \"The model performs very well\")\n",
    "        print(\"At random state \", i)\n",
    "        print(\"Training accuracy is : \", accuracy_score(y_train,pred_train)*100)\n",
    "        print(\"Testing r2 score is : \", accuracy_score(y_test,pred_test)*100)"
   ]
  },
  {
   "cell_type": "markdown",
   "id": "ceddfa4a",
   "metadata": {},
   "source": [
    "### `At random state=900 random forest give us the best result.`\n"
   ]
  },
  {
   "cell_type": "code",
   "execution_count": 91,
   "id": "5a4aebea",
   "metadata": {},
   "outputs": [
    {
     "name": "stdout",
     "output_type": "stream",
     "text": [
      "99.40915805022156\n",
      "              precision    recall  f1-score   support\n",
      "\n",
      "           0       1.00      0.99      0.99      1038\n",
      "           1       0.99      1.00      0.99       993\n",
      "\n",
      "    accuracy                           0.99      2031\n",
      "   macro avg       0.99      0.99      0.99      2031\n",
      "weighted avg       0.99      0.99      0.99      2031\n",
      "\n"
     ]
    }
   ],
   "source": [
    " x_train,x_test,y_train,y_test=train_test_split(x,y,test_size=0.25,random_state=900)\n",
    "rf.fit(x_train,y_train)\n",
    "pred_train=rf.predict(x_train)\n",
    "pred_test=rf.predict(x_test)\n",
    "print(accuracy_score(y_test,pred_test)*100)\n",
    "print(classification_report(y_test,pred_test))"
   ]
  },
  {
   "cell_type": "markdown",
   "id": "fef20f54",
   "metadata": {},
   "source": [
    "# Cross Validation for Random Forest:\n"
   ]
  },
  {
   "cell_type": "code",
   "execution_count": 92,
   "id": "c28017ad",
   "metadata": {},
   "outputs": [
    {
     "name": "stdout",
     "output_type": "stream",
     "text": [
      "at cv :- 11\n",
      "cross validation score is  0.9670276146727513\n",
      "accuracy score is  0.9940915805022157\n",
      "\n",
      "\n",
      "at cv :- 12\n",
      "cross validation score is  0.9679960610536681\n",
      "accuracy score is  0.9940915805022157\n",
      "\n",
      "\n",
      "at cv :- 13\n",
      "cross validation score is  0.9677538461538462\n",
      "accuracy score is  0.9940915805022157\n",
      "\n",
      "\n",
      "at cv :- 14\n",
      "cross validation score is  0.9706118633577236\n",
      "accuracy score is  0.9940915805022157\n",
      "\n",
      "\n",
      "at cv :- 15\n",
      "cross validation score is  0.9862184056221339\n",
      "accuracy score is  0.9940915805022157\n",
      "\n",
      "\n",
      "at cv :- 16\n",
      "cross validation score is  0.9921162776250602\n",
      "accuracy score is  0.9940915805022157\n",
      "\n",
      "\n",
      "at cv :- 17\n",
      "cross validation score is  0.9940930347034211\n",
      "accuracy score is  0.9940915805022157\n",
      "\n",
      "\n",
      "at cv :- 18\n",
      "cross validation score is  0.9926185555097705\n",
      "accuracy score is  0.9940915805022157\n",
      "\n",
      "\n",
      "at cv :- 19\n",
      "cross validation score is  0.9921229456358839\n",
      "accuracy score is  0.9940915805022157\n",
      "\n",
      "\n",
      "at cv :- 20\n",
      "cross validation score is  0.9924979726703864\n",
      "accuracy score is  0.9940915805022157\n",
      "\n",
      "\n",
      "at cv :- 21\n",
      "cross validation score is  0.9923698335555186\n",
      "accuracy score is  0.9940915805022157\n",
      "\n",
      "\n",
      "at cv :- 22\n",
      "cross validation score is  0.9940948709241393\n",
      "accuracy score is  0.9940915805022157\n",
      "\n",
      "\n",
      "at cv :- 23\n",
      "cross validation score is  0.9940952484337847\n",
      "accuracy score is  0.9940915805022157\n",
      "\n",
      "\n",
      "at cv :- 24\n",
      "cross validation score is  0.9940915676109685\n",
      "accuracy score is  0.9940915805022157\n",
      "\n",
      "\n",
      "at cv :- 25\n",
      "cross validation score is  0.9940923076923076\n",
      "accuracy score is  0.9940915805022157\n",
      "\n",
      "\n",
      "at cv :- 26\n",
      "cross validation score is  0.9924948484791198\n",
      "accuracy score is  0.9940915805022157\n",
      "\n",
      "\n",
      "at cv :- 27\n",
      "cross validation score is  0.994093761535622\n",
      "accuracy score is  0.9940915805022157\n",
      "\n",
      "\n",
      "at cv :- 28\n",
      "cross validation score is  0.9924995344742945\n",
      "accuracy score is  0.9940915805022157\n",
      "\n",
      "\n",
      "at cv :- 29\n",
      "cross validation score is  0.9940952439387831\n",
      "accuracy score is  0.9940915805022157\n",
      "\n",
      "\n"
     ]
    }
   ],
   "source": [
    "pred_rf=rf.predict(x_test)\n",
    "from sklearn.model_selection import cross_val_score\n",
    "accuracy_score= accuracy_score(y_test,pred_rf)\n",
    "for i in range(11,30):\n",
    "    rfscore=cross_val_score(rf,x,y,cv=i)\n",
    "    rfsc=rfscore.mean()\n",
    "    print(\"at cv :-\",i)\n",
    "    print(\"cross validation score is \", rfsc)\n",
    "    print(\"accuracy score is \", accuracy_score)\n",
    "    print('\\n')"
   ]
  },
  {
   "cell_type": "code",
   "execution_count": 94,
   "id": "a0cf5b4c",
   "metadata": {},
   "outputs": [
    {
     "name": "stdout",
     "output_type": "stream",
     "text": [
      "Cross Validation score:-  0.9940930347034211 &  Accuracy score is :-  0.9940915805022157\n"
     ]
    }
   ],
   "source": [
    "rfscore=cross_val_score(rf,x,y,cv=17).mean()\n",
    "print(\"Cross Validation score:- \", rfscore, \"&\" , \" Accuracy score is :- \", accuracy_score)"
   ]
  },
  {
   "cell_type": "markdown",
   "id": "c085a298",
   "metadata": {},
   "source": [
    "### After applying the CV=17, there are no difference  between  Accuracy score & CVscore. It mean that our model is not overfit.\n",
    "\n",
    "### Though my model is already predicting 99.4% Accuracy & it is also not overfitted, that why there are no need of any hyper parameter tunning."
   ]
  },
  {
   "cell_type": "markdown",
   "id": "9c28e770",
   "metadata": {},
   "source": [
    "## ROC AUC Curve"
   ]
  },
  {
   "cell_type": "code",
   "execution_count": 95,
   "id": "7a700e49",
   "metadata": {},
   "outputs": [
    {
     "data": {
      "image/png": "[encoded data removed]",
      "text/plain": [
       "<Figure size 432x288 with 1 Axes>"
      ]
     },
     "metadata": {
      "needs_background": "light"
     },
     "output_type": "display_data"
    },
    {
     "name": "stdout",
     "output_type": "stream",
     "text": [
      "AUC value is 0.9940298507462686 \n"
     ]
    }
   ],
   "source": [
    "from sklearn.metrics import roc_curve,auc\n",
    "fpr, tpr, threshold= roc_curve(pred_test,y_test)\n",
    "plt.plot(fpr, tpr)\n",
    "plt.xlabel(\"False Positive Rate\")\n",
    "plt.ylabel(\"True Positive Rate\")\n",
    "plt.title(\"ROC curve\")\n",
    "plt.show()\n",
    "print(\"AUC value is {} \".format(auc(fpr, tpr)))"
   ]
  },
  {
   "cell_type": "markdown",
   "id": "4f83eba4",
   "metadata": {},
   "source": [
    "## AUC score for Random Forest is = 99.40%"
   ]
  },
  {
   "cell_type": "markdown",
   "id": "09389f12",
   "metadata": {},
   "source": [
    "# DecisionTreeClassifier"
   ]
  },
  {
   "cell_type": "code",
   "execution_count": 96,
   "id": "4ffb3f69",
   "metadata": {},
   "outputs": [],
   "source": [
    "from sklearn.model_selection import train_test_split\n",
    "from sklearn.ensemble import RandomForestClassifier\n",
    "from sklearn.tree import DecisionTreeClassifier\n",
    "from sklearn.linear_model import LogisticRegression\n",
    "from sklearn.metrics import accuracy_score,confusion_matrix,f1_score,classification_report"
   ]
  },
  {
   "cell_type": "code",
   "execution_count": 97,
   "id": "16fce0ce",
   "metadata": {},
   "outputs": [],
   "source": [
    "dt=DecisionTreeClassifier()"
   ]
  },
  {
   "cell_type": "code",
   "execution_count": 98,
   "id": "cac8535e",
   "metadata": {},
   "outputs": [
    {
     "name": "stdout",
     "output_type": "stream",
     "text": [
      "At random state 55 The model performs very well\n",
      "At random state  55\n",
      "Training accuracy is :  99.4255703266043\n",
      "Testing r2 score is :  99.35992122107336\n",
      "At random state 57 The model performs very well\n",
      "At random state  57\n",
      "Training accuracy is :  99.40915805022156\n",
      "Testing r2 score is :  99.40915805022156\n",
      "At random state 61 The model performs very well\n",
      "At random state  61\n",
      "Training accuracy is :  99.40915805022156\n",
      "Testing r2 score is :  99.40915805022156\n",
      "At random state 66 The model performs very well\n",
      "At random state  66\n",
      "Training accuracy is :  99.40915805022156\n",
      "Testing r2 score is :  99.40915805022156\n",
      "At random state 69 The model performs very well\n",
      "At random state  69\n",
      "Training accuracy is :  99.4255703266043\n",
      "Testing r2 score is :  99.35992122107336\n",
      "At random state 83 The model performs very well\n",
      "At random state  83\n",
      "Training accuracy is :  99.40915805022156\n",
      "Testing r2 score is :  99.40915805022156\n",
      "At random state 85 The model performs very well\n",
      "At random state  85\n",
      "Training accuracy is :  99.4255703266043\n",
      "Testing r2 score is :  99.35992122107336\n",
      "At random state 93 The model performs very well\n",
      "At random state  93\n",
      "Training accuracy is :  99.40915805022156\n",
      "Testing r2 score is :  99.40915805022156\n",
      "At random state 104 The model performs very well\n",
      "At random state  104\n",
      "Training accuracy is :  99.40915805022156\n",
      "Testing r2 score is :  99.40915805022156\n",
      "At random state 106 The model performs very well\n",
      "At random state  106\n",
      "Training accuracy is :  99.40915805022156\n",
      "Testing r2 score is :  99.40915805022156\n",
      "At random state 112 The model performs very well\n",
      "At random state  112\n",
      "Training accuracy is :  99.4255703266043\n",
      "Testing r2 score is :  99.35992122107336\n",
      "At random state 115 The model performs very well\n",
      "At random state  115\n",
      "Training accuracy is :  99.40915805022156\n",
      "Testing r2 score is :  99.40915805022156\n",
      "At random state 119 The model performs very well\n",
      "At random state  119\n",
      "Training accuracy is :  99.4255703266043\n",
      "Testing r2 score is :  99.35992122107336\n",
      "At random state 123 The model performs very well\n",
      "At random state  123\n",
      "Training accuracy is :  99.40915805022156\n",
      "Testing r2 score is :  99.40915805022156\n",
      "At random state 129 The model performs very well\n",
      "At random state  129\n",
      "Training accuracy is :  99.4255703266043\n",
      "Testing r2 score is :  99.35992122107336\n",
      "At random state 140 The model performs very well\n",
      "At random state  140\n",
      "Training accuracy is :  99.40915805022156\n",
      "Testing r2 score is :  99.40915805022156\n",
      "At random state 142 The model performs very well\n",
      "At random state  142\n",
      "Training accuracy is :  99.4255703266043\n",
      "Testing r2 score is :  99.35992122107336\n",
      "At random state 145 The model performs very well\n",
      "At random state  145\n",
      "Training accuracy is :  99.4255703266043\n",
      "Testing r2 score is :  99.35992122107336\n",
      "At random state 148 The model performs very well\n",
      "At random state  148\n",
      "Training accuracy is :  99.4255703266043\n",
      "Testing r2 score is :  99.35992122107336\n",
      "At random state 149 The model performs very well\n",
      "At random state  149\n",
      "Training accuracy is :  99.4255703266043\n",
      "Testing r2 score is :  99.35992122107336\n",
      "At random state 154 The model performs very well\n",
      "At random state  154\n",
      "Training accuracy is :  99.40915805022156\n",
      "Testing r2 score is :  99.40915805022156\n",
      "At random state 155 The model performs very well\n",
      "At random state  155\n",
      "Training accuracy is :  99.40915805022156\n",
      "Testing r2 score is :  99.40915805022156\n",
      "At random state 157 The model performs very well\n",
      "At random state  157\n",
      "Training accuracy is :  99.4255703266043\n",
      "Testing r2 score is :  99.35992122107336\n",
      "At random state 158 The model performs very well\n",
      "At random state  158\n",
      "Training accuracy is :  99.4255703266043\n",
      "Testing r2 score is :  99.35992122107336\n",
      "At random state 170 The model performs very well\n",
      "At random state  170\n",
      "Training accuracy is :  99.4255703266043\n",
      "Testing r2 score is :  99.35992122107336\n",
      "At random state 171 The model performs very well\n",
      "At random state  171\n",
      "Training accuracy is :  99.4255703266043\n",
      "Testing r2 score is :  99.35992122107336\n",
      "At random state 172 The model performs very well\n",
      "At random state  172\n",
      "Training accuracy is :  99.4255703266043\n",
      "Testing r2 score is :  99.35992122107336\n",
      "At random state 173 The model performs very well\n",
      "At random state  173\n",
      "Training accuracy is :  99.4255703266043\n",
      "Testing r2 score is :  99.35992122107336\n",
      "At random state 174 The model performs very well\n",
      "At random state  174\n",
      "Training accuracy is :  99.40915805022156\n",
      "Testing r2 score is :  99.40915805022156\n",
      "At random state 179 The model performs very well\n",
      "At random state  179\n",
      "Training accuracy is :  99.4255703266043\n",
      "Testing r2 score is :  99.35992122107336\n",
      "At random state 180 The model performs very well\n",
      "At random state  180\n",
      "Training accuracy is :  99.40915805022156\n",
      "Testing r2 score is :  99.40915805022156\n",
      "At random state 184 The model performs very well\n",
      "At random state  184\n",
      "Training accuracy is :  99.40915805022156\n",
      "Testing r2 score is :  99.40915805022156\n",
      "At random state 185 The model performs very well\n",
      "At random state  185\n",
      "Training accuracy is :  99.40915805022156\n",
      "Testing r2 score is :  99.40915805022156\n",
      "At random state 186 The model performs very well\n",
      "At random state  186\n",
      "Training accuracy is :  99.4255703266043\n",
      "Testing r2 score is :  99.35992122107336\n",
      "At random state 187 The model performs very well\n",
      "At random state  187\n",
      "Training accuracy is :  99.40915805022156\n",
      "Testing r2 score is :  99.40915805022156\n",
      "At random state 188 The model performs very well\n",
      "At random state  188\n",
      "Training accuracy is :  99.40915805022156\n",
      "Testing r2 score is :  99.40915805022156\n",
      "At random state 189 The model performs very well\n",
      "At random state  189\n",
      "Training accuracy is :  99.40915805022156\n",
      "Testing r2 score is :  99.40915805022156\n",
      "At random state 191 The model performs very well\n",
      "At random state  191\n",
      "Training accuracy is :  99.40915805022156\n",
      "Testing r2 score is :  99.40915805022156\n",
      "At random state 194 The model performs very well\n",
      "At random state  194\n",
      "Training accuracy is :  99.4255703266043\n",
      "Testing r2 score is :  99.35992122107336\n",
      "At random state 195 The model performs very well\n",
      "At random state  195\n",
      "Training accuracy is :  99.40915805022156\n",
      "Testing r2 score is :  99.40915805022156\n",
      "At random state 197 The model performs very well\n",
      "At random state  197\n",
      "Training accuracy is :  99.4255703266043\n",
      "Testing r2 score is :  99.35992122107336\n",
      "At random state 199 The model performs very well\n",
      "At random state  199\n",
      "Training accuracy is :  99.4255703266043\n",
      "Testing r2 score is :  99.35992122107336\n"
     ]
    }
   ],
   "source": [
    "for i in range(50,200):\n",
    "    x_train,x_test,y_train,y_test=train_test_split(x,y,test_size=0.25,random_state=i)\n",
    "    dt.fit(x_train,y_train)\n",
    "    pred_train=dt.predict(x_train)\n",
    "    pred_test=dt.predict(x_test)\n",
    "    if round(accuracy_score(y_train,pred_train)*100,1)==round(accuracy_score(y_test,pred_test)*100,1):\n",
    "        print(\"At random state\", i , \"The model performs very well\")\n",
    "        print(\"At random state \", i)\n",
    "        print(\"Training accuracy is : \", accuracy_score(y_train,pred_train)*100)\n",
    "        print(\"Testing r2 score is : \", accuracy_score(y_test,pred_test)*100)"
   ]
  },
  {
   "cell_type": "code",
   "execution_count": 99,
   "id": "911d0122",
   "metadata": {},
   "outputs": [
    {
     "name": "stdout",
     "output_type": "stream",
     "text": [
      "99.40915805022156\n",
      "              precision    recall  f1-score   support\n",
      "\n",
      "           0       1.00      0.99      0.99      1069\n",
      "           1       0.99      1.00      0.99       962\n",
      "\n",
      "    accuracy                           0.99      2031\n",
      "   macro avg       0.99      0.99      0.99      2031\n",
      "weighted avg       0.99      0.99      0.99      2031\n",
      "\n"
     ]
    }
   ],
   "source": [
    " x_train,x_test,y_train,y_test=train_test_split(x,y,test_size=0.25,random_state=11)\n",
    "dt.fit(x_train,y_train)\n",
    "pred_train=dt.predict(x_train)\n",
    "pred_test=dt.predict(x_test)\n",
    "print(accuracy_score(y_test,pred_test)*100)\n",
    "print(classification_report(y_test,pred_test))"
   ]
  },
  {
   "cell_type": "markdown",
   "id": "eb47e47a",
   "metadata": {},
   "source": [
    "## Cross Validation for Decision Tree"
   ]
  },
  {
   "cell_type": "code",
   "execution_count": 100,
   "id": "b88001c1",
   "metadata": {},
   "outputs": [
    {
     "name": "stdout",
     "output_type": "stream",
     "text": [
      "at cv :- 10\n",
      "cross validation score is  0.9637067602203115\n",
      "accuracy score is  0.9940915805022157\n",
      "\n",
      "\n",
      "at cv :- 11\n",
      "cross validation score is  0.9630910911151183\n",
      "accuracy score is  0.9940915805022157\n",
      "\n",
      "\n",
      "at cv :- 12\n",
      "cross validation score is  0.9630723781388478\n",
      "accuracy score is  0.9940915805022157\n",
      "\n",
      "\n",
      "at cv :- 13\n",
      "cross validation score is  0.9667692307692308\n",
      "accuracy score is  0.9940915805022157\n",
      "\n",
      "\n",
      "at cv :- 14\n",
      "cross validation score is  0.972578915238717\n",
      "accuracy score is  0.9940915805022157\n",
      "\n",
      "\n",
      "at cv :- 15\n",
      "cross validation score is  0.984250385941937\n",
      "accuracy score is  0.9940915805022157\n",
      "\n",
      "\n",
      "at cv :- 16\n",
      "cross validation score is  0.9901516563388156\n",
      "accuracy score is  0.9940915805022157\n",
      "\n",
      "\n",
      "at cv :- 17\n",
      "cross validation score is  0.9901550578390353\n",
      "accuracy score is  0.9940915805022157\n",
      "\n",
      "\n",
      "at cv :- 18\n",
      "cross validation score is  0.9872104925795839\n",
      "accuracy score is  0.9940915805022157\n",
      "\n",
      "\n",
      "at cv :- 19\n",
      "cross validation score is  0.988187874312716\n",
      "accuracy score is  0.9940915805022157\n",
      "\n",
      "\n",
      "at cv :- 20\n",
      "cross validation score is  0.9924979726703864\n",
      "accuracy score is  0.9940915805022157\n",
      "\n",
      "\n",
      "at cv :- 21\n",
      "cross validation score is  0.9923698335555186\n",
      "accuracy score is  0.9940915805022157\n",
      "\n",
      "\n",
      "at cv :- 22\n",
      "cross validation score is  0.9940948709241393\n",
      "accuracy score is  0.9940915805022157\n",
      "\n",
      "\n",
      "at cv :- 23\n",
      "cross validation score is  0.9940952484337847\n",
      "accuracy score is  0.9940915805022157\n",
      "\n",
      "\n",
      "at cv :- 24\n",
      "cross validation score is  0.9940915676109685\n",
      "accuracy score is  0.9940915805022157\n",
      "\n",
      "\n",
      "at cv :- 25\n",
      "cross validation score is  0.9940923076923076\n",
      "accuracy score is  0.9940915805022157\n",
      "\n",
      "\n",
      "at cv :- 26\n",
      "cross validation score is  0.9924948484791198\n",
      "accuracy score is  0.9940915805022157\n",
      "\n",
      "\n",
      "at cv :- 27\n",
      "cross validation score is  0.9926172019195276\n",
      "accuracy score is  0.9940915805022157\n",
      "\n",
      "\n",
      "at cv :- 28\n",
      "cross validation score is  0.9924995344742945\n",
      "accuracy score is  0.9940915805022157\n",
      "\n",
      "\n",
      "at cv :- 29\n",
      "cross validation score is  0.9940952439387831\n",
      "accuracy score is  0.9940915805022157\n",
      "\n",
      "\n"
     ]
    }
   ],
   "source": [
    "pred_dt=dt.predict(x_test)\n",
    "from sklearn.model_selection import cross_val_score\n",
    "accuracy_score= accuracy_score(y_test,pred_dt)\n",
    "for i in range(10,30):\n",
    "    dtscore=cross_val_score(dt,x,y,cv=i)\n",
    "    dtsc=dtscore.mean()\n",
    "    print(\"at cv :-\",i)\n",
    "    print(\"cross validation score is \", dtsc)\n",
    "    print(\"accuracy score is \", accuracy_score)\n",
    "    print('\\n')"
   ]
  },
  {
   "cell_type": "markdown",
   "id": "ec7fc59b",
   "metadata": {},
   "source": [
    "### After applying the CV=24&25, there are no difference  between  Accuracy score & CVscore. It mean that our model is not overfit.\n",
    "\n",
    "### Though my model is already predicting 99.4% Accuracy & it is also not overfitted, that why there are no need of any hyper parameter tunning."
   ]
  },
  {
   "cell_type": "code",
   "execution_count": 101,
   "id": "3aae65cb",
   "metadata": {},
   "outputs": [
    {
     "data": {
      "image/png": "[encoded data removed]",
      "text/plain": [
       "<Figure size 432x288 with 1 Axes>"
      ]
     },
     "metadata": {
      "needs_background": "light"
     },
     "output_type": "display_data"
    },
    {
     "name": "stdout",
     "output_type": "stream",
     "text": [
      "AUC value is 0.9938398357289528 \n"
     ]
    }
   ],
   "source": [
    "from sklearn.metrics import roc_curve,auc\n",
    "fpr, tpr, threshold= roc_curve(pred_test,y_test)\n",
    "plt.plot(fpr, tpr)\n",
    "plt.xlabel(\"False Positive Rate\")\n",
    "plt.ylabel(\"True Positive Rate\")\n",
    "plt.title(\"ROC curve\")\n",
    "plt.show()\n",
    "print(\"AUC value is {} \".format(auc(fpr, tpr)))"
   ]
  },
  {
   "cell_type": "markdown",
   "id": "f1f01d6e",
   "metadata": {},
   "source": [
    "## AUC score of Decision Tree = 99.38%"
   ]
  },
  {
   "cell_type": "markdown",
   "id": "ed16980b",
   "metadata": {},
   "source": [
    "## *Conclusion:\n",
    "\n",
    "### `Random forest and Decision Tree give us the best result.`"
   ]
  },
  {
   "cell_type": "code",
   "execution_count": null,
   "id": "f4a11ba9",
   "metadata": {},
   "outputs": [],
   "source": []
  },
  {
   "cell_type": "code",
   "execution_count": null,
   "id": "c6f1d4ec",
   "metadata": {},
   "outputs": [],
   "source": []
  },
  {
   "cell_type": "markdown",
   "id": "53895ee1",
   "metadata": {},
   "source": [
    "# ****Model : 2"
   ]
  },
  {
   "cell_type": "markdown",
   "id": "f08571cf",
   "metadata": {},
   "source": [
    "### `Those features are less correlate with the target, separating them.`"
   ]
  },
  {
   "cell_type": "code",
   "execution_count": 102,
   "id": "17b4abf9",
   "metadata": {},
   "outputs": [
    {
     "data": {
      "text/html": [
       "<div>\n",
       "<style scoped>\n",
       "    .dataframe tbody tr th:only-of-type {\n",
       "        vertical-align: middle;\n",
       "    }\n",
       "\n",
       "    .dataframe tbody tr th {\n",
       "        vertical-align: top;\n",
       "    }\n",
       "\n",
       "    .dataframe thead th {\n",
       "        text-align: right;\n",
       "    }\n",
       "</style>\n",
       "<table border=\"1\" class=\"dataframe\">\n",
       "  <thead>\n",
       "    <tr style=\"text-align: right;\">\n",
       "      <th></th>\n",
       "      <th>class</th>\n",
       "      <th>cap-shape</th>\n",
       "      <th>cap-surface</th>\n",
       "      <th>cap-color</th>\n",
       "      <th>bruises</th>\n",
       "      <th>odor</th>\n",
       "      <th>gill-attachment</th>\n",
       "      <th>gill-spacing</th>\n",
       "      <th>gill-size</th>\n",
       "      <th>gill-color</th>\n",
       "      <th>...</th>\n",
       "      <th>stalk-surface-below-ring</th>\n",
       "      <th>stalk-color-above-ring</th>\n",
       "      <th>stalk-color-below-ring</th>\n",
       "      <th>veil-type</th>\n",
       "      <th>veil-color</th>\n",
       "      <th>ring-number</th>\n",
       "      <th>ring-type</th>\n",
       "      <th>spore-print-color</th>\n",
       "      <th>population</th>\n",
       "      <th>habitat</th>\n",
       "    </tr>\n",
       "  </thead>\n",
       "  <tbody>\n",
       "    <tr>\n",
       "      <th>0</th>\n",
       "      <td>p</td>\n",
       "      <td>x</td>\n",
       "      <td>s</td>\n",
       "      <td>n</td>\n",
       "      <td>t</td>\n",
       "      <td>p</td>\n",
       "      <td>f</td>\n",
       "      <td>c</td>\n",
       "      <td>n</td>\n",
       "      <td>k</td>\n",
       "      <td>...</td>\n",
       "      <td>s</td>\n",
       "      <td>w</td>\n",
       "      <td>w</td>\n",
       "      <td>p</td>\n",
       "      <td>w</td>\n",
       "      <td>o</td>\n",
       "      <td>p</td>\n",
       "      <td>k</td>\n",
       "      <td>s</td>\n",
       "      <td>u</td>\n",
       "    </tr>\n",
       "    <tr>\n",
       "      <th>1</th>\n",
       "      <td>e</td>\n",
       "      <td>x</td>\n",
       "      <td>s</td>\n",
       "      <td>y</td>\n",
       "      <td>t</td>\n",
       "      <td>a</td>\n",
       "      <td>f</td>\n",
       "      <td>c</td>\n",
       "      <td>b</td>\n",
       "      <td>k</td>\n",
       "      <td>...</td>\n",
       "      <td>s</td>\n",
       "      <td>w</td>\n",
       "      <td>w</td>\n",
       "      <td>p</td>\n",
       "      <td>w</td>\n",
       "      <td>o</td>\n",
       "      <td>p</td>\n",
       "      <td>n</td>\n",
       "      <td>n</td>\n",
       "      <td>g</td>\n",
       "    </tr>\n",
       "    <tr>\n",
       "      <th>2</th>\n",
       "      <td>e</td>\n",
       "      <td>b</td>\n",
       "      <td>s</td>\n",
       "      <td>w</td>\n",
       "      <td>t</td>\n",
       "      <td>l</td>\n",
       "      <td>f</td>\n",
       "      <td>c</td>\n",
       "      <td>b</td>\n",
       "      <td>n</td>\n",
       "      <td>...</td>\n",
       "      <td>s</td>\n",
       "      <td>w</td>\n",
       "      <td>w</td>\n",
       "      <td>p</td>\n",
       "      <td>w</td>\n",
       "      <td>o</td>\n",
       "      <td>p</td>\n",
       "      <td>n</td>\n",
       "      <td>n</td>\n",
       "      <td>m</td>\n",
       "    </tr>\n",
       "    <tr>\n",
       "      <th>3</th>\n",
       "      <td>p</td>\n",
       "      <td>x</td>\n",
       "      <td>y</td>\n",
       "      <td>w</td>\n",
       "      <td>t</td>\n",
       "      <td>p</td>\n",
       "      <td>f</td>\n",
       "      <td>c</td>\n",
       "      <td>n</td>\n",
       "      <td>n</td>\n",
       "      <td>...</td>\n",
       "      <td>s</td>\n",
       "      <td>w</td>\n",
       "      <td>w</td>\n",
       "      <td>p</td>\n",
       "      <td>w</td>\n",
       "      <td>o</td>\n",
       "      <td>p</td>\n",
       "      <td>k</td>\n",
       "      <td>s</td>\n",
       "      <td>u</td>\n",
       "    </tr>\n",
       "    <tr>\n",
       "      <th>4</th>\n",
       "      <td>e</td>\n",
       "      <td>x</td>\n",
       "      <td>s</td>\n",
       "      <td>g</td>\n",
       "      <td>f</td>\n",
       "      <td>n</td>\n",
       "      <td>f</td>\n",
       "      <td>w</td>\n",
       "      <td>b</td>\n",
       "      <td>k</td>\n",
       "      <td>...</td>\n",
       "      <td>s</td>\n",
       "      <td>w</td>\n",
       "      <td>w</td>\n",
       "      <td>p</td>\n",
       "      <td>w</td>\n",
       "      <td>o</td>\n",
       "      <td>e</td>\n",
       "      <td>n</td>\n",
       "      <td>a</td>\n",
       "      <td>g</td>\n",
       "    </tr>\n",
       "    <tr>\n",
       "      <th>...</th>\n",
       "      <td>...</td>\n",
       "      <td>...</td>\n",
       "      <td>...</td>\n",
       "      <td>...</td>\n",
       "      <td>...</td>\n",
       "      <td>...</td>\n",
       "      <td>...</td>\n",
       "      <td>...</td>\n",
       "      <td>...</td>\n",
       "      <td>...</td>\n",
       "      <td>...</td>\n",
       "      <td>...</td>\n",
       "      <td>...</td>\n",
       "      <td>...</td>\n",
       "      <td>...</td>\n",
       "      <td>...</td>\n",
       "      <td>...</td>\n",
       "      <td>...</td>\n",
       "      <td>...</td>\n",
       "      <td>...</td>\n",
       "      <td>...</td>\n",
       "    </tr>\n",
       "    <tr>\n",
       "      <th>8119</th>\n",
       "      <td>e</td>\n",
       "      <td>k</td>\n",
       "      <td>s</td>\n",
       "      <td>n</td>\n",
       "      <td>f</td>\n",
       "      <td>n</td>\n",
       "      <td>a</td>\n",
       "      <td>c</td>\n",
       "      <td>b</td>\n",
       "      <td>y</td>\n",
       "      <td>...</td>\n",
       "      <td>s</td>\n",
       "      <td>o</td>\n",
       "      <td>o</td>\n",
       "      <td>p</td>\n",
       "      <td>o</td>\n",
       "      <td>o</td>\n",
       "      <td>p</td>\n",
       "      <td>b</td>\n",
       "      <td>c</td>\n",
       "      <td>l</td>\n",
       "    </tr>\n",
       "    <tr>\n",
       "      <th>8120</th>\n",
       "      <td>e</td>\n",
       "      <td>x</td>\n",
       "      <td>s</td>\n",
       "      <td>n</td>\n",
       "      <td>f</td>\n",
       "      <td>n</td>\n",
       "      <td>a</td>\n",
       "      <td>c</td>\n",
       "      <td>b</td>\n",
       "      <td>y</td>\n",
       "      <td>...</td>\n",
       "      <td>s</td>\n",
       "      <td>o</td>\n",
       "      <td>o</td>\n",
       "      <td>p</td>\n",
       "      <td>n</td>\n",
       "      <td>o</td>\n",
       "      <td>p</td>\n",
       "      <td>b</td>\n",
       "      <td>v</td>\n",
       "      <td>l</td>\n",
       "    </tr>\n",
       "    <tr>\n",
       "      <th>8121</th>\n",
       "      <td>e</td>\n",
       "      <td>f</td>\n",
       "      <td>s</td>\n",
       "      <td>n</td>\n",
       "      <td>f</td>\n",
       "      <td>n</td>\n",
       "      <td>a</td>\n",
       "      <td>c</td>\n",
       "      <td>b</td>\n",
       "      <td>n</td>\n",
       "      <td>...</td>\n",
       "      <td>s</td>\n",
       "      <td>o</td>\n",
       "      <td>o</td>\n",
       "      <td>p</td>\n",
       "      <td>o</td>\n",
       "      <td>o</td>\n",
       "      <td>p</td>\n",
       "      <td>b</td>\n",
       "      <td>c</td>\n",
       "      <td>l</td>\n",
       "    </tr>\n",
       "    <tr>\n",
       "      <th>8122</th>\n",
       "      <td>p</td>\n",
       "      <td>k</td>\n",
       "      <td>y</td>\n",
       "      <td>n</td>\n",
       "      <td>f</td>\n",
       "      <td>y</td>\n",
       "      <td>f</td>\n",
       "      <td>c</td>\n",
       "      <td>n</td>\n",
       "      <td>b</td>\n",
       "      <td>...</td>\n",
       "      <td>k</td>\n",
       "      <td>w</td>\n",
       "      <td>w</td>\n",
       "      <td>p</td>\n",
       "      <td>w</td>\n",
       "      <td>o</td>\n",
       "      <td>e</td>\n",
       "      <td>w</td>\n",
       "      <td>v</td>\n",
       "      <td>l</td>\n",
       "    </tr>\n",
       "    <tr>\n",
       "      <th>8123</th>\n",
       "      <td>e</td>\n",
       "      <td>x</td>\n",
       "      <td>s</td>\n",
       "      <td>n</td>\n",
       "      <td>f</td>\n",
       "      <td>n</td>\n",
       "      <td>a</td>\n",
       "      <td>c</td>\n",
       "      <td>b</td>\n",
       "      <td>y</td>\n",
       "      <td>...</td>\n",
       "      <td>s</td>\n",
       "      <td>o</td>\n",
       "      <td>o</td>\n",
       "      <td>p</td>\n",
       "      <td>o</td>\n",
       "      <td>o</td>\n",
       "      <td>p</td>\n",
       "      <td>o</td>\n",
       "      <td>c</td>\n",
       "      <td>l</td>\n",
       "    </tr>\n",
       "  </tbody>\n",
       "</table>\n",
       "<p>8124 rows × 23 columns</p>\n",
       "</div>"
      ],
      "text/plain": [
       "     class cap-shape cap-surface cap-color bruises odor gill-attachment  \\\n",
       "0        p         x           s         n       t    p               f   \n",
       "1        e         x           s         y       t    a               f   \n",
       "2        e         b           s         w       t    l               f   \n",
       "3        p         x           y         w       t    p               f   \n",
       "4        e         x           s         g       f    n               f   \n",
       "...    ...       ...         ...       ...     ...  ...             ...   \n",
       "8119     e         k           s         n       f    n               a   \n",
       "8120     e         x           s         n       f    n               a   \n",
       "8121     e         f           s         n       f    n               a   \n",
       "8122     p         k           y         n       f    y               f   \n",
       "8123     e         x           s         n       f    n               a   \n",
       "\n",
       "     gill-spacing gill-size gill-color  ... stalk-surface-below-ring  \\\n",
       "0               c         n          k  ...                        s   \n",
       "1               c         b          k  ...                        s   \n",
       "2               c         b          n  ...                        s   \n",
       "3               c         n          n  ...                        s   \n",
       "4               w         b          k  ...                        s   \n",
       "...           ...       ...        ...  ...                      ...   \n",
       "8119            c         b          y  ...                        s   \n",
       "8120            c         b          y  ...                        s   \n",
       "8121            c         b          n  ...                        s   \n",
       "8122            c         n          b  ...                        k   \n",
       "8123            c         b          y  ...                        s   \n",
       "\n",
       "     stalk-color-above-ring stalk-color-below-ring veil-type veil-color  \\\n",
       "0                         w                      w         p          w   \n",
       "1                         w                      w         p          w   \n",
       "2                         w                      w         p          w   \n",
       "3                         w                      w         p          w   \n",
       "4                         w                      w         p          w   \n",
       "...                     ...                    ...       ...        ...   \n",
       "8119                      o                      o         p          o   \n",
       "8120                      o                      o         p          n   \n",
       "8121                      o                      o         p          o   \n",
       "8122                      w                      w         p          w   \n",
       "8123                      o                      o         p          o   \n",
       "\n",
       "     ring-number ring-type spore-print-color population habitat  \n",
       "0              o         p                 k          s       u  \n",
       "1              o         p                 n          n       g  \n",
       "2              o         p                 n          n       m  \n",
       "3              o         p                 k          s       u  \n",
       "4              o         e                 n          a       g  \n",
       "...          ...       ...               ...        ...     ...  \n",
       "8119           o         p                 b          c       l  \n",
       "8120           o         p                 b          v       l  \n",
       "8121           o         p                 b          c       l  \n",
       "8122           o         e                 w          v       l  \n",
       "8123           o         p                 o          c       l  \n",
       "\n",
       "[8124 rows x 23 columns]"
      ]
     },
     "execution_count": 102,
     "metadata": {},
     "output_type": "execute_result"
    }
   ],
   "source": [
    "df=pd.read_csv(r\"mushrooms.csv\")\n",
    "df"
   ]
  },
  {
   "cell_type": "code",
   "execution_count": 103,
   "id": "8a73885b",
   "metadata": {},
   "outputs": [
    {
     "data": {
      "text/plain": [
       "Index(['class', 'cap-shape', 'cap-surface', 'cap-color', 'bruises', 'odor',\n",
       "       'gill-attachment', 'gill-spacing', 'gill-size', 'gill-color',\n",
       "       'stalk-shape', 'stalk-root', 'stalk-surface-above-ring',\n",
       "       'stalk-surface-below-ring', 'stalk-color-above-ring',\n",
       "       'stalk-color-below-ring', 'veil-type', 'veil-color', 'ring-number',\n",
       "       'ring-type', 'spore-print-color', 'population', 'habitat'],\n",
       "      dtype='object')"
      ]
     },
     "execution_count": 103,
     "metadata": {},
     "output_type": "execute_result"
    }
   ],
   "source": [
    "df.columns"
   ]
  },
  {
   "cell_type": "markdown",
   "id": "82cb454e",
   "metadata": {},
   "source": [
    "# Label Encoding"
   ]
  },
  {
   "cell_type": "code",
   "execution_count": 104,
   "id": "c0afb121",
   "metadata": {},
   "outputs": [
    {
     "data": {
      "text/html": [
       "<div>\n",
       "<style scoped>\n",
       "    .dataframe tbody tr th:only-of-type {\n",
       "        vertical-align: middle;\n",
       "    }\n",
       "\n",
       "    .dataframe tbody tr th {\n",
       "        vertical-align: top;\n",
       "    }\n",
       "\n",
       "    .dataframe thead th {\n",
       "        text-align: right;\n",
       "    }\n",
       "</style>\n",
       "<table border=\"1\" class=\"dataframe\">\n",
       "  <thead>\n",
       "    <tr style=\"text-align: right;\">\n",
       "      <th></th>\n",
       "      <th>class</th>\n",
       "      <th>cap-shape</th>\n",
       "      <th>cap-surface</th>\n",
       "      <th>cap-color</th>\n",
       "      <th>bruises</th>\n",
       "      <th>odor</th>\n",
       "      <th>gill-attachment</th>\n",
       "      <th>gill-spacing</th>\n",
       "      <th>gill-size</th>\n",
       "      <th>gill-color</th>\n",
       "      <th>...</th>\n",
       "      <th>stalk-surface-below-ring</th>\n",
       "      <th>stalk-color-above-ring</th>\n",
       "      <th>stalk-color-below-ring</th>\n",
       "      <th>veil-type</th>\n",
       "      <th>veil-color</th>\n",
       "      <th>ring-number</th>\n",
       "      <th>ring-type</th>\n",
       "      <th>spore-print-color</th>\n",
       "      <th>population</th>\n",
       "      <th>habitat</th>\n",
       "    </tr>\n",
       "  </thead>\n",
       "  <tbody>\n",
       "    <tr>\n",
       "      <th>0</th>\n",
       "      <td>1</td>\n",
       "      <td>5</td>\n",
       "      <td>2</td>\n",
       "      <td>4</td>\n",
       "      <td>1</td>\n",
       "      <td>6</td>\n",
       "      <td>1</td>\n",
       "      <td>0</td>\n",
       "      <td>1</td>\n",
       "      <td>4</td>\n",
       "      <td>...</td>\n",
       "      <td>2</td>\n",
       "      <td>7</td>\n",
       "      <td>7</td>\n",
       "      <td>0</td>\n",
       "      <td>2</td>\n",
       "      <td>1</td>\n",
       "      <td>4</td>\n",
       "      <td>2</td>\n",
       "      <td>3</td>\n",
       "      <td>5</td>\n",
       "    </tr>\n",
       "    <tr>\n",
       "      <th>1</th>\n",
       "      <td>0</td>\n",
       "      <td>5</td>\n",
       "      <td>2</td>\n",
       "      <td>9</td>\n",
       "      <td>1</td>\n",
       "      <td>0</td>\n",
       "      <td>1</td>\n",
       "      <td>0</td>\n",
       "      <td>0</td>\n",
       "      <td>4</td>\n",
       "      <td>...</td>\n",
       "      <td>2</td>\n",
       "      <td>7</td>\n",
       "      <td>7</td>\n",
       "      <td>0</td>\n",
       "      <td>2</td>\n",
       "      <td>1</td>\n",
       "      <td>4</td>\n",
       "      <td>3</td>\n",
       "      <td>2</td>\n",
       "      <td>1</td>\n",
       "    </tr>\n",
       "    <tr>\n",
       "      <th>2</th>\n",
       "      <td>0</td>\n",
       "      <td>0</td>\n",
       "      <td>2</td>\n",
       "      <td>8</td>\n",
       "      <td>1</td>\n",
       "      <td>3</td>\n",
       "      <td>1</td>\n",
       "      <td>0</td>\n",
       "      <td>0</td>\n",
       "      <td>5</td>\n",
       "      <td>...</td>\n",
       "      <td>2</td>\n",
       "      <td>7</td>\n",
       "      <td>7</td>\n",
       "      <td>0</td>\n",
       "      <td>2</td>\n",
       "      <td>1</td>\n",
       "      <td>4</td>\n",
       "      <td>3</td>\n",
       "      <td>2</td>\n",
       "      <td>3</td>\n",
       "    </tr>\n",
       "    <tr>\n",
       "      <th>3</th>\n",
       "      <td>1</td>\n",
       "      <td>5</td>\n",
       "      <td>3</td>\n",
       "      <td>8</td>\n",
       "      <td>1</td>\n",
       "      <td>6</td>\n",
       "      <td>1</td>\n",
       "      <td>0</td>\n",
       "      <td>1</td>\n",
       "      <td>5</td>\n",
       "      <td>...</td>\n",
       "      <td>2</td>\n",
       "      <td>7</td>\n",
       "      <td>7</td>\n",
       "      <td>0</td>\n",
       "      <td>2</td>\n",
       "      <td>1</td>\n",
       "      <td>4</td>\n",
       "      <td>2</td>\n",
       "      <td>3</td>\n",
       "      <td>5</td>\n",
       "    </tr>\n",
       "    <tr>\n",
       "      <th>4</th>\n",
       "      <td>0</td>\n",
       "      <td>5</td>\n",
       "      <td>2</td>\n",
       "      <td>3</td>\n",
       "      <td>0</td>\n",
       "      <td>5</td>\n",
       "      <td>1</td>\n",
       "      <td>1</td>\n",
       "      <td>0</td>\n",
       "      <td>4</td>\n",
       "      <td>...</td>\n",
       "      <td>2</td>\n",
       "      <td>7</td>\n",
       "      <td>7</td>\n",
       "      <td>0</td>\n",
       "      <td>2</td>\n",
       "      <td>1</td>\n",
       "      <td>0</td>\n",
       "      <td>3</td>\n",
       "      <td>0</td>\n",
       "      <td>1</td>\n",
       "    </tr>\n",
       "  </tbody>\n",
       "</table>\n",
       "<p>5 rows × 23 columns</p>\n",
       "</div>"
      ],
      "text/plain": [
       "   class  cap-shape  cap-surface  cap-color  bruises  odor  gill-attachment  \\\n",
       "0      1          5            2          4        1     6                1   \n",
       "1      0          5            2          9        1     0                1   \n",
       "2      0          0            2          8        1     3                1   \n",
       "3      1          5            3          8        1     6                1   \n",
       "4      0          5            2          3        0     5                1   \n",
       "\n",
       "   gill-spacing  gill-size  gill-color  ...  stalk-surface-below-ring  \\\n",
       "0             0          1           4  ...                         2   \n",
       "1             0          0           4  ...                         2   \n",
       "2             0          0           5  ...                         2   \n",
       "3             0          1           5  ...                         2   \n",
       "4             1          0           4  ...                         2   \n",
       "\n",
       "   stalk-color-above-ring  stalk-color-below-ring  veil-type  veil-color  \\\n",
       "0                       7                       7          0           2   \n",
       "1                       7                       7          0           2   \n",
       "2                       7                       7          0           2   \n",
       "3                       7                       7          0           2   \n",
       "4                       7                       7          0           2   \n",
       "\n",
       "   ring-number  ring-type  spore-print-color  population  habitat  \n",
       "0            1          4                  2           3        5  \n",
       "1            1          4                  3           2        1  \n",
       "2            1          4                  3           2        3  \n",
       "3            1          4                  2           3        5  \n",
       "4            1          0                  3           0        1  \n",
       "\n",
       "[5 rows x 23 columns]"
      ]
     },
     "execution_count": 104,
     "metadata": {},
     "output_type": "execute_result"
    }
   ],
   "source": [
    "lb=LabelEncoder()\n",
    "for val in df.columns:\n",
    "    df[val]=lb.fit_transform(df[val])\n",
    "df.head()"
   ]
  },
  {
   "cell_type": "markdown",
   "id": "8b4a6b22",
   "metadata": {},
   "source": [
    "## Correlation:"
   ]
  },
  {
   "cell_type": "code",
   "execution_count": 107,
   "id": "4f37b66c",
   "metadata": {},
   "outputs": [
    {
     "data": {
      "text/plain": [
       "class                       1.000000\n",
       "gill-size                   0.540024\n",
       "population                  0.298686\n",
       "habitat                     0.217179\n",
       "cap-surface                 0.178446\n",
       "spore-print-color           0.171961\n",
       "veil-color                  0.145142\n",
       "gill-attachment             0.129200\n",
       "cap-shape                   0.052951\n",
       "cap-color                  -0.031384\n",
       "odor                       -0.093552\n",
       "stalk-shape                -0.102019\n",
       "stalk-color-below-ring     -0.146730\n",
       "stalk-color-above-ring     -0.154003\n",
       "ring-number                -0.214366\n",
       "stalk-surface-below-ring   -0.298801\n",
       "stalk-surface-above-ring   -0.334593\n",
       "gill-spacing               -0.348387\n",
       "stalk-root                 -0.379361\n",
       "ring-type                  -0.411771\n",
       "bruises                    -0.501530\n",
       "gill-color                 -0.530566\n",
       "veil-type                        NaN\n",
       "Name: class, dtype: float64"
      ]
     },
     "execution_count": 107,
     "metadata": {},
     "output_type": "execute_result"
    }
   ],
   "source": [
    "cor=df.corr()\n",
    "relation=cor['class'].sort_values(ascending=False)\n",
    "relation"
   ]
  },
  {
   "cell_type": "markdown",
   "id": "e113da2f",
   "metadata": {},
   "source": [
    "## Observation of above correlation:\n",
    "\n",
    "- The veil-type feature is not  related with the target variable.\n",
    "- The cap-shape, gill-attachment,veil-color features are very less correlated with the target variable.\n",
    "- The cap-color, odor,stalk-shape,stalk-color-below-ring, stalk-color-above-ring features are negatively correlated and also very less correlated.\n",
    "\n",
    "## Conclusion:\n",
    "If we drop above mentioned variables from our dataset, that it will make a very less impact on our target variable.\n",
    "\n",
    "\n",
    "## Dropping the columns:-"
   ]
  },
  {
   "cell_type": "code",
   "execution_count": 108,
   "id": "3a5109a9",
   "metadata": {},
   "outputs": [
    {
     "data": {
      "text/html": [
       "<div>\n",
       "<style scoped>\n",
       "    .dataframe tbody tr th:only-of-type {\n",
       "        vertical-align: middle;\n",
       "    }\n",
       "\n",
       "    .dataframe tbody tr th {\n",
       "        vertical-align: top;\n",
       "    }\n",
       "\n",
       "    .dataframe thead th {\n",
       "        text-align: right;\n",
       "    }\n",
       "</style>\n",
       "<table border=\"1\" class=\"dataframe\">\n",
       "  <thead>\n",
       "    <tr style=\"text-align: right;\">\n",
       "      <th></th>\n",
       "      <th>class</th>\n",
       "      <th>cap-surface</th>\n",
       "      <th>bruises</th>\n",
       "      <th>gill-spacing</th>\n",
       "      <th>gill-size</th>\n",
       "      <th>gill-color</th>\n",
       "      <th>stalk-root</th>\n",
       "      <th>stalk-surface-above-ring</th>\n",
       "      <th>stalk-surface-below-ring</th>\n",
       "      <th>ring-number</th>\n",
       "      <th>ring-type</th>\n",
       "      <th>spore-print-color</th>\n",
       "      <th>population</th>\n",
       "      <th>habitat</th>\n",
       "    </tr>\n",
       "  </thead>\n",
       "  <tbody>\n",
       "    <tr>\n",
       "      <th>0</th>\n",
       "      <td>1</td>\n",
       "      <td>2</td>\n",
       "      <td>1</td>\n",
       "      <td>0</td>\n",
       "      <td>1</td>\n",
       "      <td>4</td>\n",
       "      <td>3</td>\n",
       "      <td>2</td>\n",
       "      <td>2</td>\n",
       "      <td>1</td>\n",
       "      <td>4</td>\n",
       "      <td>2</td>\n",
       "      <td>3</td>\n",
       "      <td>5</td>\n",
       "    </tr>\n",
       "    <tr>\n",
       "      <th>1</th>\n",
       "      <td>0</td>\n",
       "      <td>2</td>\n",
       "      <td>1</td>\n",
       "      <td>0</td>\n",
       "      <td>0</td>\n",
       "      <td>4</td>\n",
       "      <td>2</td>\n",
       "      <td>2</td>\n",
       "      <td>2</td>\n",
       "      <td>1</td>\n",
       "      <td>4</td>\n",
       "      <td>3</td>\n",
       "      <td>2</td>\n",
       "      <td>1</td>\n",
       "    </tr>\n",
       "    <tr>\n",
       "      <th>2</th>\n",
       "      <td>0</td>\n",
       "      <td>2</td>\n",
       "      <td>1</td>\n",
       "      <td>0</td>\n",
       "      <td>0</td>\n",
       "      <td>5</td>\n",
       "      <td>2</td>\n",
       "      <td>2</td>\n",
       "      <td>2</td>\n",
       "      <td>1</td>\n",
       "      <td>4</td>\n",
       "      <td>3</td>\n",
       "      <td>2</td>\n",
       "      <td>3</td>\n",
       "    </tr>\n",
       "    <tr>\n",
       "      <th>3</th>\n",
       "      <td>1</td>\n",
       "      <td>3</td>\n",
       "      <td>1</td>\n",
       "      <td>0</td>\n",
       "      <td>1</td>\n",
       "      <td>5</td>\n",
       "      <td>3</td>\n",
       "      <td>2</td>\n",
       "      <td>2</td>\n",
       "      <td>1</td>\n",
       "      <td>4</td>\n",
       "      <td>2</td>\n",
       "      <td>3</td>\n",
       "      <td>5</td>\n",
       "    </tr>\n",
       "    <tr>\n",
       "      <th>4</th>\n",
       "      <td>0</td>\n",
       "      <td>2</td>\n",
       "      <td>0</td>\n",
       "      <td>1</td>\n",
       "      <td>0</td>\n",
       "      <td>4</td>\n",
       "      <td>3</td>\n",
       "      <td>2</td>\n",
       "      <td>2</td>\n",
       "      <td>1</td>\n",
       "      <td>0</td>\n",
       "      <td>3</td>\n",
       "      <td>0</td>\n",
       "      <td>1</td>\n",
       "    </tr>\n",
       "  </tbody>\n",
       "</table>\n",
       "</div>"
      ],
      "text/plain": [
       "   class  cap-surface  bruises  gill-spacing  gill-size  gill-color  \\\n",
       "0      1            2        1             0          1           4   \n",
       "1      0            2        1             0          0           4   \n",
       "2      0            2        1             0          0           5   \n",
       "3      1            3        1             0          1           5   \n",
       "4      0            2        0             1          0           4   \n",
       "\n",
       "   stalk-root  stalk-surface-above-ring  stalk-surface-below-ring  \\\n",
       "0           3                         2                         2   \n",
       "1           2                         2                         2   \n",
       "2           2                         2                         2   \n",
       "3           3                         2                         2   \n",
       "4           3                         2                         2   \n",
       "\n",
       "   ring-number  ring-type  spore-print-color  population  habitat  \n",
       "0            1          4                  2           3        5  \n",
       "1            1          4                  3           2        1  \n",
       "2            1          4                  3           2        3  \n",
       "3            1          4                  2           3        5  \n",
       "4            1          0                  3           0        1  "
      ]
     },
     "execution_count": 108,
     "metadata": {},
     "output_type": "execute_result"
    }
   ],
   "source": [
    "df=df.drop(columns=['veil-type','cap-shape','gill-attachment','veil-color','cap-color','odor','stalk-shape','stalk-color-below-ring', 'stalk-color-above-ring'])\n",
    "df.head()"
   ]
  },
  {
   "cell_type": "code",
   "execution_count": 109,
   "id": "b8a60e0e",
   "metadata": {},
   "outputs": [
    {
     "data": {
      "text/plain": [
       "(8124, 14)"
      ]
     },
     "execution_count": 109,
     "metadata": {},
     "output_type": "execute_result"
    }
   ],
   "source": [
    "df.shape"
   ]
  },
  {
   "cell_type": "code",
   "execution_count": 112,
   "id": "3fb2d9b6",
   "metadata": {},
   "outputs": [
    {
     "data": {
      "text/plain": [
       "class                       1.000000\n",
       "gill-size                   0.540024\n",
       "population                  0.298686\n",
       "habitat                     0.217179\n",
       "cap-surface                 0.178446\n",
       "spore-print-color           0.171961\n",
       "ring-number                -0.214366\n",
       "stalk-surface-below-ring   -0.298801\n",
       "stalk-surface-above-ring   -0.334593\n",
       "gill-spacing               -0.348387\n",
       "stalk-root                 -0.379361\n",
       "ring-type                  -0.411771\n",
       "bruises                    -0.501530\n",
       "gill-color                 -0.530566\n",
       "Name: class, dtype: float64"
      ]
     },
     "execution_count": 112,
     "metadata": {},
     "output_type": "execute_result"
    }
   ],
   "source": [
    "cor=df.corr()\n",
    "relation=cor['class'].sort_values(ascending=False)\n",
    "relation"
   ]
  },
  {
   "cell_type": "markdown",
   "id": "62e32d3b",
   "metadata": {},
   "source": [
    "# Plotting Heatmap"
   ]
  },
  {
   "cell_type": "code",
   "execution_count": 114,
   "id": "1aed1231",
   "metadata": {},
   "outputs": [
    {
     "data": {
      "text/plain": [
       "<AxesSubplot:>"
      ]
     },
     "execution_count": 114,
     "metadata": {},
     "output_type": "execute_result"
    },
    {
     "data": {
      "image/png": "[encoded data removed]",
      "text/plain": [
       "<Figure size 1080x504 with 2 Axes>"
      ]
     },
     "metadata": {
      "needs_background": "light"
     },
     "output_type": "display_data"
    }
   ],
   "source": [
    "plt.figure(figsize=(15,7))\n",
    "sns.heatmap(cor,annot=True, linewidths=0.5,linecolor='b',fmt='.2f')"
   ]
  },
  {
   "cell_type": "markdown",
   "id": "d37002ab",
   "metadata": {},
   "source": [
    "## Observation of Heatmap:\n",
    "\"There are not seem any multicollinearity problem. So now we are good to go."
   ]
  },
  {
   "cell_type": "code",
   "execution_count": 123,
   "id": "49271166",
   "metadata": {},
   "outputs": [],
   "source": [
    "from sklearn.model_selection import train_test_split\n",
    "from sklearn.ensemble import RandomForestClassifier\n",
    "from sklearn.metrics import accuracy_score,confusion_matrix,f1_score,classification_report\n",
    "rf=RandomForestClassifier()"
   ]
  },
  {
   "cell_type": "code",
   "execution_count": 131,
   "id": "ade51be3",
   "metadata": {},
   "outputs": [
    {
     "data": {
      "text/plain": [
       "0       1\n",
       "1       0\n",
       "2       0\n",
       "3       1\n",
       "4       0\n",
       "       ..\n",
       "8119    0\n",
       "8120    0\n",
       "8121    0\n",
       "8122    1\n",
       "8123    0\n",
       "Name: class, Length: 8124, dtype: int32"
      ]
     },
     "execution_count": 131,
     "metadata": {},
     "output_type": "execute_result"
    }
   ],
   "source": [
    "# separating dependent variable andn independent variable.\n",
    "x=df.drop('class',axis=1)\n",
    "y=df['class']\n",
    "y"
   ]
  },
  {
   "cell_type": "markdown",
   "id": "9eaa9ff7",
   "metadata": {},
   "source": [
    "## Random Forest Classifier"
   ]
  },
  {
   "cell_type": "code",
   "execution_count": 125,
   "id": "74b5b616",
   "metadata": {},
   "outputs": [
    {
     "data": {
      "text/plain": [
       "RandomForestClassifier()"
      ]
     },
     "execution_count": 125,
     "metadata": {},
     "output_type": "execute_result"
    }
   ],
   "source": [
    "x_train,x_test,y_train,y_test=train_test_split(x,y,test_size=0.25,random_state=73)\n",
    "rf.fit(x_train,y_train)"
   ]
  },
  {
   "cell_type": "code",
   "execution_count": 129,
   "id": "73a8d7ce",
   "metadata": {},
   "outputs": [
    {
     "name": "stdout",
     "output_type": "stream",
     "text": [
      "Accuracy is :  100.0\n",
      "Confusion matrix is : [[1050    0]\n",
      " [   0  981]]\n",
      "              precision    recall  f1-score   support\n",
      "\n",
      "           0       1.00      1.00      1.00      1050\n",
      "           1       1.00      1.00      1.00       981\n",
      "\n",
      "    accuracy                           1.00      2031\n",
      "   macro avg       1.00      1.00      1.00      2031\n",
      "weighted avg       1.00      1.00      1.00      2031\n",
      "\n"
     ]
    }
   ],
   "source": [
    "pred_rf=rf.predict(x_test)\n",
    "accu=accuracy_score(y_test,pred_rf)*100\n",
    "print(\"Accuracy is : \", accu)\n",
    "print('Confusion matrix is :', confusion_matrix(y_test,pred_rf))\n",
    "print(classification_report(y_test,pred_rf))"
   ]
  },
  {
   "cell_type": "markdown",
   "id": "009d5631",
   "metadata": {},
   "source": [
    "## Cross Validation:"
   ]
  },
  {
   "cell_type": "code",
   "execution_count": 132,
   "id": "54b34fd2",
   "metadata": {},
   "outputs": [
    {
     "name": "stdout",
     "output_type": "stream",
     "text": [
      "at cv :- 2\n",
      "cross validation score is  0.8124076809453471\n",
      "accuracy score is  1.0\n",
      "\n",
      "\n",
      "at cv :- 3\n",
      "cross validation score is  0.8707533234859676\n",
      "accuracy score is  1.0\n",
      "\n",
      "\n",
      "at cv :- 4\n",
      "cross validation score is  0.8719842442146726\n",
      "accuracy score is  1.0\n",
      "\n",
      "\n",
      "at cv :- 5\n",
      "cross validation score is  0.895832512315271\n",
      "accuracy score is  1.0\n",
      "\n",
      "\n",
      "at cv :- 6\n",
      "cross validation score is  0.9069423929098966\n",
      "accuracy score is  1.0\n",
      "\n",
      "\n",
      "at cv :- 7\n",
      "cross validation score is  0.9152980910799675\n",
      "accuracy score is  1.0\n",
      "\n",
      "\n",
      "at cv :- 8\n",
      "cross validation score is  0.9012625576975293\n",
      "accuracy score is  1.0\n",
      "\n",
      "\n",
      "at cv :- 9\n",
      "cross validation score is  0.9330233431197696\n",
      "accuracy score is  1.0\n",
      "\n",
      "\n",
      "at cv :- 10\n",
      "cross validation score is  0.96260035506759\n",
      "accuracy score is  1.0\n",
      "\n",
      "\n",
      "at cv :- 11\n",
      "cross validation score is  0.9685078115389346\n",
      "accuracy score is  1.0\n",
      "\n",
      "\n",
      "at cv :- 12\n",
      "cross validation score is  0.9684884293451502\n",
      "accuracy score is  1.0\n",
      "\n",
      "\n",
      "at cv :- 13\n",
      "cross validation score is  0.9684923076923077\n",
      "accuracy score is  1.0\n",
      "\n",
      "\n",
      "at cv :- 14\n",
      "cross validation score is  0.9685271699041061\n",
      "accuracy score is  1.0\n",
      "\n",
      "\n",
      "at cv :- 15\n",
      "cross validation score is  0.985239852398524\n",
      "accuracy score is  1.0\n",
      "\n",
      "\n",
      "at cv :- 16\n",
      "cross validation score is  1.0\n",
      "accuracy score is  1.0\n",
      "\n",
      "\n"
     ]
    }
   ],
   "source": [
    "pred_rf=rf.predict(x_test)\n",
    "from sklearn.model_selection import cross_val_score\n",
    "accuracy_score= accuracy_score(y_test,pred_rf)\n",
    "for i in range(2,17):\n",
    "    rfscore=cross_val_score(rf,x,y,cv=i)\n",
    "    rfsc=rfscore.mean()\n",
    "    print(\"at cv :-\",i)\n",
    "    print(\"cross validation score is \", rfsc)\n",
    "    print(\"accuracy score is \", accuracy_score)\n",
    "    print('\\n')"
   ]
  },
  {
   "cell_type": "markdown",
   "id": "a1fea573",
   "metadata": {},
   "source": [
    "At cv=16, the Cross validation score and accuracy score is 100%."
   ]
  },
  {
   "cell_type": "code",
   "execution_count": 134,
   "id": "91da9489",
   "metadata": {},
   "outputs": [
    {
     "name": "stdout",
     "output_type": "stream",
     "text": [
      " Cross Val score is :  100.0 & Accuracy score is : 100.0\n"
     ]
    }
   ],
   "source": [
    "rfscore=cross_val_score(rf,x,y,cv=16).mean()*100\n",
    "print(\" Cross Val score is : \", rfscore, '& Accuracy score is :' , accuracy_score*100)"
   ]
  },
  {
   "cell_type": "markdown",
   "id": "e50e0624",
   "metadata": {},
   "source": [
    "# Logistic Regression"
   ]
  },
  {
   "cell_type": "code",
   "execution_count": 160,
   "id": "8e8bee07",
   "metadata": {},
   "outputs": [],
   "source": [
    "from sklearn.linear_model import LogisticRegression\n",
    "from sklearn.metrics import accuracy_score,confusion_matrix,f1_score,classification_report\n",
    "lr=LogisticRegression()"
   ]
  },
  {
   "cell_type": "code",
   "execution_count": 161,
   "id": "ca92cbc3",
   "metadata": {},
   "outputs": [
    {
     "name": "stdout",
     "output_type": "stream",
     "text": [
      "Accuracy is :  93.25455440669622\n",
      "Confusion matrix is : [[539 499]\n",
      " [511 482]]\n",
      "              precision    recall  f1-score   support\n",
      "\n",
      "           0       0.51      0.52      0.52      1038\n",
      "           1       0.49      0.49      0.49       993\n",
      "\n",
      "    accuracy                           0.50      2031\n",
      "   macro avg       0.50      0.50      0.50      2031\n",
      "weighted avg       0.50      0.50      0.50      2031\n",
      "\n"
     ]
    }
   ],
   "source": [
    "x_train,x_test,y_train,y_test=train_test_split(x,y,test_size=0.25,random_state=79)\n",
    "lr.fit(x_train,y_train)\n",
    "pred_train=lr.predict(x_train)\n",
    "pred_test=lr.predict(x_test)\n",
    "accuracy=accuracy_score(y_test,pred_test)*100\n",
    "print(\"Accuracy is : \", accuracy)\n",
    "print('Confusion matrix is :', confusion_matrix(y_test,pred_rf))\n",
    "print(classification_report(y_test,pred_rf))"
   ]
  },
  {
   "cell_type": "markdown",
   "id": "aa0077e5",
   "metadata": {},
   "source": [
    "## Cross Validation for logistic Regression:\n"
   ]
  },
  {
   "cell_type": "code",
   "execution_count": 162,
   "id": "04670ca2",
   "metadata": {},
   "outputs": [
    {
     "name": "stdout",
     "output_type": "stream",
     "text": [
      "at cv :- 10\n",
      "cross validation score is  0.8660637788643897\n",
      "accuracy score is  0.9325455440669621\n",
      "\n",
      "\n",
      "at cv :- 11\n",
      "cross validation score is  0.8962418668349558\n",
      "accuracy score is  0.9325455440669621\n",
      "\n",
      "\n",
      "at cv :- 12\n",
      "cross validation score is  0.9001723289020188\n",
      "accuracy score is  0.9325455440669621\n",
      "\n",
      "\n",
      "at cv :- 13\n",
      "cross validation score is  0.8996692307692307\n",
      "accuracy score is  0.9325455440669621\n",
      "\n",
      "\n",
      "at cv :- 14\n",
      "cross validation score is  0.9000786396818803\n",
      "accuracy score is  0.9325455440669621\n",
      "\n",
      "\n",
      "at cv :- 15\n",
      "cross validation score is  0.884790818333322\n",
      "accuracy score is  0.9325455440669621\n",
      "\n",
      "\n",
      "at cv :- 16\n",
      "cross validation score is  0.8911540111665036\n",
      "accuracy score is  0.9325455440669621\n",
      "\n",
      "\n",
      "at cv :- 17\n",
      "cross validation score is  0.9143149483682318\n",
      "accuracy score is  0.9325455440669621\n",
      "\n",
      "\n",
      "at cv :- 18\n",
      "cross validation score is  0.9180268582653647\n",
      "accuracy score is  0.9325455440669621\n",
      "\n",
      "\n",
      "at cv :- 19\n",
      "cross validation score is  0.9212343521589327\n",
      "accuracy score is  0.9325455440669621\n",
      "\n",
      "\n",
      "at cv :- 20\n",
      "cross validation score is  0.9225974631147047\n",
      "accuracy score is  0.9325455440669621\n",
      "\n",
      "\n",
      "at cv :- 21\n",
      "cross validation score is  0.9250241152277544\n",
      "accuracy score is  0.9325455440669621\n",
      "\n",
      "\n",
      "at cv :- 22\n",
      "cross validation score is  0.9244348561421735\n",
      "accuracy score is  0.9325455440669621\n",
      "\n",
      "\n",
      "at cv :- 23\n",
      "cross validation score is  0.9244434655961499\n",
      "accuracy score is  0.9325455440669621\n",
      "\n",
      "\n",
      "at cv :- 24\n",
      "cross validation score is  0.9242994827576174\n",
      "accuracy score is  0.9325455440669621\n",
      "\n",
      "\n"
     ]
    }
   ],
   "source": [
    "pred_lr=lr.predict(x_test)\n",
    "from sklearn.model_selection import cross_val_score\n",
    "accuracy_score= accuracy_score(y_test,pred_lr)\n",
    "for i in range(10,25):\n",
    "    lrscore=cross_val_score(lr,x,y,cv=i)\n",
    "    lsc=lrscore.mean()\n",
    "    print(\"at cv :-\",i)\n",
    "    print(\"cross validation score is \", lsc)\n",
    "    print(\"accuracy score is \", accuracy_score)\n",
    "    print('\\n')"
   ]
  },
  {
   "cell_type": "markdown",
   "id": "4d54e95c",
   "metadata": {},
   "source": [
    "#### At cv=21, the difference between cv score and accuracy score  is very less."
   ]
  },
  {
   "cell_type": "code",
   "execution_count": 163,
   "id": "a1b7d889",
   "metadata": {},
   "outputs": [
    {
     "name": "stdout",
     "output_type": "stream",
     "text": [
      " Cross Val score is :  92.50241152277545 & Accuracy score is : 93.25455440669622\n"
     ]
    }
   ],
   "source": [
    "lrscore=cross_val_score(lr,x,y,cv=21).mean()*100\n",
    "print(\" Cross Val score is : \", lrscore, '& Accuracy score is :' , accuracy_score*100)"
   ]
  },
  {
   "cell_type": "markdown",
   "id": "b0c0f40d",
   "metadata": {},
   "source": [
    "# Hyper Parameter Tunning"
   ]
  },
  {
   "cell_type": "code",
   "execution_count": 164,
   "id": "e65dae3b",
   "metadata": {},
   "outputs": [],
   "source": [
    "from sklearn.model_selection import GridSearchCV"
   ]
  },
  {
   "cell_type": "code",
   "execution_count": 156,
   "id": "f738e088",
   "metadata": {},
   "outputs": [],
   "source": [
    "parameters={'multi_class' : ['auto', 'ovr', 'multinomial'],\n",
    "'random_state' : [20,30,45],\n",
    "'max_iter' : [50,100] }"
   ]
  },
  {
   "cell_type": "code",
   "execution_count": 157,
   "id": "d9f0fb4b",
   "metadata": {},
   "outputs": [
    {
     "data": {
      "text/plain": [
       "{'max_iter': 50, 'multi_class': 'auto', 'random_state': 20}"
      ]
     },
     "execution_count": 157,
     "metadata": {},
     "output_type": "execute_result"
    }
   ],
   "source": [
    "gscv=GridSearchCV(LogisticRegression(),parameters,cv=21)\n",
    "gscv.fit(x_train,y_train)\n",
    "gscv.best_params_"
   ]
  },
  {
   "cell_type": "code",
   "execution_count": 166,
   "id": "cc5e70bd",
   "metadata": {},
   "outputs": [
    {
     "data": {
      "text/plain": [
       "0.9325455440669621"
      ]
     },
     "execution_count": 166,
     "metadata": {},
     "output_type": "execute_result"
    }
   ],
   "source": [
    "from sklearn.metrics import accuracy_score,confusion_matrix,f1_score,classification_report\n",
    "gscv_pred=gscv.best_estimator_.predict(x_test)\n",
    "accuracy_score(y_test,gscv_pred)"
   ]
  },
  {
   "cell_type": "markdown",
   "id": "74e06116",
   "metadata": {},
   "source": [
    "## After tunning the accuracy score is same...i.e. that It is the final accuracy of the our model."
   ]
  },
  {
   "cell_type": "markdown",
   "id": "7a3202ac",
   "metadata": {},
   "source": [
    "# ROC AUC Curve"
   ]
  },
  {
   "cell_type": "code",
   "execution_count": 167,
   "id": "3a2d5eef",
   "metadata": {},
   "outputs": [
    {
     "data": {
      "image/png": "[encoded data removed]",
      "text/plain": [
       "<Figure size 432x288 with 1 Axes>"
      ]
     },
     "metadata": {
      "needs_background": "light"
     },
     "output_type": "display_data"
    }
   ],
   "source": [
    "from sklearn.metrics import plot_roc_curve\n",
    "plot_roc_curve(gscv.best_estimator_,x_test,y_test)\n",
    "plt.title('ROC AUC Plot')\n",
    "plt.show()"
   ]
  },
  {
   "cell_type": "markdown",
   "id": "2b302f11",
   "metadata": {},
   "source": [
    "### `Final Accuracy is 93.25% & AUC score is 98% Which is pretty good.`"
   ]
  },
  {
   "cell_type": "markdown",
   "id": "61c55a44",
   "metadata": {},
   "source": [
    "# Saving the model in pickle format"
   ]
  },
  {
   "cell_type": "code",
   "execution_count": 168,
   "id": "1868c49a",
   "metadata": {},
   "outputs": [
    {
     "data": {
      "text/plain": [
       "['Mushroom.pkl']"
      ]
     },
     "execution_count": 168,
     "metadata": {},
     "output_type": "execute_result"
    }
   ],
   "source": [
    "import joblib\n",
    "joblib.dump(gscv.best_estimator_,'Mushroom.pkl')\n"
   ]
  },
  {
   "cell_type": "code",
   "execution_count": null,
   "id": "bbbaaf23",
   "metadata": {},
   "outputs": [],
   "source": []
  }
 ],
 "metadata": {
  "kernelspec": {
   "display_name": "Python 3",
   "language": "python",
   "name": "python3"
  },
  "language_info": {
   "codemirror_mode": {
    "name": "ipython",
    "version": 3
   },
   "file_extension": ".py",
   "mimetype": "text/x-python",
   "name": "python",
   "nbconvert_exporter": "python",
   "pygments_lexer": "ipython3",
   "version": "3.8.8"
  }
 },
 "nbformat": 4,
 "nbformat_minor": 5
}
